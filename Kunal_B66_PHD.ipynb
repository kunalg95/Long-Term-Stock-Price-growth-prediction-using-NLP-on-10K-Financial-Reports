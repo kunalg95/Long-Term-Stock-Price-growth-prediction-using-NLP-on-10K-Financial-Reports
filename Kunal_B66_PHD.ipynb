{
 "cells": [
  {
   "cell_type": "markdown",
   "metadata": {
    "colab_type": "text",
    "id": "5O8zJQFb-Txm"
   },
   "source": [
    "# Long Term Stock Price growth prediction using NLP on 10K Financial Reports \n"
   ]
  },
  {
   "cell_type": "code",
   "execution_count": 1,
   "metadata": {
    "colab": {
     "base_uri": "https://localhost:8080/",
     "height": 121
    },
    "colab_type": "code",
    "id": "x2oJ1HXXfZTf",
    "outputId": "19952956-2420-41be-b1f6-cd819b731d7c"
   },
   "outputs": [
    {
     "name": "stdout",
     "output_type": "stream",
     "text": [
      "Go to this URL in a browser: https://accounts.google.com/o/oauth2/auth?client_id=947318989803-6bn6qk8qdgf4n4g3pfee6491hc0brc4i.apps.googleusercontent.com&redirect_uri=urn%3Aietf%3Awg%3Aoauth%3A2.0%3Aoob&scope=email%20https%3A%2F%2Fwww.googleapis.com%2Fauth%2Fdocs.test%20https%3A%2F%2Fwww.googleapis.com%2Fauth%2Fdrive%20https%3A%2F%2Fwww.googleapis.com%2Fauth%2Fdrive.photos.readonly%20https%3A%2F%2Fwww.googleapis.com%2Fauth%2Fpeopleapi.readonly&response_type=code\n",
      "\n",
      "Enter your authorization code:\n",
      "··········\n",
      "Mounted at /content/driver\n"
     ]
    }
   ],
   "source": [
    "from google.colab import drive\n",
    "drive.mount('/content/driver')"
   ]
  },
  {
   "cell_type": "markdown",
   "metadata": {
    "colab_type": "text",
    "id": "9NNhiumF_zSt"
   },
   "source": [
    "## Import Libraries\n"
   ]
  },
  {
   "cell_type": "code",
   "execution_count": 2,
   "metadata": {
    "colab": {
     "base_uri": "https://localhost:8080/",
     "height": 118
    },
    "colab_type": "code",
    "id": "NUz4mZdDSEon",
    "outputId": "26865a4b-eba3-48f9-c408-b4e8772a533c"
   },
   "outputs": [
    {
     "name": "stdout",
     "output_type": "stream",
     "text": [
      "[nltk_data] Downloading package punkt to /root/nltk_data...\n",
      "[nltk_data]   Unzipping tokenizers/punkt.zip.\n",
      "[nltk_data] Downloading package stopwords to /root/nltk_data...\n",
      "[nltk_data]   Unzipping corpora/stopwords.zip.\n",
      "[nltk_data] Downloading package wordnet to /root/nltk_data...\n",
      "[nltk_data]   Unzipping corpora/wordnet.zip.\n"
     ]
    }
   ],
   "source": [
    "import nltk\n",
    "nltk.download('punkt')\n",
    "nltk.download('stopwords')\n",
    "nltk.download('wordnet')\n",
    "from nltk import word_tokenize\n",
    "\n",
    "import pandas as pd\n",
    "import numpy as np\n",
    "from sklearn.model_selection import train_test_split\n",
    "import urllib.request\n",
    "import re\n",
    "import string\n",
    "from bs4 import BeautifulSoup as bs\n",
    "import matplotlib.pyplot as plt\n",
    "\n",
    "import random\n",
    "random.seed(123)\n",
    "%matplotlib inline\n",
    "\n",
    "#ignore warnings\n",
    "import warnings\n",
    "warnings.filterwarnings('ignore')"
   ]
  },
  {
   "cell_type": "markdown",
   "metadata": {
    "colab_type": "text",
    "id": "rdle8_4uAPf1"
   },
   "source": [
    "### Load the data"
   ]
  },
  {
   "cell_type": "code",
   "execution_count": 0,
   "metadata": {
    "colab": {},
    "colab_type": "code",
    "id": "j8No3IvFRY3-"
   },
   "outputs": [],
   "source": [
    "data_train=pd.read_csv(\"/content/driver/My Drive/phd_data/Extracted_all_url.csv\")\n",
    "data_test=pd.read_csv(\"/content/driver/My Drive/phd_data/Extracted_test_url.csv\")"
   ]
  },
  {
   "cell_type": "markdown",
   "metadata": {
    "colab_type": "text",
    "id": "Xk_c6eLzAWFc"
   },
   "source": [
    "### Making a copy of the load data"
   ]
  },
  {
   "cell_type": "code",
   "execution_count": 0,
   "metadata": {
    "colab": {},
    "colab_type": "code",
    "id": "ridYcp-uB2b6"
   },
   "outputs": [],
   "source": [
    "df_train = data_train.copy()\n",
    "df_test = data_test.copy()"
   ]
  },
  {
   "cell_type": "markdown",
   "metadata": {
    "colab_type": "text",
    "id": "wTSiHXyQPdcs"
   },
   "source": [
    "**Web Scraping the data of 10-K financial report from each url which consist of identifying information about the company and the target variable**"
   ]
  },
  {
   "cell_type": "code",
   "execution_count": 0,
   "metadata": {
    "colab": {},
    "colab_type": "code",
    "id": "TzkEUF6wpkXk"
   },
   "outputs": [],
   "source": [
    "# start = '<TYPE>10-K'\n",
    "# end = '</DOCUMENT>'\n",
    "# ext_txt = []"
   ]
  },
  {
   "cell_type": "code",
   "execution_count": 0,
   "metadata": {
    "colab": {},
    "colab_type": "code",
    "id": "f9smRYptjehW"
   },
   "outputs": [],
   "source": [
    "# def find_between(s, start, end):\n",
    "#   return (s.split(start))[1].split(end)[0]"
   ]
  },
  {
   "cell_type": "code",
   "execution_count": 0,
   "metadata": {
    "colab": {
     "base_uri": "https://localhost:8080/",
     "height": 1000
    },
    "colab_type": "code",
    "id": "3EOvJIuTYJzI",
    "outputId": "a2086d5a-ce1b-42b0-b888-a07f0a9abbab"
   },
   "outputs": [
    {
     "name": "stdout",
     "output_type": "stream",
     "text": [
      "0 https://www.sec.gov/Archives/edgar/data/40533/000119312512066385/0001193125-12-066385.txt\n",
      "1 https://www.sec.gov/Archives/edgar/data/36270/0001047469-99-010544.txt\n",
      "2 https://www.sec.gov/Archives/edgar/data/315852/000095015201001323/0000950152-01-001323.txt\n",
      "3 https://www.sec.gov/Archives/edgar/data/920148/000092014809000015/0000920148-09-000015.txt\n",
      "4 https://www.sec.gov/Archives/edgar/data/96021/000095012904007097/0000950129-04-007097.txt\n",
      "5 https://www.sec.gov/Archives/edgar/data/732717/000073271706000008/0000732717-06-000008.txt\n",
      "6 https://www.sec.gov/Archives/edgar/data/1613103/000161310316000093/0001613103-16-000093.txt\n",
      "7 https://www.sec.gov/Archives/edgar/data/36270/000095012311016289/0000950123-11-016289.txt\n",
      "8 https://www.sec.gov/Archives/edgar/data/851968/0000931763-00-000482.txt\n",
      "9 https://www.sec.gov/Archives/edgar/data/879101/000143774917003269/0001437749-17-003269.txt\n",
      "10 https://www.sec.gov/Archives/edgar/data/75362/0000912057-00-012263.txt\n",
      "11 https://www.sec.gov/Archives/edgar/data/850209/000085020917000003/0000850209-17-000003.txt\n",
      "12 https://www.sec.gov/Archives/edgar/data/100885/000119312505037425/0001193125-05-037425.txt\n",
      "13 https://www.sec.gov/Archives/edgar/data/1018724/000101872416000172/0001018724-16-000172.txt\n",
      "14 https://www.sec.gov/Archives/edgar/data/791907/000079190713000079/0000791907-13-000079.txt\n",
      "15 https://www.sec.gov/Archives/edgar/data/906107/000090610715000007/0000906107-15-000007.txt\n",
      "16 https://www.sec.gov/Archives/edgar/data/1424847/000095012311015424/0000950123-11-015424.txt\n",
      "17 https://www.sec.gov/Archives/edgar/data/1038357/0001038357-98-000005.txt\n",
      "18 https://www.sec.gov/Archives/edgar/data/7084/000000708402000017/0000007084-02-000017.txt\n",
      "19 https://www.sec.gov/Archives/edgar/data/804328/0000936392-96-001149.txt\n",
      "20 https://www.sec.gov/Archives/edgar/data/315852/000156459014000349/0001564590-14-000349.txt\n",
      "21 https://www.sec.gov/Archives/edgar/data/906107/000110465903004297/0001104659-03-004297.txt\n",
      "22 https://www.sec.gov/Archives/edgar/data/101778/0000912057-00-011287.txt\n",
      "23 https://www.sec.gov/Archives/edgar/data/1004980/000100498006000066/0001004980-06-000066.txt\n",
      "24 https://www.sec.gov/Archives/edgar/data/1390777/000119312508041952/0001193125-08-041952.txt\n",
      "25 https://www.sec.gov/Archives/edgar/data/29915/000110465903003205/0001104659-03-003205.txt\n",
      "26 https://www.sec.gov/Archives/edgar/data/77360/000007736016000058/0000077360-16-000058.txt\n",
      "27 https://www.sec.gov/Archives/edgar/data/56873/000110465908021727/0001104659-08-021727.txt\n",
      "28 https://www.sec.gov/Archives/edgar/data/11199/000110465909012842/0001104659-09-012842.txt\n",
      "29 https://www.sec.gov/Archives/edgar/data/1001039/000089843000003895/0000898430-00-003895.txt\n",
      "30 https://www.sec.gov/Archives/edgar/data/101829/000010182917000007/0000101829-17-000007.txt\n",
      "31 https://www.sec.gov/Archives/edgar/data/1267238/000119312513067448/0001193125-13-067448.txt\n",
      "32 https://www.sec.gov/Archives/edgar/data/702165/000070216512000043/0000702165-12-000043.txt\n",
      "33 https://www.sec.gov/Archives/edgar/data/814453/000089581301000111/0000895813-01-000111.txt\n",
      "34 https://www.sec.gov/Archives/edgar/data/1510295/000151029516000078/0001510295-16-000078.txt\n",
      "35 https://www.sec.gov/Archives/edgar/data/866787/000086678701500047/0000866787-01-500047.txt\n",
      "36 https://www.sec.gov/Archives/edgar/data/77476/000119312506039968/0001193125-06-039968.txt\n",
      "37 https://www.sec.gov/Archives/edgar/data/812074/000104746903010557/0001047469-03-010557.txt\n",
      "38 https://www.sec.gov/Archives/edgar/data/713676/0000950128-96-000238.txt\n",
      "39 https://www.sec.gov/Archives/edgar/data/40987/000119312514071170/0001193125-14-071170.txt\n",
      "40 https://www.sec.gov/Archives/edgar/data/80424/000008042414000057/0000080424-14-000057.txt\n",
      "41 https://www.sec.gov/Archives/edgar/data/4904/0000004904-96-000034.txt\n",
      "42 https://www.sec.gov/Archives/edgar/data/56873/000119312505077143/0001193125-05-077143.txt\n",
      "43 https://www.sec.gov/Archives/edgar/data/1138118/000119312510044595/0001193125-10-044595.txt\n",
      "44 https://www.sec.gov/Archives/edgar/data/849399/000084939917000009/0000849399-17-000009.txt\n",
      "45 https://www.sec.gov/Archives/edgar/data/315189/000110465910063219/0001104659-10-063219.txt\n",
      "46 https://www.sec.gov/Archives/edgar/data/914208/000095012310017949/0000950123-10-017949.txt\n",
      "47 https://www.sec.gov/Archives/edgar/data/769397/000119312503002078/0001193125-03-002078.txt\n",
      "48 https://www.sec.gov/Archives/edgar/data/1090872/000104746911010124/0001047469-11-010124.txt\n",
      "49 https://www.sec.gov/Archives/edgar/data/884905/000088490513000011/0000884905-13-000011.txt\n",
      "50 https://www.sec.gov/Archives/edgar/data/20520/000002052017000003/0000020520-17-000003.txt\n",
      "51 https://www.sec.gov/Archives/edgar/data/804753/000095013708002851/0000950137-08-002851.txt\n",
      "52 https://www.sec.gov/Archives/edgar/data/69499/000095015209001668/0000950152-09-001668.txt\n",
      "53 https://www.sec.gov/Archives/edgar/data/70858/000119312506056053/0001193125-06-056053.txt\n",
      "54 https://www.sec.gov/Archives/edgar/data/884905/000088490516000108/0000884905-16-000108.txt\n",
      "55 https://www.sec.gov/Archives/edgar/data/1458891/000095012311018607/0000950123-11-018607.txt\n",
      "56 https://www.sec.gov/Archives/edgar/data/941548/000094154810000015/0000941548-10-000015.txt\n",
      "57 https://www.sec.gov/Archives/edgar/data/1001039/000119312508240242/0001193125-08-240242.txt\n",
      "58 https://www.sec.gov/Archives/edgar/data/29915/0000029915-97-000011.txt\n",
      "59 https://www.sec.gov/Archives/edgar/data/29915/000002991513000014/0000029915-13-000014.txt\n",
      "60 https://www.sec.gov/Archives/edgar/data/1274057/000104746909001817/0001047469-09-001817.txt\n",
      "61 https://www.sec.gov/Archives/edgar/data/1043604/000089161801000244/0000891618-01-000244.txt\n",
      "62 https://www.sec.gov/Archives/edgar/data/103379/000119312512088711/0001193125-12-088711.txt\n",
      "63 https://www.sec.gov/Archives/edgar/data/1090727/000119312509040973/0001193125-09-040973.txt\n",
      "64 https://www.sec.gov/Archives/edgar/data/315189/000104746916017244/0001047469-16-017244.txt\n",
      "65 https://www.sec.gov/Archives/edgar/data/1018963/000095012804000283/0000950128-04-000283.txt\n",
      "66 https://www.sec.gov/Archives/edgar/data/59478/0000950117-98-000598.txt\n",
      "67 https://www.sec.gov/Archives/edgar/data/850209/000114420412017162/0001144204-12-017162.txt\n",
      "68 https://www.sec.gov/Archives/edgar/data/804328/000123445216000552/0001234452-16-000552.txt\n",
      "69 https://www.sec.gov/Archives/edgar/data/40545/000004055414000023/0000040554-14-000023.txt\n",
      "70 https://www.sec.gov/Archives/edgar/data/24545/000002454513000005/0000024545-13-000005.txt\n",
      "71 https://www.sec.gov/Archives/edgar/data/77360/000119312513077034/0001193125-13-077034.txt\n",
      "72 https://www.sec.gov/Archives/edgar/data/24545/000104746909001758/0001047469-09-001758.txt\n",
      "73 https://www.sec.gov/Archives/edgar/data/29915/000002991515000011/0000029915-15-000011.txt\n",
      "74 https://www.sec.gov/Archives/edgar/data/1004980/000100498017000006/0001004980-17-000006.txt\n",
      "75 https://www.sec.gov/Archives/edgar/data/732717/000073271701000019/0000732717-01-000019.txt\n",
      "76 https://www.sec.gov/Archives/edgar/data/27904/000095012310016275/0000950123-10-016275.txt\n",
      "77 https://www.sec.gov/Archives/edgar/data/19617/000095012307003015/0000950123-07-003015.txt\n",
      "78 https://www.sec.gov/Archives/edgar/data/32604/000114420407063041/0001144204-07-063041.txt\n",
      "79 https://www.sec.gov/Archives/edgar/data/1364742/000119312514076587/0001193125-14-076587.txt\n",
      "80 https://www.sec.gov/Archives/edgar/data/814453/000081445313000036/0000814453-13-000036.txt\n",
      "81 https://www.sec.gov/Archives/edgar/data/1001039/000119312510268910/0001193125-10-268910.txt\n",
      "82 https://www.sec.gov/Archives/edgar/data/1130310/000095012904001267/0000950129-04-001267.txt\n",
      "83 https://www.sec.gov/Archives/edgar/data/66740/000110465912010566/0001104659-12-010566.txt\n",
      "84 https://www.sec.gov/Archives/edgar/data/310764/000031076416000226/0000310764-16-000226.txt\n",
      "85 https://www.sec.gov/Archives/edgar/data/96223/000009622313000013/0000096223-13-000013.txt\n",
      "86 https://www.sec.gov/Archives/edgar/data/24545/000002454516000054/0000024545-16-000054.txt\n",
      "87 https://www.sec.gov/Archives/edgar/data/39911/000119312509066067/0001193125-09-066067.txt\n",
      "88 https://www.sec.gov/Archives/edgar/data/18230/000001823014000058/0000018230-14-000058.txt\n",
      "89 https://www.sec.gov/Archives/edgar/data/11199/000001119914000006/0000011199-14-000006.txt\n",
      "90 https://www.sec.gov/Archives/edgar/data/1121788/000114420408011821/0001144204-08-011821.txt\n",
      "91 https://www.sec.gov/Archives/edgar/data/51143/000104746912001742/0001047469-12-001742.txt\n",
      "92 https://www.sec.gov/Archives/edgar/data/350698/000035069817000028/0000350698-17-000028.txt\n",
      "93 https://www.sec.gov/Archives/edgar/data/702165/0000702165-94-000008.txt\n",
      "94 https://www.sec.gov/Archives/edgar/data/874766/000095012312003120/0000950123-12-003120.txt\n",
      "95 https://www.sec.gov/Archives/edgar/data/51434/000119312506046215/0001193125-06-046215.txt\n",
      "96 https://www.sec.gov/Archives/edgar/data/106535/000119312507044292/0001193125-07-044292.txt\n",
      "97 https://www.sec.gov/Archives/edgar/data/60086/000006008605000022/0000060086-05-000022.txt\n",
      "98 https://www.sec.gov/Archives/edgar/data/935703/000093570308000048/0000935703-08-000048.txt\n",
      "99 https://www.sec.gov/Archives/edgar/data/812074/0000812074-95-000006.txt\n",
      "100 https://www.sec.gov/Archives/edgar/data/936468/000119312511045739/0001193125-11-045739.txt\n",
      "101 https://www.sec.gov/Archives/edgar/data/849399/000095012310052086/0000950123-10-052086.txt\n",
      "102 https://www.sec.gov/Archives/edgar/data/14272/0000014272-99-000002.txt\n",
      "103 https://www.sec.gov/Archives/edgar/data/1496048/000149604817000018/0001496048-17-000018.txt\n",
      "104 https://www.sec.gov/Archives/edgar/data/91576/000095015205001608/0000950152-05-001608.txt\n",
      "105 https://www.sec.gov/Archives/edgar/data/872589/000153217617000008/0001532176-17-000008.txt\n",
      "106 https://www.sec.gov/Archives/edgar/data/1043604/000104360417000045/0001043604-17-000045.txt\n",
      "107 https://www.sec.gov/Archives/edgar/data/1555280/000155528015000057/0001555280-15-000057.txt\n",
      "108 https://www.sec.gov/Archives/edgar/data/80424/000119312510188769/0001193125-10-188769.txt\n",
      "109 https://www.sec.gov/Archives/edgar/data/1041061/0001041061-99-000003.txt\n",
      "110 https://www.sec.gov/Archives/edgar/data/895126/000089512616000395/0000895126-16-000395.txt\n",
      "111 https://www.sec.gov/Archives/edgar/data/899866/000119312505199537/0001193125-05-199537.txt\n",
      "112 https://www.sec.gov/Archives/edgar/data/80424/000008042413000063/0000080424-13-000063.txt\n",
      "113 https://www.sec.gov/Archives/edgar/data/1090727/000109072716000053/0001090727-16-000053.txt\n",
      "114 https://www.sec.gov/Archives/edgar/data/104169/000102140801500118/0001021408-01-500118.txt\n",
      "115 https://www.sec.gov/Archives/edgar/data/6769/000095012997001291/0000950129-97-001291.txt\n",
      "116 https://www.sec.gov/Archives/edgar/data/104169/000119312510071652/0001193125-10-071652.txt\n",
      "117 https://www.sec.gov/Archives/edgar/data/40533/000119312509033556/0001193125-09-033556.txt\n",
      "118 https://www.sec.gov/Archives/edgar/data/310158/000095012306002367/0000950123-06-002367.txt\n",
      "119 https://www.sec.gov/Archives/edgar/data/8670/000120677406001911/0001206774-06-001911.txt\n",
      "120 https://www.sec.gov/Archives/edgar/data/1090872/000109087212000018/0001090872-12-000018.txt\n",
      "121 https://www.sec.gov/Archives/edgar/data/899866/0000950110-97-001454.txt\n",
      "122 https://www.sec.gov/Archives/edgar/data/62709/0000912057-00-014263.txt\n",
      "123 https://www.sec.gov/Archives/edgar/data/1018724/000119312504029488/0001193125-04-029488.txt\n",
      "124 https://www.sec.gov/Archives/edgar/data/1126328/000104746906002772/0001047469-06-002772.txt\n",
      "125 https://www.sec.gov/Archives/edgar/data/906107/000110465904007155/0001104659-04-007155.txt\n",
      "126 https://www.sec.gov/Archives/edgar/data/62709/000093041302001103/0000930413-02-001103.txt\n",
      "127 https://www.sec.gov/Archives/edgar/data/936468/000119312513082873/0001193125-13-082873.txt\n",
      "128 https://www.sec.gov/Archives/edgar/data/1002910/000100291005000168/0001002910-05-000168.txt\n",
      "129 https://www.sec.gov/Archives/edgar/data/49196/0000950152-96-000605.txt\n",
      "130 https://www.sec.gov/Archives/edgar/data/200406/000119312512075565/0001193125-12-075565.txt\n",
      "131 https://www.sec.gov/Archives/edgar/data/80661/000095015208001442/0000950152-08-001442.txt\n",
      "132 https://www.sec.gov/Archives/edgar/data/1137774/000119312509039316/0001193125-09-039316.txt\n",
      "133 https://www.sec.gov/Archives/edgar/data/8818/0000898430-95-000424.txt\n",
      "134 https://www.sec.gov/Archives/edgar/data/872589/000120677411000263/0001206774-11-000263.txt\n",
      "135 https://www.sec.gov/Archives/edgar/data/72971/000095013407004518/0000950134-07-004518.txt\n",
      "136 https://www.sec.gov/Archives/edgar/data/850693/000085069315000002/0000850693-15-000002.txt\n",
      "137 https://www.sec.gov/Archives/edgar/data/104169/000119312508071085/0001193125-08-071085.txt\n",
      "138 https://www.sec.gov/Archives/edgar/data/59478/0000950131-99-001772.txt\n",
      "139 https://www.sec.gov/Archives/edgar/data/874766/000095012305002392/0000950123-05-002392.txt\n",
      "140 https://www.sec.gov/Archives/edgar/data/743988/0000743988-99-000004.txt\n",
      "141 https://www.sec.gov/Archives/edgar/data/39911/000119312510068386/0001193125-10-068386.txt\n",
      "142 https://www.sec.gov/Archives/edgar/data/804328/000123445215000271/0001234452-15-000271.txt\n",
      "143 https://www.sec.gov/Archives/edgar/data/7084/000000708417000008/0000007084-17-000008.txt\n",
      "144 https://www.sec.gov/Archives/edgar/data/702165/000070216502000012/0000702165-02-000012.txt\n",
      "145 https://www.sec.gov/Archives/edgar/data/1364742/000119312509041298/0001193125-09-041298.txt\n",
      "146 https://www.sec.gov/Archives/edgar/data/1041061/000104106114000007/0001041061-14-000007.txt\n",
      "147 https://www.sec.gov/Archives/edgar/data/1110783/000106880003000177/0001068800-03-000177.txt\n",
      "148 https://www.sec.gov/Archives/edgar/data/1065088/000106508813000004/0001065088-13-000004.txt\n",
      "149 https://www.sec.gov/Archives/edgar/data/101829/000119312508022346/0001193125-08-022346.txt\n",
      "150 https://www.sec.gov/Archives/edgar/data/8670/000120677408001519/0001206774-08-001519.txt\n",
      "151 https://www.sec.gov/Archives/edgar/data/39911/000003991116000269/0000039911-16-000269.txt\n",
      "152 https://www.sec.gov/Archives/edgar/data/773910/000119312511043021/0001193125-11-043021.txt\n",
      "153 https://www.sec.gov/Archives/edgar/data/8818/000095013407004370/0000950134-07-004370.txt\n",
      "154 https://www.sec.gov/Archives/edgar/data/866787/000095012311091540/0000950123-11-091540.txt\n",
      "155 https://www.sec.gov/Archives/edgar/data/92380/000095013406001553/0000950134-06-001553.txt\n",
      "156 https://www.sec.gov/Archives/edgar/data/1274057/000104746910000976/0001047469-10-000976.txt\n",
      "157 https://www.sec.gov/Archives/edgar/data/40545/000004054512000016/0000040545-12-000016.txt\n",
      "158 https://www.sec.gov/Archives/edgar/data/29915/0000029915-99-000016.txt\n",
      "159 https://www.sec.gov/Archives/edgar/data/850209/000120677405000473/0001206774-05-000473.txt\n",
      "160 https://www.sec.gov/Archives/edgar/data/794367/000095015205002623/0000950152-05-002623.txt\n",
      "161 https://www.sec.gov/Archives/edgar/data/1002910/000095013708003079/0000950137-08-003079.txt\n",
      "162 https://www.sec.gov/Archives/edgar/data/850693/000095013705002808/0000950137-05-002808.txt\n",
      "163 https://www.sec.gov/Archives/edgar/data/4904/000000490416000056/0000004904-16-000056.txt\n",
      "164 https://www.sec.gov/Archives/edgar/data/1060391/000119312512067094/0001193125-12-067094.txt\n",
      "165 https://www.sec.gov/Archives/edgar/data/1109357/000104746903009677/0001047469-03-009677.txt\n",
      "166 https://www.sec.gov/Archives/edgar/data/12927/000001292703000005/0000012927-03-000005.txt\n",
      "167 https://www.sec.gov/Archives/edgar/data/20520/000002052014000017/0000020520-14-000017.txt\n",
      "168 https://www.sec.gov/Archives/edgar/data/51434/000005143416000042/0000051434-16-000042.txt\n",
      "169 https://www.sec.gov/Archives/edgar/data/8818/0000898430-94-000185.txt\n",
      "170 https://www.sec.gov/Archives/edgar/data/912242/0000912057-00-012669.txt\n",
      "171 https://www.sec.gov/Archives/edgar/data/1004980/000100498007000057/0001004980-07-000057.txt\n",
      "172 https://www.sec.gov/Archives/edgar/data/794367/000079436712000096/0000794367-12-000096.txt\n",
      "173 https://www.sec.gov/Archives/edgar/data/702165/000070216504000053/0000702165-04-000053.txt\n",
      "174 https://www.sec.gov/Archives/edgar/data/1109357/000119312507029587/0001193125-07-029587.txt\n",
      "175 https://www.sec.gov/Archives/edgar/data/29534/000104746915002540/0001047469-15-002540.txt\n",
      "176 https://www.sec.gov/Archives/edgar/data/801898/000114036110050434/0001140361-10-050434.txt\n",
      "177 https://www.sec.gov/Archives/edgar/data/936340/000093634017000064/0000936340-17-000064.txt\n",
      "178 https://www.sec.gov/Archives/edgar/data/941548/000094154813000010/0000941548-13-000010.txt\n",
      "179 https://www.sec.gov/Archives/edgar/data/818479/000081847907000017/0000818479-07-000017.txt\n",
      "180 https://www.sec.gov/Archives/edgar/data/895126/0000950134-00-002858.txt\n",
      "181 https://www.sec.gov/Archives/edgar/data/39911/000119312512132098/0001193125-12-132098.txt\n",
      "182 https://www.sec.gov/Archives/edgar/data/108772/000119312509029257/0001193125-09-029257.txt\n",
      "183 https://www.sec.gov/Archives/edgar/data/701985/000119312509066128/0001193125-09-066128.txt\n",
      "184 https://www.sec.gov/Archives/edgar/data/1121788/000112178805000008/0001121788-05-000008.txt\n",
      "185 https://www.sec.gov/Archives/edgar/data/104169/000010416916000079/0000104169-16-000079.txt\n",
      "186 https://www.sec.gov/Archives/edgar/data/34903/000092838503000860/0000928385-03-000860.txt\n",
      "187 https://www.sec.gov/Archives/edgar/data/1032208/000008652117000017/0000086521-17-000017.txt\n",
      "188 https://www.sec.gov/Archives/edgar/data/746515/000110465906017206/0001104659-06-017206.txt\n",
      "189 https://www.sec.gov/Archives/edgar/data/7084/0000007084-98-000029.txt\n",
      "190 https://www.sec.gov/Archives/edgar/data/804753/000080475317000004/0000804753-17-000004.txt\n",
      "191 https://www.sec.gov/Archives/edgar/data/310764/000119312510042997/0001193125-10-042997.txt\n",
      "192 https://www.sec.gov/Archives/edgar/data/49196/000095015201500197/0000950152-01-500197.txt\n",
      "193 https://www.sec.gov/Archives/edgar/data/7084/000000708403000063/0000007084-03-000063.txt\n",
      "194 https://www.sec.gov/Archives/edgar/data/40545/0000040545-94-000003.txt\n",
      "195 https://www.sec.gov/Archives/edgar/data/310158/0000310158-95-000005.txt\n",
      "196 https://www.sec.gov/Archives/edgar/data/829224/000119312510266333/0001193125-10-266333.txt\n",
      "197 https://www.sec.gov/Archives/edgar/data/884905/000119312508039697/0001193125-08-039697.txt\n",
      "198 https://www.sec.gov/Archives/edgar/data/804753/000080475315000009/0000804753-15-000009.txt\n",
      "199 https://www.sec.gov/Archives/edgar/data/90185/000009018515000027/0000090185-15-000027.txt\n",
      "200 https://www.sec.gov/Archives/edgar/data/36270/000095015201500250/0000950152-01-500250.txt\n",
      "201 https://www.sec.gov/Archives/edgar/data/51143/000104746906002608/0001047469-06-002608.txt\n",
      "202 https://www.sec.gov/Archives/edgar/data/1274057/000104746905007312/0001047469-05-007312.txt\n",
      "203 https://www.sec.gov/Archives/edgar/data/31462/000155837017000944/0001558370-17-000944.txt\n",
      "204 https://www.sec.gov/Archives/edgar/data/40533/0000950133-94-000045.txt\n",
      "205 https://www.sec.gov/Archives/edgar/data/72971/0000072971-94-000003.txt\n",
      "206 https://www.sec.gov/Archives/edgar/data/1138118/000119312512089257/0001193125-12-089257.txt\n",
      "207 https://www.sec.gov/Archives/edgar/data/52988/000119312510267422/0001193125-10-267422.txt\n",
      "208 https://www.sec.gov/Archives/edgar/data/804753/000095013403003674/0000950134-03-003674.txt\n",
      "209 https://www.sec.gov/Archives/edgar/data/78003/0000950116-97-000605.txt\n",
      "210 https://www.sec.gov/Archives/edgar/data/1393612/000139361212000008/0001393612-12-000008.txt\n",
      "211 https://www.sec.gov/Archives/edgar/data/36270/000095015202001414/0000950152-02-001414.txt\n",
      "212 https://www.sec.gov/Archives/edgar/data/78814/0000950130-99-001811.txt\n",
      "213 https://www.sec.gov/Archives/edgar/data/896159/000119312511047473/0001193125-11-047473.txt\n",
      "214 https://www.sec.gov/Archives/edgar/data/8818/000104746914001386/0001047469-14-001386.txt\n",
      "215 https://www.sec.gov/Archives/edgar/data/62996/0000950124-98-001648.txt\n",
      "216 https://www.sec.gov/Archives/edgar/data/1031296/000103129613000010/0001031296-13-000010.txt\n",
      "217 https://www.sec.gov/Archives/edgar/data/7084/000000708415000005/0000007084-15-000005.txt\n",
      "218 https://www.sec.gov/Archives/edgar/data/108772/000119312504031256/0001193125-04-031256.txt\n",
      "219 https://www.sec.gov/Archives/edgar/data/896159/000089615914000003/0000896159-14-000003.txt\n",
      "220 https://www.sec.gov/Archives/edgar/data/350698/000095014409001303/0000950144-09-001303.txt\n",
      "221 https://www.sec.gov/Archives/edgar/data/106640/000119312510033211/0001193125-10-033211.txt\n",
      "222 https://www.sec.gov/Archives/edgar/data/63276/000162828017001638/0001628280-17-001638.txt\n",
      "223 https://www.sec.gov/Archives/edgar/data/1002910/000119312510043155/0001193125-10-043155.txt\n",
      "224 https://www.sec.gov/Archives/edgar/data/4904/000000490410000018/0000004904-10-000018.txt\n",
      "225 https://www.sec.gov/Archives/edgar/data/72971/000119312513078820/0001193125-13-078820.txt\n",
      "226 https://www.sec.gov/Archives/edgar/data/65984/0000065984-95-000008.txt\n",
      "227 https://www.sec.gov/Archives/edgar/data/773840/000095011705000756/0000950117-05-000756.txt\n",
      "228 https://www.sec.gov/Archives/edgar/data/820313/000110465914012225/0001104659-14-012225.txt\n",
      "229 https://www.sec.gov/Archives/edgar/data/851968/000093176302000711/0000931763-02-000711.txt\n",
      "230 https://www.sec.gov/Archives/edgar/data/804753/000080475301000056/0000804753-01-000056.txt\n",
      "231 https://www.sec.gov/Archives/edgar/data/315852/000095013404002820/0000950134-04-002820.txt\n",
      "232 https://www.sec.gov/Archives/edgar/data/1390777/000119312509041050/0001193125-09-041050.txt\n",
      "233 https://www.sec.gov/Archives/edgar/data/106535/0000106535-95-000002.txt\n",
      "234 https://www.sec.gov/Archives/edgar/data/1110783/000095013704009377/0000950137-04-009377.txt\n",
      "235 https://www.sec.gov/Archives/edgar/data/823768/000095013408002947/0000950134-08-002947.txt\n",
      "236 https://www.sec.gov/Archives/edgar/data/72333/000095013407006483/0000950134-07-006483.txt\n",
      "237 https://www.sec.gov/Archives/edgar/data/1121788/000112178803000004/0001121788-03-000004.txt\n",
      "238 https://www.sec.gov/Archives/edgar/data/1110783/000095012309053644/0000950123-09-053644.txt\n",
      "239 https://www.sec.gov/Archives/edgar/data/906107/000090610713000005/0000906107-13-000005.txt\n",
      "240 https://www.sec.gov/Archives/edgar/data/707549/000119312510194304/0001193125-10-194304.txt\n",
      "241 https://www.sec.gov/Archives/edgar/data/12927/0000012927-00-000002.txt\n",
      "242 https://www.sec.gov/Archives/edgar/data/12659/0000950124-99-004315.txt\n",
      "243 https://www.sec.gov/Archives/edgar/data/200406/000020040616000071/0000200406-16-000071.txt\n",
      "244 https://www.sec.gov/Archives/edgar/data/20520/000002052016000076/0000020520-16-000076.txt\n",
      "245 https://www.sec.gov/Archives/edgar/data/33185/000104746909001891/0001047469-09-001891.txt\n",
      "246 https://www.sec.gov/Archives/edgar/data/1393612/000139361213000004/0001393612-13-000004.txt\n",
      "247 https://www.sec.gov/Archives/edgar/data/315189/000110465904040625/0001104659-04-040625.txt\n",
      "248 https://www.sec.gov/Archives/edgar/data/1099800/000104746911001550/0001047469-11-001550.txt\n",
      "249 https://www.sec.gov/Archives/edgar/data/804328/000093639206000996/0000936392-06-000996.txt\n",
      "250 https://www.sec.gov/Archives/edgar/data/33185/0000931763-95-000052.txt\n",
      "251 https://www.sec.gov/Archives/edgar/data/96021/0000950129-95-001268.txt\n",
      "252 https://www.sec.gov/Archives/edgar/data/815097/000081509702000012/0000815097-02-000012.txt\n",
      "253 https://www.sec.gov/Archives/edgar/data/909954/000090995401500013/0000909954-01-500013.txt\n",
      "254 https://www.sec.gov/Archives/edgar/data/63908/000006390814000019/0000063908-14-000019.txt\n",
      "255 https://www.sec.gov/Archives/edgar/data/812074/000104746915000716/0001047469-15-000716.txt\n",
      "256 https://www.sec.gov/Archives/edgar/data/65984/000006598407000057/0000065984-07-000057.txt\n",
      "257 https://www.sec.gov/Archives/edgar/data/899689/000089968915000006/0000899689-15-000006.txt\n",
      "258 https://www.sec.gov/Archives/edgar/data/801898/000080189803000053/0000801898-03-000053.txt\n",
      "259 https://www.sec.gov/Archives/edgar/data/935703/0000935703-98-000005.txt\n",
      "260 https://www.sec.gov/Archives/edgar/data/912242/000104746905007754/0001047469-05-007754.txt\n",
      "261 https://www.sec.gov/Archives/edgar/data/874766/000087476615000013/0000874766-15-000013.txt\n",
      "262 https://www.sec.gov/Archives/edgar/data/1109357/000119312513069749/0001193125-13-069749.txt\n",
      "263 https://www.sec.gov/Archives/edgar/data/34903/0000928385-96-000186.txt\n",
      "264 https://www.sec.gov/Archives/edgar/data/34088/000119312505038144/0001193125-05-038144.txt\n",
      "265 https://www.sec.gov/Archives/edgar/data/21344/000002134415000005/0000021344-15-000005.txt\n",
      "266 https://www.sec.gov/Archives/edgar/data/769397/000076939714000018/0000769397-14-000018.txt\n",
      "267 https://www.sec.gov/Archives/edgar/data/21665/000119312509041029/0001193125-09-041029.txt\n",
      "268 https://www.sec.gov/Archives/edgar/data/78814/000120677405000278/0001206774-05-000278.txt\n",
      "269 https://www.sec.gov/Archives/edgar/data/1378946/000119312513087415/0001193125-13-087415.txt\n",
      "270 https://www.sec.gov/Archives/edgar/data/701985/000119312504062365/0001193125-04-062365.txt\n",
      "271 https://www.sec.gov/Archives/edgar/data/851968/000095012310018309/0000950123-10-018309.txt\n",
      "272 https://www.sec.gov/Archives/edgar/data/1047862/000119312505037439/0001193125-05-037439.txt\n",
      "273 https://www.sec.gov/Archives/edgar/data/4904/0000004904-99-000027.txt\n",
      "274 https://www.sec.gov/Archives/edgar/data/823768/000095012902001250/0000950129-02-001250.txt\n",
      "275 https://www.sec.gov/Archives/edgar/data/882835/000093176302000111/0000931763-02-000111.txt\n",
      "276 https://www.sec.gov/Archives/edgar/data/1059556/000119312511047974/0001193125-11-047974.txt\n",
      "277 https://www.sec.gov/Archives/edgar/data/1031296/000103129606000044/0001031296-06-000044.txt\n",
      "278 https://www.sec.gov/Archives/edgar/data/12659/000095013402008804/0000950134-02-008804.txt\n",
      "279 https://www.sec.gov/Archives/edgar/data/732717/000073271703000210/0000732717-03-000210.txt\n",
      "280 https://www.sec.gov/Archives/edgar/data/21344/000002134403000031/0000021344-03-000031.txt\n",
      "281 https://www.sec.gov/Archives/edgar/data/101829/000119312512047752/0001193125-12-047752.txt\n",
      "282 https://www.sec.gov/Archives/edgar/data/798354/000162828016011435/0001628280-16-011435.txt\n",
      "283 https://www.sec.gov/Archives/edgar/data/51434/000095011704000964/0000950117-04-000964.txt\n",
      "284 https://www.sec.gov/Archives/edgar/data/920148/000092014810000021/0000920148-10-000021.txt\n",
      "285 https://www.sec.gov/Archives/edgar/data/1121788/000114420413011527/0001144204-13-011527.txt\n",
      "286 https://www.sec.gov/Archives/edgar/data/78003/000095012305002379/0000950123-05-002379.txt\n",
      "287 https://www.sec.gov/Archives/edgar/data/909954/000104746913010696/0001047469-13-010696.txt\n",
      "288 https://www.sec.gov/Archives/edgar/data/850693/000119312509040955/0001193125-09-040955.txt\n",
      "289 https://www.sec.gov/Archives/edgar/data/80424/000095015205007351/0000950152-05-007351.txt\n",
      "290 https://www.sec.gov/Archives/edgar/data/829224/000089102006000406/0000891020-06-000406.txt\n",
      "291 https://www.sec.gov/Archives/edgar/data/1004980/000104746905004204/0001047469-05-004204.txt\n",
      "292 https://www.sec.gov/Archives/edgar/data/1053507/000119312511050129/0001193125-11-050129.txt\n",
      "293 https://www.sec.gov/Archives/edgar/data/1467858/000146785814000043/0001467858-14-000043.txt\n",
      "294 https://www.sec.gov/Archives/edgar/data/31462/000110465909013091/0001104659-09-013091.txt\n",
      "295 https://www.sec.gov/Archives/edgar/data/92380/000095013405002093/0000950134-05-002093.txt\n",
      "296 https://www.sec.gov/Archives/edgar/data/107263/0000950134-95-000291.txt\n",
      "297 https://www.sec.gov/Archives/edgar/data/1390777/000144530514000745/0001445305-14-000745.txt\n",
      "298 https://www.sec.gov/Archives/edgar/data/816761/000119312510043063/0001193125-10-043063.txt\n",
      "299 https://www.sec.gov/Archives/edgar/data/60086/000006008602000008/0000060086-02-000008.txt\n",
      "300 https://www.sec.gov/Archives/edgar/data/791907/000079190711000073/0000791907-11-000073.txt\n",
      "301 https://www.sec.gov/Archives/edgar/data/56873/000110465913026395/0001104659-13-026395.txt\n",
      "302 https://www.sec.gov/Archives/edgar/data/310764/000031076402000013/0000310764-02-000013.txt\n",
      "303 https://www.sec.gov/Archives/edgar/data/764180/000119312512064660/0001193125-12-064660.txt\n",
      "304 https://www.sec.gov/Archives/edgar/data/743988/000104746904019430/0001047469-04-019430.txt\n",
      "305 https://www.sec.gov/Archives/edgar/data/34088/000119312511047394/0001193125-11-047394.txt\n",
      "306 https://www.sec.gov/Archives/edgar/data/773840/000093041307001369/0000930413-07-001369.txt\n",
      "307 https://www.sec.gov/Archives/edgar/data/21344/000002134416000050/0000021344-16-000050.txt\n",
      "308 https://www.sec.gov/Archives/edgar/data/849399/000095012311052609/0000950123-11-052609.txt\n",
      "309 https://www.sec.gov/Archives/edgar/data/849399/000119312513226119/0001193125-13-226119.txt\n",
      "310 https://www.sec.gov/Archives/edgar/data/1000180/000095013405005462/0000950134-05-005462.txt\n",
      "311 https://www.sec.gov/Archives/edgar/data/40987/000095014408001503/0000950144-08-001503.txt\n",
      "312 https://www.sec.gov/Archives/edgar/data/6769/000095012907001091/0000950129-07-001091.txt\n",
      "313 https://www.sec.gov/Archives/edgar/data/6769/000167337917000004/0001673379-17-000004.txt\n",
      "314 https://www.sec.gov/Archives/edgar/data/108772/000119312511043738/0001193125-11-043738.txt\n",
      "315 https://www.sec.gov/Archives/edgar/data/906107/0000950131-99-001583.txt\n",
      "316 https://www.sec.gov/Archives/edgar/data/18230/000001823003000130/0000018230-03-000130.txt\n",
      "317 https://www.sec.gov/Archives/edgar/data/941548/000114036115008196/0001140361-15-008196.txt\n",
      "318 https://www.sec.gov/Archives/edgar/data/1090727/000095014403002770/0000950144-03-002770.txt\n",
      "319 https://www.sec.gov/Archives/edgar/data/56873/000110465915024557/0001104659-15-024557.txt\n",
      "320 https://www.sec.gov/Archives/edgar/data/59478/000095013703001575/0000950137-03-001575.txt\n",
      "321 https://www.sec.gov/Archives/edgar/data/791907/000079190710000090/0000791907-10-000090.txt\n",
      "322 https://www.sec.gov/Archives/edgar/data/20520/000002052006000010/0000020520-06-000010.txt\n",
      "323 https://www.sec.gov/Archives/edgar/data/310158/000095012308002339/0000950123-08-002339.txt\n",
      "324 https://www.sec.gov/Archives/edgar/data/743988/000104746905016238/0001047469-05-016238.txt\n",
      "325 https://www.sec.gov/Archives/edgar/data/31462/000155837016003581/0001558370-16-003581.txt\n",
      "326 https://www.sec.gov/Archives/edgar/data/77476/000007747614000007/0000077476-14-000007.txt\n",
      "327 https://www.sec.gov/Archives/edgar/data/883569/0000883569-98-000005.txt\n",
      "328 https://www.sec.gov/Archives/edgar/data/811156/000095012401001548/0000950124-01-001548.txt\n",
      "329 https://www.sec.gov/Archives/edgar/data/743988/000104746906007867/0001047469-06-007867.txt\n",
      "330 https://www.sec.gov/Archives/edgar/data/1090872/000104746910010499/0001047469-10-010499.txt\n",
      "331 https://www.sec.gov/Archives/edgar/data/701221/000130817911000024/0001308179-11-000024.txt\n",
      "332 https://www.sec.gov/Archives/edgar/data/320335/000119312504042167/0001193125-04-042167.txt\n",
      "333 https://www.sec.gov/Archives/edgar/data/1110783/000106880001500073/0001068800-01-500073.txt\n",
      "334 https://www.sec.gov/Archives/edgar/data/732717/000073271709000007/0000732717-09-000007.txt\n",
      "335 https://www.sec.gov/Archives/edgar/data/823768/0000950129-00-001540.txt\n",
      "336 https://www.sec.gov/Archives/edgar/data/51143/000104746916010329/0001047469-16-010329.txt\n",
      "337 https://www.sec.gov/Archives/edgar/data/804328/000123445217000190/0001234452-17-000190.txt\n",
      "338 https://www.sec.gov/Archives/edgar/data/899689/000089968913000004/0000899689-13-000004.txt\n",
      "339 https://www.sec.gov/Archives/edgar/data/108772/000144530512000425/0001445305-12-000425.txt\n",
      "340 https://www.sec.gov/Archives/edgar/data/27904/000002790417000004/0000027904-17-000004.txt\n",
      "341 https://www.sec.gov/Archives/edgar/data/7084/0000007084-95-000024.txt\n",
      "342 https://www.sec.gov/Archives/edgar/data/823768/000095012904000722/0000950129-04-000722.txt\n",
      "343 https://www.sec.gov/Archives/edgar/data/815097/000081509716000030/0000815097-16-000030.txt\n",
      "344 https://www.sec.gov/Archives/edgar/data/702165/000070216503000077/0000702165-03-000077.txt\n",
      "345 https://www.sec.gov/Archives/edgar/data/77360/0000077360-98-000006.txt\n",
      "346 https://www.sec.gov/Archives/edgar/data/1053507/000119312510044876/0001193125-10-044876.txt\n",
      "347 https://www.sec.gov/Archives/edgar/data/701985/0000950109-97-003383.txt\n",
      "348 https://www.sec.gov/Archives/edgar/data/62996/000095012403000656/0000950124-03-000656.txt\n",
      "349 https://www.sec.gov/Archives/edgar/data/1032208/000008652114000011/0000086521-14-000011.txt\n",
      "350 https://www.sec.gov/Archives/edgar/data/914208/000091420815000293/0000914208-15-000293.txt\n",
      "351 https://www.sec.gov/Archives/edgar/data/1138118/000119312516484680/0001193125-16-484680.txt\n",
      "352 https://www.sec.gov/Archives/edgar/data/89800/000119312512075061/0001193125-12-075061.txt\n",
      "353 https://www.sec.gov/Archives/edgar/data/4904/000000490414000019/0000004904-14-000019.txt\n",
      "354 https://www.sec.gov/Archives/edgar/data/875045/0000936392-00-000180.txt\n",
      "355 https://www.sec.gov/Archives/edgar/data/849399/000089161802002836/0000891618-02-002836.txt\n",
      "356 https://www.sec.gov/Archives/edgar/data/60086/000119312511043352/0001193125-11-043352.txt\n",
      "357 https://www.sec.gov/Archives/edgar/data/63276/000119312512074927/0001193125-12-074927.txt\n",
      "358 https://www.sec.gov/Archives/edgar/data/92380/000095013408001572/0000950134-08-001572.txt\n",
      "359 https://www.sec.gov/Archives/edgar/data/1065088/000095013406003678/0000950134-06-003678.txt\n",
      "360 https://www.sec.gov/Archives/edgar/data/920148/000092014801000003/0000920148-01-000003.txt\n",
      "361 https://www.sec.gov/Archives/edgar/data/50863/000119312513065416/0001193125-13-065416.txt\n",
      "362 https://www.sec.gov/Archives/edgar/data/66740/000110465915009560/0001104659-15-009560.txt\n",
      "363 https://www.sec.gov/Archives/edgar/data/1000697/000119312516480594/0001193125-16-480594.txt\n",
      "364 https://www.sec.gov/Archives/edgar/data/874766/000087476614000007/0000874766-14-000007.txt\n",
      "365 https://www.sec.gov/Archives/edgar/data/1534701/000153470117000051/0001534701-17-000051.txt\n",
      "366 https://www.sec.gov/Archives/edgar/data/1000697/000119312517056239/0001193125-17-056239.txt\n",
      "367 https://www.sec.gov/Archives/edgar/data/97476/000009747615000003/0000097476-15-000003.txt\n",
      "368 https://www.sec.gov/Archives/edgar/data/906107/000110465906014827/0001104659-06-014827.txt\n",
      "369 https://www.sec.gov/Archives/edgar/data/40545/000119312511047479/0001193125-11-047479.txt\n",
      "370 https://www.sec.gov/Archives/edgar/data/21344/000104746910001476/0001047469-10-001476.txt\n",
      "371 https://www.sec.gov/Archives/edgar/data/72971/000119312512084528/0001193125-12-084528.txt\n",
      "372 https://www.sec.gov/Archives/edgar/data/200406/000095012302002712/0000950123-02-002712.txt\n",
      "373 https://www.sec.gov/Archives/edgar/data/1060391/000106039113000011/0001060391-13-000011.txt\n",
      "374 https://www.sec.gov/Archives/edgar/data/63276/0000898430-99-001297.txt\n",
      "375 https://www.sec.gov/Archives/edgar/data/310764/000031076409000035/0000310764-09-000035.txt\n",
      "376 https://www.sec.gov/Archives/edgar/data/789019/000103221001501099/0001032210-01-501099.txt\n",
      "377 https://www.sec.gov/Archives/edgar/data/740260/000074026017000056/0000740260-17-000056.txt\n",
      "378 https://www.sec.gov/Archives/edgar/data/34903/000003490316000045/0000034903-16-000045.txt\n",
      "379 https://www.sec.gov/Archives/edgar/data/40987/000095014405002175/0000950144-05-002175.txt\n",
      "380 https://www.sec.gov/Archives/edgar/data/816284/000100515002000475/0001005150-02-000475.txt\n",
      "381 https://www.sec.gov/Archives/edgar/data/12927/000119312508032328/0001193125-08-032328.txt\n",
      "382 https://www.sec.gov/Archives/edgar/data/350698/0000950144-97-001873.txt\n",
      "383 https://www.sec.gov/Archives/edgar/data/31462/000110465906012710/0001104659-06-012710.txt\n",
      "384 https://www.sec.gov/Archives/edgar/data/1109357/000119312504027301/0001193125-04-027301.txt\n",
      "385 https://www.sec.gov/Archives/edgar/data/895126/000089512617000068/0000895126-17-000068.txt\n",
      "386 https://www.sec.gov/Archives/edgar/data/732717/000073271707000015/0000732717-07-000015.txt\n",
      "387 https://www.sec.gov/Archives/edgar/data/11199/000110465907015628/0001104659-07-015628.txt\n",
      "388 https://www.sec.gov/Archives/edgar/data/1109357/000119312514051838/0001193125-14-051838.txt\n",
      "389 https://www.sec.gov/Archives/edgar/data/72333/000095012406001459/0000950124-06-001459.txt\n",
      "390 https://www.sec.gov/Archives/edgar/data/1364742/000156459016013511/0001564590-16-013511.txt\n",
      "391 https://www.sec.gov/Archives/edgar/data/4962/0000004962-94-000006.txt\n",
      "392 https://www.sec.gov/Archives/edgar/data/811156/000119312512074276/0001193125-12-074276.txt\n",
      "393 https://www.sec.gov/Archives/edgar/data/945764/000094576416000092/0000945764-16-000092.txt\n",
      "394 https://www.sec.gov/Archives/edgar/data/101778/0000950132-99-000185.txt\n",
      "395 https://www.sec.gov/Archives/edgar/data/80661/000095015206001512/0000950152-06-001512.txt\n",
      "396 https://www.sec.gov/Archives/edgar/data/72333/000119312512119641/0001193125-12-119641.txt\n",
      "397 https://www.sec.gov/Archives/edgar/data/1090872/000104746906015256/0001047469-06-015256.txt\n",
      "398 https://www.sec.gov/Archives/edgar/data/791907/000079190715000099/0000791907-15-000099.txt\n",
      "399 https://www.sec.gov/Archives/edgar/data/896159/000095013101001644/0000950131-01-001644.txt\n",
      "400 https://www.sec.gov/Archives/edgar/data/764180/0000950146-96-000483.txt\n",
      "401 https://www.sec.gov/Archives/edgar/data/104169/0000104169-96-000002.txt\n",
      "402 https://www.sec.gov/Archives/edgar/data/814453/000095013708003094/0000950137-08-003094.txt\n",
      "403 https://www.sec.gov/Archives/edgar/data/882835/000088283504000006/0000882835-04-000006.txt\n",
      "404 https://www.sec.gov/Archives/edgar/data/24545/000144530512000454/0001445305-12-000454.txt\n",
      "405 https://www.sec.gov/Archives/edgar/data/1137774/000119312512078116/0001193125-12-078116.txt\n",
      "406 https://www.sec.gov/Archives/edgar/data/906107/000091205701006222/0000912057-01-006222.txt\n",
      "407 https://www.sec.gov/Archives/edgar/data/34903/000119312511036800/0001193125-11-036800.txt\n",
      "408 https://www.sec.gov/Archives/edgar/data/1047862/000119312510036116/0001193125-10-036116.txt\n",
      "409 https://www.sec.gov/Archives/edgar/data/875045/000095013508001029/0000950135-08-001029.txt\n",
      "410 https://www.sec.gov/Archives/edgar/data/33185/000114420414012238/0001144204-14-012238.txt\n",
      "411 https://www.sec.gov/Archives/edgar/data/875045/000087504515000005/0000875045-15-000005.txt\n",
      "412 https://www.sec.gov/Archives/edgar/data/1534701/000153470113000006/0001534701-13-000006.txt\n",
      "413 https://www.sec.gov/Archives/edgar/data/89800/000095012310016198/0000950123-10-016198.txt\n",
      "414 https://www.sec.gov/Archives/edgar/data/40987/0000950144-94-000672.txt\n",
      "415 https://www.sec.gov/Archives/edgar/data/20520/0000020520-96-000005.txt\n",
      "416 https://www.sec.gov/Archives/edgar/data/866787/000114420405032748/0001144204-05-032748.txt\n",
      "417 https://www.sec.gov/Archives/edgar/data/1000697/000095013509001331/0000950135-09-001331.txt\n",
      "418 https://www.sec.gov/Archives/edgar/data/106640/000119312507042772/0001193125-07-042772.txt\n",
      "419 https://www.sec.gov/Archives/edgar/data/32604/000003260412000012/0000032604-12-000012.txt\n",
      "420 https://www.sec.gov/Archives/edgar/data/1121788/000161577416004243/0001615774-16-004243.txt\n",
      "421 https://www.sec.gov/Archives/edgar/data/62996/000095012405001611/0000950124-05-001611.txt\n",
      "422 https://www.sec.gov/Archives/edgar/data/1364742/000119312511050218/0001193125-11-050218.txt\n",
      "423 https://www.sec.gov/Archives/edgar/data/707549/0000912057-95-008038.txt\n",
      "424 https://www.sec.gov/Archives/edgar/data/1551182/000155118216000041/0001551182-16-000041.txt\n",
      "425 https://www.sec.gov/Archives/edgar/data/866787/000119312512430271/0001193125-12-430271.txt\n",
      "426 https://www.sec.gov/Archives/edgar/data/49196/000095015203003155/0000950152-03-003155.txt\n",
      "427 https://www.sec.gov/Archives/edgar/data/1031296/000103129614000010/0001031296-14-000010.txt\n",
      "428 https://www.sec.gov/Archives/edgar/data/78003/000007800317000014/0000078003-17-000014.txt\n",
      "429 https://www.sec.gov/Archives/edgar/data/63276/0000063276-95-000008.txt\n",
      "430 https://www.sec.gov/Archives/edgar/data/1390777/000139077717000065/0001390777-17-000065.txt\n",
      "431 https://www.sec.gov/Archives/edgar/data/899866/000089986616000226/0000899866-16-000226.txt\n",
      "432 https://www.sec.gov/Archives/edgar/data/70858/0000950168-96-000536.txt\n",
      "433 https://www.sec.gov/Archives/edgar/data/801898/000080189802000100/0000801898-02-000100.txt\n",
      "434 https://www.sec.gov/Archives/edgar/data/1424847/000119312512069621/0001193125-12-069621.txt\n",
      "435 https://www.sec.gov/Archives/edgar/data/895126/000089512615000076/0000895126-15-000076.txt\n",
      "436 https://www.sec.gov/Archives/edgar/data/85961/000008596113000007/0000085961-13-000007.txt\n",
      "437 https://www.sec.gov/Archives/edgar/data/39911/000119312511079691/0001193125-11-079691.txt\n",
      "438 https://www.sec.gov/Archives/edgar/data/65984/0000065984-00-000048.txt\n",
      "439 https://www.sec.gov/Archives/edgar/data/1496048/000149604816000048/0001496048-16-000048.txt\n",
      "440 https://www.sec.gov/Archives/edgar/data/820313/000091205702012175/0000912057-02-012175.txt\n",
      "441 https://www.sec.gov/Archives/edgar/data/1571949/000157194917000003/0001571949-17-000003.txt\n",
      "442 https://www.sec.gov/Archives/edgar/data/794367/0000950152-96-001528.txt\n",
      "443 https://www.sec.gov/Archives/edgar/data/1603145/000160314515000019/0001603145-15-000019.txt\n",
      "444 https://www.sec.gov/Archives/edgar/data/34903/000095013304000888/0000950133-04-000888.txt\n",
      "445 https://www.sec.gov/Archives/edgar/data/814453/0000895813-95-000029.txt\n",
      "446 https://www.sec.gov/Archives/edgar/data/12927/000119312507033902/0001193125-07-033902.txt\n",
      "447 https://www.sec.gov/Archives/edgar/data/823768/000095012909000426/0000950129-09-000426.txt\n",
      "448 https://www.sec.gov/Archives/edgar/data/1285785/000119312508159285/0001193125-08-159285.txt\n",
      "449 https://www.sec.gov/Archives/edgar/data/866787/000086678700500019/0000866787-00-500019.txt\n",
      "450 https://www.sec.gov/Archives/edgar/data/1390777/000119312512085349/0001193125-12-085349.txt\n",
      "451 https://www.sec.gov/Archives/edgar/data/816761/000119312514071369/0001193125-14-071369.txt\n",
      "452 https://www.sec.gov/Archives/edgar/data/66740/000110465911007845/0001104659-11-007845.txt\n",
      "453 https://www.sec.gov/Archives/edgar/data/200406/000095012305003140/0000950123-05-003140.txt\n",
      "454 https://www.sec.gov/Archives/edgar/data/11199/0000912057-97-010132.txt\n",
      "455 https://www.sec.gov/Archives/edgar/data/12927/000001292702000005/0000012927-02-000005.txt\n",
      "456 https://www.sec.gov/Archives/edgar/data/764180/000119312506051165/0001193125-06-051165.txt\n",
      "457 https://www.sec.gov/Archives/edgar/data/80424/000095015208006832/0000950152-08-006832.txt\n",
      "458 https://www.sec.gov/Archives/edgar/data/51143/000104746908001731/0001047469-08-001731.txt\n",
      "459 https://www.sec.gov/Archives/edgar/data/791907/000079190707000053/0000791907-07-000053.txt\n",
      "460 https://www.sec.gov/Archives/edgar/data/829224/000082922416000083/0000829224-16-000083.txt\n",
      "461 https://www.sec.gov/Archives/edgar/data/80424/0000080424-96-000017.txt\n",
      "462 https://www.sec.gov/Archives/edgar/data/34903/000119312509038641/0001193125-09-038641.txt\n",
      "463 https://www.sec.gov/Archives/edgar/data/20520/000002052005000011/0000020520-05-000011.txt\n",
      "464 https://www.sec.gov/Archives/edgar/data/1000180/000100018014000019/0001000180-14-000019.txt\n",
      "465 https://www.sec.gov/Archives/edgar/data/12659/000157484213000010/0001574842-13-000010.txt\n",
      "466 https://www.sec.gov/Archives/edgar/data/91576/0000950152-94-000385.txt\n",
      "467 https://www.sec.gov/Archives/edgar/data/912242/000104746910001497/0001047469-10-001497.txt\n",
      "468 https://www.sec.gov/Archives/edgar/data/78814/000093041309001039/0000930413-09-001039.txt\n",
      "469 https://www.sec.gov/Archives/edgar/data/1038357/000103835707000022/0001038357-07-000022.txt\n",
      "470 https://www.sec.gov/Archives/edgar/data/40533/000119312507037776/0001193125-07-037776.txt\n",
      "471 https://www.sec.gov/Archives/edgar/data/36270/000119312516469957/0001193125-16-469957.txt\n",
      "472 https://www.sec.gov/Archives/edgar/data/40987/0000950144-99-002489.txt\n",
      "473 https://www.sec.gov/Archives/edgar/data/96021/000009602117000120/0000096021-17-000120.txt\n",
      "474 https://www.sec.gov/Archives/edgar/data/1364742/000119312510052764/0001193125-10-052764.txt\n",
      "475 https://www.sec.gov/Archives/edgar/data/75362/000119312517050405/0001193125-17-050405.txt\n",
      "476 https://www.sec.gov/Archives/edgar/data/34088/000003408816000065/0000034088-16-000065.txt\n",
      "477 https://www.sec.gov/Archives/edgar/data/34903/000003490312000008/0000034903-12-000008.txt\n",
      "478 https://www.sec.gov/Archives/edgar/data/107263/000095012310017267/0000950123-10-017267.txt\n",
      "479 https://www.sec.gov/Archives/edgar/data/24545/000104746908001563/0001047469-08-001563.txt\n",
      "480 https://www.sec.gov/Archives/edgar/data/50863/000091205701503434/0000912057-01-503434.txt\n",
      "481 https://www.sec.gov/Archives/edgar/data/815097/000119312510016470/0001193125-10-016470.txt\n",
      "482 https://www.sec.gov/Archives/edgar/data/1047862/000104786201000008/0001047862-01-000008.txt\n",
      "483 https://www.sec.gov/Archives/edgar/data/1090872/000104746906000516/0001047469-06-000516.txt\n",
      "484 https://www.sec.gov/Archives/edgar/data/51143/000104746913001698/0001047469-13-001698.txt\n",
      "485 https://www.sec.gov/Archives/edgar/data/1059556/000119312513074571/0001193125-13-074571.txt\n",
      "486 https://www.sec.gov/Archives/edgar/data/32604/000003260414000048/0000032604-14-000048.txt\n",
      "487 https://www.sec.gov/Archives/edgar/data/850693/000089256906000217/0000892569-06-000217.txt\n",
      "488 https://www.sec.gov/Archives/edgar/data/1000180/000089161803001443/0000891618-03-001443.txt\n",
      "489 https://www.sec.gov/Archives/edgar/data/702165/000070216507000067/0000702165-07-000067.txt\n",
      "490 https://www.sec.gov/Archives/edgar/data/8670/000120677407002085/0001206774-07-002085.txt\n",
      "491 https://www.sec.gov/Archives/edgar/data/812074/000104746911000741/0001047469-11-000741.txt\n",
      "492 https://www.sec.gov/Archives/edgar/data/823768/000119312516467957/0001193125-16-467957.txt\n",
      "493 https://www.sec.gov/Archives/edgar/data/883569/000088356916000005/0000883569-16-000005.txt\n",
      "494 https://www.sec.gov/Archives/edgar/data/70858/000095016801000538/0000950168-01-000538.txt\n",
      "495 https://www.sec.gov/Archives/edgar/data/50863/0000891618-94-000087.txt\n",
      "496 https://www.sec.gov/Archives/edgar/data/740260/000119312509040636/0001193125-09-040636.txt\n",
      "497 https://www.sec.gov/Archives/edgar/data/40533/0000950133-00-001131.txt\n",
      "498 https://www.sec.gov/Archives/edgar/data/816284/000093041307001678/0000930413-07-001678.txt\n",
      "499 https://www.sec.gov/Archives/edgar/data/6769/000119312513085083/0001193125-13-085083.txt\n",
      "500 https://www.sec.gov/Archives/edgar/data/200406/000095012307002542/0000950123-07-002542.txt\n",
      "501 https://www.sec.gov/Archives/edgar/data/909954/000090995404000064/0000909954-04-000064.txt\n",
      "502 https://www.sec.gov/Archives/edgar/data/32604/000114420410063258/0001144204-10-063258.txt\n",
      "503 https://www.sec.gov/Archives/edgar/data/851968/000085196803000015/0000851968-03-000015.txt\n",
      "504 https://www.sec.gov/Archives/edgar/data/80661/0000950152-00-002514.txt\n",
      "505 https://www.sec.gov/Archives/edgar/data/701985/0001021408-00-001562.txt\n",
      "506 https://www.sec.gov/Archives/edgar/data/1326380/000132638017000046/0001326380-17-000046.txt\n",
      "507 https://www.sec.gov/Archives/edgar/data/107263/000119312512082513/0001193125-12-082513.txt\n",
      "508 https://www.sec.gov/Archives/edgar/data/1121788/000114420407010357/0001144204-07-010357.txt\n",
      "509 https://www.sec.gov/Archives/edgar/data/1267238/000162828017001320/0001628280-17-001320.txt\n",
      "510 https://www.sec.gov/Archives/edgar/data/80661/000119312513075784/0001193125-13-075784.txt\n",
      "511 https://www.sec.gov/Archives/edgar/data/59478/000095013708003028/0000950137-08-003028.txt\n",
      "512 https://www.sec.gov/Archives/edgar/data/769397/000076939715000012/0000769397-15-000012.txt\n",
      "513 https://www.sec.gov/Archives/edgar/data/62996/000104746915000803/0001047469-15-000803.txt\n",
      "514 https://www.sec.gov/Archives/edgar/data/701985/000119312505072902/0001193125-05-072902.txt\n",
      "515 https://www.sec.gov/Archives/edgar/data/1109357/000119312515049964/0001193125-15-049964.txt\n",
      "516 https://www.sec.gov/Archives/edgar/data/812074/0000812074-94-000007.txt\n",
      "517 https://www.sec.gov/Archives/edgar/data/713676/000119312508043429/0001193125-08-043429.txt\n",
      "518 https://www.sec.gov/Archives/edgar/data/4962/000119312515059931/0001193125-15-059931.txt\n",
      "519 https://www.sec.gov/Archives/edgar/data/4962/000119312512077400/0001193125-12-077400.txt\n",
      "520 https://www.sec.gov/Archives/edgar/data/1031296/000103129617000015/0001031296-17-000015.txt\n",
      "521 https://www.sec.gov/Archives/edgar/data/1551182/000155118217000014/0001551182-17-000014.txt\n",
      "522 https://www.sec.gov/Archives/edgar/data/820313/000110465907012769/0001104659-07-012769.txt\n",
      "523 https://www.sec.gov/Archives/edgar/data/85961/000119312512065540/0001193125-12-065540.txt\n",
      "524 https://www.sec.gov/Archives/edgar/data/1059556/000119312507043002/0001193125-07-043002.txt\n",
      "525 https://www.sec.gov/Archives/edgar/data/50863/000104746903008257/0001047469-03-008257.txt\n",
      "526 https://www.sec.gov/Archives/edgar/data/866787/000095012310095687/0000950123-10-095687.txt\n",
      "527 https://www.sec.gov/Archives/edgar/data/1001039/0000898430-99-004582.txt\n",
      "528 https://www.sec.gov/Archives/edgar/data/4962/0000004962-95-000005.txt\n",
      "529 https://www.sec.gov/Archives/edgar/data/1130310/000113031016000031/0001130310-16-000031.txt\n",
      "530 https://www.sec.gov/Archives/edgar/data/1564708/000119312514309269/0001193125-14-309269.txt\n",
      "531 https://www.sec.gov/Archives/edgar/data/14272/000119312506052456/0001193125-06-052456.txt\n",
      "532 https://www.sec.gov/Archives/edgar/data/1059556/000119312514070371/0001193125-14-070371.txt\n",
      "533 https://www.sec.gov/Archives/edgar/data/936340/0000950124-98-000894.txt\n",
      "534 https://www.sec.gov/Archives/edgar/data/879101/000143774916026173/0001437749-16-026173.txt\n",
      "535 https://www.sec.gov/Archives/edgar/data/7084/000000708408000044/0000007084-08-000044.txt\n",
      "536 https://www.sec.gov/Archives/edgar/data/743988/000074398800000006/0000743988-00-000006.txt\n",
      "537 https://www.sec.gov/Archives/edgar/data/108772/000095013001502220/0000950130-01-502220.txt\n",
      "538 https://www.sec.gov/Archives/edgar/data/33185/000104746904007525/0001047469-04-007525.txt\n",
      "539 https://www.sec.gov/Archives/edgar/data/108772/000010877216000040/0000108772-16-000040.txt\n",
      "540 https://www.sec.gov/Archives/edgar/data/310158/000095012311019286/0000950123-11-019286.txt\n",
      "541 https://www.sec.gov/Archives/edgar/data/1390777/000139077716000204/0001390777-16-000204.txt\n",
      "542 https://www.sec.gov/Archives/edgar/data/200406/000095012303002936/0000950123-03-002936.txt\n",
      "543 https://www.sec.gov/Archives/edgar/data/69499/000119312512070508/0001193125-12-070508.txt\n",
      "544 https://www.sec.gov/Archives/edgar/data/92380/0000950134-00-002530.txt\n",
      "545 https://www.sec.gov/Archives/edgar/data/106535/0000106535-99-000007.txt\n",
      "546 https://www.sec.gov/Archives/edgar/data/1137774/000119312504038160/0001193125-04-038160.txt\n",
      "547 https://www.sec.gov/Archives/edgar/data/4904/000000490413000025/0000004904-13-000025.txt\n",
      "548 https://www.sec.gov/Archives/edgar/data/101829/0000101829-95-000012.txt\n",
      "549 https://www.sec.gov/Archives/edgar/data/52988/000089843000003950/0000898430-00-003950.txt\n",
      "550 https://www.sec.gov/Archives/edgar/data/72971/0000950131-95-000611.txt\n",
      "551 https://www.sec.gov/Archives/edgar/data/743988/0000743988-96-000004.txt\n",
      "552 https://www.sec.gov/Archives/edgar/data/936340/000093634015000014/0000936340-15-000014.txt\n",
      "553 https://www.sec.gov/Archives/edgar/data/1274057/000127405715000012/0001274057-15-000012.txt\n",
      "554 https://www.sec.gov/Archives/edgar/data/101778/000119312508043692/0001193125-08-043692.txt\n",
      "555 https://www.sec.gov/Archives/edgar/data/815097/000081509701000003/0000815097-01-000003.txt\n",
      "556 https://www.sec.gov/Archives/edgar/data/773910/000077391016000073/0000773910-16-000073.txt\n",
      "557 https://www.sec.gov/Archives/edgar/data/85961/0000950170-99-000421.txt\n",
      "558 https://www.sec.gov/Archives/edgar/data/1031296/000103129610000011/0001031296-10-000011.txt\n",
      "559 https://www.sec.gov/Archives/edgar/data/875045/000091205702012961/0000912057-02-012961.txt\n",
      "560 https://www.sec.gov/Archives/edgar/data/4904/000000490404000055/0000004904-04-000055.txt\n",
      "561 https://www.sec.gov/Archives/edgar/data/899866/000092701601503357/0000927016-01-503357.txt\n",
      "562 https://www.sec.gov/Archives/edgar/data/36270/000119312514062812/0001193125-14-062812.txt\n",
      "563 https://www.sec.gov/Archives/edgar/data/1137774/000119312508040213/0001193125-08-040213.txt\n",
      "564 https://www.sec.gov/Archives/edgar/data/101778/000010177816000047/0000101778-16-000047.txt\n",
      "565 https://www.sec.gov/Archives/edgar/data/743988/000074398817000046/0000743988-17-000046.txt\n",
      "566 https://www.sec.gov/Archives/edgar/data/315852/000156459016013402/0001564590-16-013402.txt\n",
      "567 https://www.sec.gov/Archives/edgar/data/51434/000119312512081097/0001193125-12-081097.txt\n",
      "568 https://www.sec.gov/Archives/edgar/data/40533/000004053315000009/0000040533-15-000009.txt\n",
      "569 https://www.sec.gov/Archives/edgar/data/91576/0000950152-96-001225.txt\n",
      "570 https://www.sec.gov/Archives/edgar/data/1267238/000095012305003934/0000950123-05-003934.txt\n",
      "571 https://www.sec.gov/Archives/edgar/data/1285785/000161803417000005/0001618034-17-000005.txt\n",
      "572 https://www.sec.gov/Archives/edgar/data/1364742/000119312507053304/0001193125-07-053304.txt\n",
      "573 https://www.sec.gov/Archives/edgar/data/21344/000002134413000007/0000021344-13-000007.txt\n",
      "574 https://www.sec.gov/Archives/edgar/data/764180/000076418013000024/0000764180-13-000024.txt\n",
      "575 https://www.sec.gov/Archives/edgar/data/40545/000004054504000013/0000040545-04-000013.txt\n",
      "576 https://www.sec.gov/Archives/edgar/data/40533/000095013301001070/0000950133-01-001070.txt\n",
      "577 https://www.sec.gov/Archives/edgar/data/1090872/000089161802005622/0000891618-02-005622.txt\n",
      "578 https://www.sec.gov/Archives/edgar/data/1000180/000100018011000006/0001000180-11-000006.txt\n",
      "579 https://www.sec.gov/Archives/edgar/data/77476/000095013003001850/0000950130-03-001850.txt\n",
      "580 https://www.sec.gov/Archives/edgar/data/769397/000119312507128970/0001193125-07-128970.txt\n",
      "581 https://www.sec.gov/Archives/edgar/data/1000697/000095013506001427/0000950135-06-001427.txt\n",
      "582 https://www.sec.gov/Archives/edgar/data/200406/000095012311018128/0000950123-11-018128.txt\n",
      "583 https://www.sec.gov/Archives/edgar/data/789019/000103221000001961/0001032210-00-001961.txt\n",
      "584 https://www.sec.gov/Archives/edgar/data/14272/000119312509033538/0001193125-09-033538.txt\n",
      "585 https://www.sec.gov/Archives/edgar/data/4904/000000490408000022/0000004904-08-000022.txt\n",
      "586 https://www.sec.gov/Archives/edgar/data/36270/000095012803000281/0000950128-03-000281.txt\n",
      "587 https://www.sec.gov/Archives/edgar/data/72971/0000950131-96-000962.txt\n",
      "588 https://www.sec.gov/Archives/edgar/data/12927/000001292716000099/0000012927-16-000099.txt\n",
      "589 https://www.sec.gov/Archives/edgar/data/85961/0000950170-97-000308.txt\n",
      "590 https://www.sec.gov/Archives/edgar/data/29915/000104746905004197/0001047469-05-004197.txt\n",
      "591 https://www.sec.gov/Archives/edgar/data/78003/0000912057-95-001635.txt\n",
      "592 https://www.sec.gov/Archives/edgar/data/69499/000006949915000003/0000069499-15-000003.txt\n",
      "593 https://www.sec.gov/Archives/edgar/data/315852/000095013403003363/0000950134-03-003363.txt\n",
      "594 https://www.sec.gov/Archives/edgar/data/945764/000095013407004432/0000950134-07-004432.txt\n",
      "595 https://www.sec.gov/Archives/edgar/data/63276/0000063276-94-000008.txt\n",
      "596 https://www.sec.gov/Archives/edgar/data/39911/000003991114000045/0000039911-14-000045.txt\n",
      "597 https://www.sec.gov/Archives/edgar/data/108772/000119312505034356/0001193125-05-034356.txt\n",
      "598 https://www.sec.gov/Archives/edgar/data/33185/000114420412010639/0001144204-12-010639.txt\n",
      "599 https://www.sec.gov/Archives/edgar/data/820313/000110465911010845/0001104659-11-010845.txt\n",
      "600 https://www.sec.gov/Archives/edgar/data/794367/000095015202003073/0000950152-02-003073.txt\n",
      "601 https://www.sec.gov/Archives/edgar/data/20520/0000020520-99-000006.txt\n",
      "602 https://www.sec.gov/Archives/edgar/data/72971/000091205701504042/0000912057-01-504042.txt\n",
      "603 https://www.sec.gov/Archives/edgar/data/816284/000095012310014092/0000950123-10-014092.txt\n",
      "604 https://www.sec.gov/Archives/edgar/data/11199/000001119916000036/0000011199-16-000036.txt\n",
      "605 https://www.sec.gov/Archives/edgar/data/773840/000093041310000784/0000930413-10-000784.txt\n",
      "606 https://www.sec.gov/Archives/edgar/data/1121788/000114420410009642/0001144204-10-009642.txt\n",
      "607 https://www.sec.gov/Archives/edgar/data/815097/0000815097-00-000001.txt\n",
      "608 https://www.sec.gov/Archives/edgar/data/1065088/0001012870-00-001759.txt\n",
      "609 https://www.sec.gov/Archives/edgar/data/8818/0001104659-00-000110.txt\n",
      "610 https://www.sec.gov/Archives/edgar/data/52988/0000898430-96-005938.txt\n",
      "611 https://www.sec.gov/Archives/edgar/data/85961/000008596116000079/0000085961-16-000079.txt\n",
      "612 https://www.sec.gov/Archives/edgar/data/7084/000000708404000364/0000007084-04-000364.txt\n",
      "613 https://www.sec.gov/Archives/edgar/data/701221/000104746914001502/0001047469-14-001502.txt\n",
      "614 https://www.sec.gov/Archives/edgar/data/1018724/000119312511016253/0001193125-11-016253.txt\n",
      "615 https://www.sec.gov/Archives/edgar/data/97476/000114036111012312/0001140361-11-012312.txt\n",
      "616 https://www.sec.gov/Archives/edgar/data/101778/000010177815000007/0000101778-15-000007.txt\n",
      "617 https://www.sec.gov/Archives/edgar/data/8818/000095012906002659/0000950129-06-002659.txt\n",
      "618 https://www.sec.gov/Archives/edgar/data/19617/0000950123-00-002204.txt\n",
      "619 https://www.sec.gov/Archives/edgar/data/6769/000119312514077668/0001193125-14-077668.txt\n",
      "620 https://www.sec.gov/Archives/edgar/data/872589/0000889812-98-000733.txt\n",
      "621 https://www.sec.gov/Archives/edgar/data/78814/000007881414000003/0000078814-14-000003.txt\n",
      "622 https://www.sec.gov/Archives/edgar/data/8818/000095012310018494/0000950123-10-018494.txt\n",
      "623 https://www.sec.gov/Archives/edgar/data/801898/000080189804000227/0000801898-04-000227.txt\n",
      "624 https://www.sec.gov/Archives/edgar/data/70858/000119312507042036/0001193125-07-042036.txt\n",
      "625 https://www.sec.gov/Archives/edgar/data/816761/000119312512087334/0001193125-12-087334.txt\n",
      "626 https://www.sec.gov/Archives/edgar/data/872589/000095012306002365/0000950123-06-002365.txt\n",
      "627 https://www.sec.gov/Archives/edgar/data/29915/000104746906002147/0001047469-06-002147.txt\n",
      "628 https://www.sec.gov/Archives/edgar/data/66740/000110465908011226/0001104659-08-011226.txt\n",
      "629 https://www.sec.gov/Archives/edgar/data/12927/000001292713000014/0000012927-13-000014.txt\n",
      "630 https://www.sec.gov/Archives/edgar/data/713676/000119312510052794/0001193125-10-052794.txt\n",
      "631 https://www.sec.gov/Archives/edgar/data/884905/000119312511043054/0001193125-11-043054.txt\n",
      "632 https://www.sec.gov/Archives/edgar/data/65984/000006598408000052/0000065984-08-000052.txt\n",
      "633 https://www.sec.gov/Archives/edgar/data/936340/000095012310015829/0000950123-10-015829.txt\n",
      "634 https://www.sec.gov/Archives/edgar/data/39911/0001012870-97-000791.txt\n",
      "635 https://www.sec.gov/Archives/edgar/data/773910/0000950129-00-001199.txt\n",
      "636 https://www.sec.gov/Archives/edgar/data/65984/000006598404000135/0000065984-04-000135.txt\n",
      "637 https://www.sec.gov/Archives/edgar/data/866787/000114420406043603/0001144204-06-043603.txt\n",
      "638 https://www.sec.gov/Archives/edgar/data/6769/0000950129-95-000141.txt\n",
      "639 https://www.sec.gov/Archives/edgar/data/849399/0000891618-99-002972.txt\n",
      "640 https://www.sec.gov/Archives/edgar/data/49196/000119312515049355/0001193125-15-049355.txt\n",
      "641 https://www.sec.gov/Archives/edgar/data/75362/000119312515065702/0001193125-15-065702.txt\n",
      "642 https://www.sec.gov/Archives/edgar/data/1060391/000095014402002988/0000950144-02-002988.txt\n",
      "643 https://www.sec.gov/Archives/edgar/data/1059556/000119312515063352/0001193125-15-063352.txt\n",
      "644 https://www.sec.gov/Archives/edgar/data/909954/0000909954-99-000012.txt\n",
      "645 https://www.sec.gov/Archives/edgar/data/1001039/000100103917000198/0001001039-17-000198.txt\n",
      "646 https://www.sec.gov/Archives/edgar/data/8670/000000867004000144/0000008670-04-000144.txt\n",
      "647 https://www.sec.gov/Archives/edgar/data/773910/000119312510037173/0001193125-10-037173.txt\n",
      "648 https://www.sec.gov/Archives/edgar/data/1018963/000095012311019865/0000950123-11-019865.txt\n",
      "649 https://www.sec.gov/Archives/edgar/data/100885/0000100885-97-000002.txt\n",
      "650 https://www.sec.gov/Archives/edgar/data/106535/000010653514000010/0000106535-14-000010.txt\n",
      "651 https://www.sec.gov/Archives/edgar/data/6769/000095012906002614/0000950129-06-002614.txt\n",
      "652 https://www.sec.gov/Archives/edgar/data/789019/000119312513310206/0001193125-13-310206.txt\n",
      "653 https://www.sec.gov/Archives/edgar/data/72333/000089102003001270/0000891020-03-001270.txt\n",
      "654 https://www.sec.gov/Archives/edgar/data/1110783/000111078313000205/0001110783-13-000205.txt\n",
      "655 https://www.sec.gov/Archives/edgar/data/1130310/000095013407004335/0000950134-07-004335.txt\n",
      "656 https://www.sec.gov/Archives/edgar/data/72333/000095012310026782/0000950123-10-026782.txt\n",
      "657 https://www.sec.gov/Archives/edgar/data/1396009/000095012311019699/0000950123-11-019699.txt\n",
      "658 https://www.sec.gov/Archives/edgar/data/935703/000093570315000034/0000935703-15-000034.txt\n",
      "659 https://www.sec.gov/Archives/edgar/data/896159/000119312507043123/0001193125-07-043123.txt\n",
      "660 https://www.sec.gov/Archives/edgar/data/21344/000104746904005840/0001047469-04-005840.txt\n",
      "661 https://www.sec.gov/Archives/edgar/data/63276/000162828016011701/0001628280-16-011701.txt\n",
      "662 https://www.sec.gov/Archives/edgar/data/874766/000094857203000012/0000948572-03-000012.txt\n",
      "663 https://www.sec.gov/Archives/edgar/data/1274494/000127449417000006/0001274494-17-000006.txt\n",
      "664 https://www.sec.gov/Archives/edgar/data/101778/000104746907001533/0001047469-07-001533.txt\n",
      "665 https://www.sec.gov/Archives/edgar/data/804753/000080475316000061/0000804753-16-000061.txt\n",
      "666 https://www.sec.gov/Archives/edgar/data/50863/000005086314000020/0000050863-14-000020.txt\n",
      "667 https://www.sec.gov/Archives/edgar/data/866787/000095012309053232/0000950123-09-053232.txt\n",
      "668 https://www.sec.gov/Archives/edgar/data/850693/000085069312000003/0000850693-12-000003.txt\n",
      "669 https://www.sec.gov/Archives/edgar/data/882835/000088283505000004/0000882835-05-000004.txt\n",
      "670 https://www.sec.gov/Archives/edgar/data/33185/000110465907014494/0001104659-07-014494.txt\n",
      "671 https://www.sec.gov/Archives/edgar/data/93410/000095012312002976/0000950123-12-002976.txt\n",
      "672 https://www.sec.gov/Archives/edgar/data/103379/000162828017002027/0001628280-17-002027.txt\n",
      "673 https://www.sec.gov/Archives/edgar/data/12659/000095012310061837/0000950123-10-061837.txt\n",
      "674 https://www.sec.gov/Archives/edgar/data/72333/000095012404001345/0000950124-04-001345.txt\n",
      "675 https://www.sec.gov/Archives/edgar/data/1534701/000153470115000038/0001534701-15-000038.txt\n",
      "676 https://www.sec.gov/Archives/edgar/data/1267238/000119312506051258/0001193125-06-051258.txt\n",
      "677 https://www.sec.gov/Archives/edgar/data/1285785/000119312513292097/0001193125-13-292097.txt\n",
      "678 https://www.sec.gov/Archives/edgar/data/1002910/000100291004000118/0001002910-04-000118.txt\n",
      "679 https://www.sec.gov/Archives/edgar/data/1373835/000119312511045402/0001193125-11-045402.txt\n",
      "680 https://www.sec.gov/Archives/edgar/data/1001039/000095014803002883/0000950148-03-002883.txt\n",
      "681 https://www.sec.gov/Archives/edgar/data/11199/000001119913000011/0000011199-13-000011.txt\n",
      "682 https://www.sec.gov/Archives/edgar/data/804753/000095013707002997/0000950137-07-002997.txt\n",
      "683 https://www.sec.gov/Archives/edgar/data/936340/000093634013000028/0000936340-13-000028.txt\n",
      "684 https://www.sec.gov/Archives/edgar/data/879101/000139843211000206/0001398432-11-000206.txt\n",
      "685 https://www.sec.gov/Archives/edgar/data/895126/000119312507043979/0001193125-07-043979.txt\n",
      "686 https://www.sec.gov/Archives/edgar/data/936340/000095012405001542/0000950124-05-001542.txt\n",
      "687 https://www.sec.gov/Archives/edgar/data/21344/000002134417000009/0000021344-17-000009.txt\n",
      "688 https://www.sec.gov/Archives/edgar/data/6769/000095012310018311/0000950123-10-018311.txt\n",
      "689 https://www.sec.gov/Archives/edgar/data/743988/0000743988-97-000004.txt\n",
      "690 https://www.sec.gov/Archives/edgar/data/1000180/000101287002001541/0001012870-02-001541.txt\n",
      "691 https://www.sec.gov/Archives/edgar/data/1018963/000095015207001549/0000950152-07-001549.txt\n",
      "692 https://www.sec.gov/Archives/edgar/data/851968/000085196804000022/0000851968-04-000022.txt\n",
      "693 https://www.sec.gov/Archives/edgar/data/1041061/000104106106000109/0001041061-06-000109.txt\n",
      "694 https://www.sec.gov/Archives/edgar/data/804212/000089322005001394/0000893220-05-001394.txt\n",
      "695 https://www.sec.gov/Archives/edgar/data/21665/000119312506038891/0001193125-06-038891.txt\n",
      "696 https://www.sec.gov/Archives/edgar/data/40987/0000950144-95-000710.txt\n",
      "697 https://www.sec.gov/Archives/edgar/data/51143/0000912057-97-010483.txt\n",
      "698 https://www.sec.gov/Archives/edgar/data/732717/000073271717000021/0000732717-17-000021.txt\n",
      "699 https://www.sec.gov/Archives/edgar/data/1090872/000109087217000018/0001090872-17-000018.txt\n",
      "700 https://www.sec.gov/Archives/edgar/data/1551182/000155118215000007/0001551182-15-000007.txt\n",
      "701 https://www.sec.gov/Archives/edgar/data/106640/000010664014000008/0000106640-14-000008.txt\n",
      "702 https://www.sec.gov/Archives/edgar/data/713676/0000950128-97-000649.txt\n",
      "703 https://www.sec.gov/Archives/edgar/data/80661/000095015207001579/0000950152-07-001579.txt\n",
      "704 https://www.sec.gov/Archives/edgar/data/1378946/000119312517065121/0001193125-17-065121.txt\n",
      "705 https://www.sec.gov/Archives/edgar/data/8818/0000898430-97-001251.txt\n",
      "706 https://www.sec.gov/Archives/edgar/data/1555280/000155528017000044/0001555280-17-000044.txt\n",
      "707 https://www.sec.gov/Archives/edgar/data/707549/000089161803004913/0000891618-03-004913.txt\n",
      "708 https://www.sec.gov/Archives/edgar/data/39911/0000039911-94-000014.txt\n",
      "709 https://www.sec.gov/Archives/edgar/data/103379/000119312515075174/0001193125-15-075174.txt\n",
      "710 https://www.sec.gov/Archives/edgar/data/866787/000114420407055597/0001144204-07-055597.txt\n",
      "711 https://www.sec.gov/Archives/edgar/data/59478/000095013405004385/0000950134-05-004385.txt\n",
      "712 https://www.sec.gov/Archives/edgar/data/920148/000116923207001103/0001169232-07-001103.txt\n",
      "713 https://www.sec.gov/Archives/edgar/data/850209/000114420415019391/0001144204-15-019391.txt\n",
      "714 https://www.sec.gov/Archives/edgar/data/104169/000010416909000006/0000104169-09-000006.txt\n",
      "715 https://www.sec.gov/Archives/edgar/data/6769/000095012311019900/0000950123-11-019900.txt\n",
      "716 https://www.sec.gov/Archives/edgar/data/21665/000144530512000409/0001445305-12-000409.txt\n",
      "717 https://www.sec.gov/Archives/edgar/data/1018963/000095015209001663/0000950152-09-001663.txt\n",
      "718 https://www.sec.gov/Archives/edgar/data/936468/000119312512074929/0001193125-12-074929.txt\n",
      "719 https://www.sec.gov/Archives/edgar/data/62709/000006270912000016/0000062709-12-000016.txt\n",
      "720 https://www.sec.gov/Archives/edgar/data/812074/000104746912000772/0001047469-12-000772.txt\n",
      "721 https://www.sec.gov/Archives/edgar/data/52988/0000898430-98-004557.txt\n",
      "722 https://www.sec.gov/Archives/edgar/data/789019/000119312515272806/0001193125-15-272806.txt\n",
      "723 https://www.sec.gov/Archives/edgar/data/1032208/000008652110000019/0000086521-10-000019.txt\n",
      "724 https://www.sec.gov/Archives/edgar/data/31462/000110465907015053/0001104659-07-015053.txt\n",
      "725 https://www.sec.gov/Archives/edgar/data/732717/000073271713000017/0000732717-13-000017.txt\n",
      "726 https://www.sec.gov/Archives/edgar/data/794367/000095015204002901/0000950152-04-002901.txt\n",
      "727 https://www.sec.gov/Archives/edgar/data/80661/000095015294000341/0000950152-94-000341.txt\n",
      "728 https://www.sec.gov/Archives/edgar/data/1564708/000119312517257248/0001193125-17-257248.txt\n",
      "729 https://www.sec.gov/Archives/edgar/data/804212/000089322007002057/0000893220-07-002057.txt\n",
      "730 https://www.sec.gov/Archives/edgar/data/77360/0000077360-99-000007.txt\n",
      "731 https://www.sec.gov/Archives/edgar/data/1004980/000100498015000010/0001004980-15-000010.txt\n",
      "732 https://www.sec.gov/Archives/edgar/data/32604/000003260417000046/0000032604-17-000046.txt\n",
      "733 https://www.sec.gov/Archives/edgar/data/69499/0000069499-94-000054.txt\n",
      "734 https://www.sec.gov/Archives/edgar/data/200406/000020040615000004/0000200406-15-000004.txt\n",
      "735 https://www.sec.gov/Archives/edgar/data/1032208/000008652109000010/0000086521-09-000010.txt\n",
      "736 https://www.sec.gov/Archives/edgar/data/97476/000009747614000007/0000097476-14-000007.txt\n",
      "737 https://www.sec.gov/Archives/edgar/data/18230/000001823010000092/0000018230-10-000092.txt\n",
      "738 https://www.sec.gov/Archives/edgar/data/29915/0000029915-96-000014.txt\n",
      "739 https://www.sec.gov/Archives/edgar/data/1000180/000089161806000116/0000891618-06-000116.txt\n",
      "740 https://www.sec.gov/Archives/edgar/data/8818/000104746916010376/0001047469-16-010376.txt\n",
      "741 https://www.sec.gov/Archives/edgar/data/14272/000119312510035167/0001193125-10-035167.txt\n",
      "742 https://www.sec.gov/Archives/edgar/data/882835/000088283515000009/0000882835-15-000009.txt\n",
      "743 https://www.sec.gov/Archives/edgar/data/906107/000119312509038255/0001193125-09-038255.txt\n",
      "744 https://www.sec.gov/Archives/edgar/data/93410/0000093410-95-000012.txt\n",
      "745 https://www.sec.gov/Archives/edgar/data/21665/000114036110008522/0001140361-10-008522.txt\n",
      "746 https://www.sec.gov/Archives/edgar/data/920148/000092014817000018/0000920148-17-000018.txt\n",
      "747 https://www.sec.gov/Archives/edgar/data/96021/000095012907004350/0000950129-07-004350.txt\n",
      "748 https://www.sec.gov/Archives/edgar/data/1043604/000089161803001207/0000891618-03-001207.txt\n",
      "749 https://www.sec.gov/Archives/edgar/data/850693/000095013707003060/0000950137-07-003060.txt\n",
      "750 https://www.sec.gov/Archives/edgar/data/93410/000095012311017688/0000950123-11-017688.txt\n",
      "751 https://www.sec.gov/Archives/edgar/data/1267238/000162828016011239/0001628280-16-011239.txt\n",
      "752 https://www.sec.gov/Archives/edgar/data/39911/0001012870-98-000890.txt\n",
      "753 https://www.sec.gov/Archives/edgar/data/80661/000008066115000010/0000080661-15-000010.txt\n",
      "754 https://www.sec.gov/Archives/edgar/data/912242/000104746906003117/0001047469-06-003117.txt\n",
      "755 https://www.sec.gov/Archives/edgar/data/69499/000095012803000756/0000950128-03-000756.txt\n",
      "756 https://www.sec.gov/Archives/edgar/data/874766/000095012306002232/0000950123-06-002232.txt\n",
      "757 https://www.sec.gov/Archives/edgar/data/89800/000008980013000046/0000089800-13-000046.txt\n",
      "758 https://www.sec.gov/Archives/edgar/data/40533/000119312511039769/0001193125-11-039769.txt\n",
      "759 https://www.sec.gov/Archives/edgar/data/1274494/000095013409003635/0000950134-09-003635.txt\n",
      "760 https://www.sec.gov/Archives/edgar/data/310158/000031015817000010/0000310158-17-000010.txt\n",
      "761 https://www.sec.gov/Archives/edgar/data/78003/0000912057-96-005586.txt\n",
      "762 https://www.sec.gov/Archives/edgar/data/1373835/000119312508042362/0001193125-08-042362.txt\n",
      "763 https://www.sec.gov/Archives/edgar/data/941548/000094154807000016/0000941548-07-000016.txt\n",
      "764 https://www.sec.gov/Archives/edgar/data/941548/000095012904001055/0000950129-04-001055.txt\n",
      "765 https://www.sec.gov/Archives/edgar/data/80424/0000080424-94-000021.txt\n",
      "766 https://www.sec.gov/Archives/edgar/data/764180/000076418014000025/0000764180-14-000025.txt\n",
      "767 https://www.sec.gov/Archives/edgar/data/1018963/000095012310017084/0000950123-10-017084.txt\n",
      "768 https://www.sec.gov/Archives/edgar/data/350698/000095014406001745/0000950144-06-001745.txt\n",
      "769 https://www.sec.gov/Archives/edgar/data/815097/000119312509013746/0001193125-09-013746.txt\n",
      "770 https://www.sec.gov/Archives/edgar/data/93410/0000093410-99-000034.txt\n",
      "771 https://www.sec.gov/Archives/edgar/data/1545158/000154515814000003/0001545158-14-000003.txt\n",
      "772 https://www.sec.gov/Archives/edgar/data/310158/000095012307002869/0000950123-07-002869.txt\n",
      "773 https://www.sec.gov/Archives/edgar/data/866787/000119312516745160/0001193125-16-745160.txt\n",
      "774 https://www.sec.gov/Archives/edgar/data/97476/000093066103000885/0000930661-03-000885.txt\n",
      "775 https://www.sec.gov/Archives/edgar/data/811156/000110465916095725/0001104659-16-095725.txt\n",
      "776 https://www.sec.gov/Archives/edgar/data/6769/000095012904001232/0000950129-04-001232.txt\n",
      "777 https://www.sec.gov/Archives/edgar/data/883569/000119312512089155/0001193125-12-089155.txt\n",
      "778 https://www.sec.gov/Archives/edgar/data/62709/000119312509040859/0001193125-09-040859.txt\n",
      "779 https://www.sec.gov/Archives/edgar/data/909954/000090995402000015/0000909954-02-000015.txt\n",
      "780 https://www.sec.gov/Archives/edgar/data/101829/000119312507024306/0001193125-07-024306.txt\n",
      "781 https://www.sec.gov/Archives/edgar/data/1137774/000119312510043048/0001193125-10-043048.txt\n",
      "782 https://www.sec.gov/Archives/edgar/data/1373835/000137383515000003/0001373835-15-000003.txt\n",
      "783 https://www.sec.gov/Archives/edgar/data/80661/000095015201001830/0000950152-01-001830.txt\n",
      "784 https://www.sec.gov/Archives/edgar/data/875045/000119312512039072/0001193125-12-039072.txt\n",
      "785 https://www.sec.gov/Archives/edgar/data/33185/000093176302000622/0000931763-02-000622.txt\n",
      "786 https://www.sec.gov/Archives/edgar/data/713676/000119312511051725/0001193125-11-051725.txt\n",
      "787 https://www.sec.gov/Archives/edgar/data/701985/000119312506070723/0001193125-06-070723.txt\n",
      "788 https://www.sec.gov/Archives/edgar/data/1121788/000114420415010586/0001144204-15-010586.txt\n",
      "789 https://www.sec.gov/Archives/edgar/data/40987/000095014406001772/0000950144-06-001772.txt\n",
      "790 https://www.sec.gov/Archives/edgar/data/740260/0000931763-99-001033.txt\n",
      "791 https://www.sec.gov/Archives/edgar/data/62996/0000950124-00-001746.txt\n",
      "792 https://www.sec.gov/Archives/edgar/data/1002910/0000950124-00-001810.txt\n",
      "793 https://www.sec.gov/Archives/edgar/data/743988/000120677409001145/0001206774-09-001145.txt\n",
      "794 https://www.sec.gov/Archives/edgar/data/50863/000089161807000111/0000891618-07-000111.txt\n",
      "795 https://www.sec.gov/Archives/edgar/data/100885/000095013403002918/0000950134-03-002918.txt\n",
      "796 https://www.sec.gov/Archives/edgar/data/872589/000095012303003582/0000950123-03-003582.txt\n",
      "797 https://www.sec.gov/Archives/edgar/data/59478/000119312511041620/0001193125-11-041620.txt\n",
      "798 https://www.sec.gov/Archives/edgar/data/106640/0000950131-95-000626.txt\n",
      "799 https://www.sec.gov/Archives/edgar/data/310158/000095012304002379/0000950123-04-002379.txt\n",
      "800 https://www.sec.gov/Archives/edgar/data/20520/0000020520-95-000007.txt\n",
      "801 https://www.sec.gov/Archives/edgar/data/52988/000119312508244600/0001193125-08-244600.txt\n",
      "802 https://www.sec.gov/Archives/edgar/data/1041061/000104106101500003/0001041061-01-500003.txt\n",
      "803 https://www.sec.gov/Archives/edgar/data/106535/0000106535-94-000003.txt\n",
      "804 https://www.sec.gov/Archives/edgar/data/1031296/000095012311014700/0000950123-11-014700.txt\n",
      "805 https://www.sec.gov/Archives/edgar/data/945764/000095013406004437/0000950134-06-004437.txt\n",
      "806 https://www.sec.gov/Archives/edgar/data/36270/000119312513071824/0001193125-13-071824.txt\n",
      "807 https://www.sec.gov/Archives/edgar/data/818479/000081847904000031/0000818479-04-000031.txt\n",
      "808 https://www.sec.gov/Archives/edgar/data/33185/000110465905011449/0001104659-05-011449.txt\n",
      "809 https://www.sec.gov/Archives/edgar/data/89800/0000950152-95-000337.txt\n",
      "810 https://www.sec.gov/Archives/edgar/data/1593538/000119312516478393/0001193125-16-478393.txt\n",
      "811 https://www.sec.gov/Archives/edgar/data/1137774/000119312515056366/0001193125-15-056366.txt\n",
      "812 https://www.sec.gov/Archives/edgar/data/701221/000095012310016612/0000950123-10-016612.txt\n",
      "813 https://www.sec.gov/Archives/edgar/data/740260/000119312504031291/0001193125-04-031291.txt\n",
      "814 https://www.sec.gov/Archives/edgar/data/1336917/000133691717000017/0001336917-17-000017.txt\n",
      "815 https://www.sec.gov/Archives/edgar/data/69499/000095015204004624/0000950152-04-004624.txt\n",
      "816 https://www.sec.gov/Archives/edgar/data/740260/000119312506041443/0001193125-06-041443.txt\n",
      "817 https://www.sec.gov/Archives/edgar/data/941548/0000950129-98-001331.txt\n",
      "818 https://www.sec.gov/Archives/edgar/data/879101/000112528201000957/0001125282-01-000957.txt\n",
      "819 https://www.sec.gov/Archives/edgar/data/1373835/000119312509040605/0001193125-09-040605.txt\n",
      "820 https://www.sec.gov/Archives/edgar/data/707549/000089161805000627/0000891618-05-000627.txt\n",
      "821 https://www.sec.gov/Archives/edgar/data/896159/000119312509040758/0001193125-09-040758.txt\n",
      "822 https://www.sec.gov/Archives/edgar/data/935703/000093570316000127/0000935703-16-000127.txt\n",
      "823 https://www.sec.gov/Archives/edgar/data/1018963/000144530514000663/0001445305-14-000663.txt\n",
      "824 https://www.sec.gov/Archives/edgar/data/773840/000093041314000634/0000930413-14-000634.txt\n",
      "825 https://www.sec.gov/Archives/edgar/data/21344/0000950144-94-000600.txt\n",
      "826 https://www.sec.gov/Archives/edgar/data/1496048/000104746914001175/0001047469-14-001175.txt\n",
      "827 https://www.sec.gov/Archives/edgar/data/1090727/000109072717000011/0001090727-17-000011.txt\n",
      "828 https://www.sec.gov/Archives/edgar/data/101829/0000101829-97-000004.txt\n",
      "829 https://www.sec.gov/Archives/edgar/data/818479/000081847915000005/0000818479-15-000005.txt\n",
      "830 https://www.sec.gov/Archives/edgar/data/24545/000104746911001088/0001047469-11-001088.txt\n",
      "831 https://www.sec.gov/Archives/edgar/data/72971/000104746903008749/0001047469-03-008749.txt\n",
      "832 https://www.sec.gov/Archives/edgar/data/1000697/000092701601001505/0000927016-01-001505.txt\n",
      "833 https://www.sec.gov/Archives/edgar/data/851968/000085196806000032/0000851968-06-000032.txt\n",
      "834 https://www.sec.gov/Archives/edgar/data/1060391/000106039117000012/0001060391-17-000012.txt\n",
      "835 https://www.sec.gov/Archives/edgar/data/773840/000095011704000868/0000950117-04-000868.txt\n",
      "836 https://www.sec.gov/Archives/edgar/data/100885/000119312504025678/0001193125-04-025678.txt\n",
      "837 https://www.sec.gov/Archives/edgar/data/97476/000009747613000009/0000097476-13-000009.txt\n",
      "838 https://www.sec.gov/Archives/edgar/data/29915/000104746904005078/0001047469-04-005078.txt\n",
      "839 https://www.sec.gov/Archives/edgar/data/62996/000095012407001157/0000950124-07-001157.txt\n",
      "840 https://www.sec.gov/Archives/edgar/data/8670/000000867014000015/0000008670-14-000015.txt\n",
      "841 https://www.sec.gov/Archives/edgar/data/96223/0000909518-99-000190.txt\n",
      "842 https://www.sec.gov/Archives/edgar/data/106640/0000950131-96-001100.txt\n",
      "843 https://www.sec.gov/Archives/edgar/data/701985/0000950152-95-000769.txt\n",
      "844 https://www.sec.gov/Archives/edgar/data/78003/000007800316000077/0000078003-16-000077.txt\n",
      "845 https://www.sec.gov/Archives/edgar/data/77476/000119312509033126/0001193125-09-033126.txt\n",
      "846 https://www.sec.gov/Archives/edgar/data/936468/000119312504035751/0001193125-04-035751.txt\n",
      "847 https://www.sec.gov/Archives/edgar/data/713676/000119312509042518/0001193125-09-042518.txt\n",
      "848 https://www.sec.gov/Archives/edgar/data/1065088/000095013408003741/0000950134-08-003741.txt\n",
      "849 https://www.sec.gov/Archives/edgar/data/935703/000119312505076605/0001193125-05-076605.txt\n",
      "850 https://www.sec.gov/Archives/edgar/data/200406/0000950123-99-002942.txt\n",
      "851 https://www.sec.gov/Archives/edgar/data/101829/000010182914000006/0000101829-14-000006.txt\n",
      "852 https://www.sec.gov/Archives/edgar/data/101778/000104746905006086/0001047469-05-006086.txt\n",
      "853 https://www.sec.gov/Archives/edgar/data/879101/000139843213000115/0001398432-13-000115.txt\n",
      "854 https://www.sec.gov/Archives/edgar/data/849399/000119312512241997/0001193125-12-241997.txt\n",
      "855 https://www.sec.gov/Archives/edgar/data/63276/000119312511045072/0001193125-11-045072.txt\n",
      "CPU times: user 14min 49s, sys: 34.4 s, total: 15min 23s\n",
      "Wall time: 24min 16s\n"
     ]
    }
   ],
   "source": [
    "# %%time\n",
    "# url = data_test['10k_link']\n",
    "# for i,j in enumerate(url): \n",
    "#   try:\n",
    "#     print(i,j)\n",
    "#     req = urllib.request.Request(j)\n",
    "#     resp = urllib.request.urlopen(req)\n",
    "#     resp_data = resp.read()\n",
    "#     resp_data = resp_data.decode('utf-8')\n",
    "#     ext_txt = find_between(resp_data,start,end)\n",
    "#     soup = bs(ext_txt, 'lxml')\n",
    "#     text= soup.find_all(text=True)\n",
    "#     tag_list = ['a','sequence','filename','description']\n",
    "#     result =\"\"\n",
    "#     for t in text:\n",
    "#       if t.parent.name not in tag_list:\n",
    "#         result += '{} '.format(t)\n",
    "\n",
    "#   except:\n",
    "#     pass\n",
    "  \n",
    "#   data_test.loc[i, 'Extracted_data_test'] = result"
   ]
  },
  {
   "cell_type": "markdown",
   "metadata": {
    "colab_type": "text",
    "id": "mtBM4nBeDoiJ"
   },
   "source": [
    "### Understanding the data"
   ]
  },
  {
   "cell_type": "code",
   "execution_count": 5,
   "metadata": {
    "colab": {
     "base_uri": "https://localhost:8080/",
     "height": 195
    },
    "colab_type": "code",
    "id": "jR7Hx1zbtxFv",
    "outputId": "23b79b22-56d0-4d8b-936b-fac13d87ff55"
   },
   "outputs": [
    {
     "data": {
      "text/html": [
       "<div>\n",
       "<style scoped>\n",
       "    .dataframe tbody tr th:only-of-type {\n",
       "        vertical-align: middle;\n",
       "    }\n",
       "\n",
       "    .dataframe tbody tr th {\n",
       "        vertical-align: top;\n",
       "    }\n",
       "\n",
       "    .dataframe thead th {\n",
       "        text-align: right;\n",
       "    }\n",
       "</style>\n",
       "<table border=\"1\" class=\"dataframe\">\n",
       "  <thead>\n",
       "    <tr style=\"text-align: right;\">\n",
       "      <th></th>\n",
       "      <th>ticker</th>\n",
       "      <th>cik</th>\n",
       "      <th>filing_date</th>\n",
       "      <th>10k_link</th>\n",
       "      <th>long_term_outlook</th>\n",
       "      <th>Extracted_data</th>\n",
       "    </tr>\n",
       "  </thead>\n",
       "  <tbody>\n",
       "    <tr>\n",
       "      <th>0</th>\n",
       "      <td>FE</td>\n",
       "      <td>1031296</td>\n",
       "      <td>2012-02-28</td>\n",
       "      <td>https://www.sec.gov/Archives/edgar/data/103129...</td>\n",
       "      <td>0</td>\n",
       "      <td>\\n html PUBLIC \"-//W3C//DTD HTML 4.01 Transiti...</td>\n",
       "    </tr>\n",
       "    <tr>\n",
       "      <th>1</th>\n",
       "      <td>CL</td>\n",
       "      <td>21665</td>\n",
       "      <td>2015-02-19</td>\n",
       "      <td>https://www.sec.gov/Archives/edgar/data/21665/...</td>\n",
       "      <td>0</td>\n",
       "      <td>\\n html PUBLIC \"-//W3C//DTD HTML 4.01 Transiti...</td>\n",
       "    </tr>\n",
       "    <tr>\n",
       "      <th>2</th>\n",
       "      <td>PRU</td>\n",
       "      <td>1137774</td>\n",
       "      <td>2016-02-19</td>\n",
       "      <td>https://www.sec.gov/Archives/edgar/data/113777...</td>\n",
       "      <td>1</td>\n",
       "      <td>\\n html PUBLIC \"-//W3C//DTD HTML 4.01 Transiti...</td>\n",
       "    </tr>\n",
       "    <tr>\n",
       "      <th>3</th>\n",
       "      <td>EBAY</td>\n",
       "      <td>1065088</td>\n",
       "      <td>2001-03-28</td>\n",
       "      <td>https://www.sec.gov/Archives/edgar/data/106508...</td>\n",
       "      <td>1</td>\n",
       "      <td>\\n    1\\n\\n- ---------------------------------...</td>\n",
       "    </tr>\n",
       "    <tr>\n",
       "      <th>4</th>\n",
       "      <td>CAM</td>\n",
       "      <td>941548</td>\n",
       "      <td>2005-02-25</td>\n",
       "      <td>https://www.sec.gov/Archives/edgar/data/941548...</td>\n",
       "      <td>1</td>\n",
       "      <td>\\n e10vk \\n  PAGEBREAK  \\n \\n \\n   \\n   \\n SEC...</td>\n",
       "    </tr>\n",
       "  </tbody>\n",
       "</table>\n",
       "</div>"
      ],
      "text/plain": [
       "  ticker  ...                                     Extracted_data\n",
       "0     FE  ...  \\n html PUBLIC \"-//W3C//DTD HTML 4.01 Transiti...\n",
       "1     CL  ...  \\n html PUBLIC \"-//W3C//DTD HTML 4.01 Transiti...\n",
       "2    PRU  ...  \\n html PUBLIC \"-//W3C//DTD HTML 4.01 Transiti...\n",
       "3   EBAY  ...  \\n    1\\n\\n- ---------------------------------...\n",
       "4    CAM  ...  \\n e10vk \\n  PAGEBREAK  \\n \\n \\n   \\n   \\n SEC...\n",
       "\n",
       "[5 rows x 6 columns]"
      ]
     },
     "execution_count": 5,
     "metadata": {
      "tags": []
     },
     "output_type": "execute_result"
    }
   ],
   "source": [
    "df_train.head()"
   ]
  },
  {
   "cell_type": "code",
   "execution_count": 6,
   "metadata": {
    "colab": {
     "base_uri": "https://localhost:8080/",
     "height": 195
    },
    "colab_type": "code",
    "id": "_Q_qNUSJtg2Y",
    "outputId": "afb39387-c396-49e8-f697-31274d519c86"
   },
   "outputs": [
    {
     "data": {
      "text/html": [
       "<div>\n",
       "<style scoped>\n",
       "    .dataframe tbody tr th:only-of-type {\n",
       "        vertical-align: middle;\n",
       "    }\n",
       "\n",
       "    .dataframe tbody tr th {\n",
       "        vertical-align: top;\n",
       "    }\n",
       "\n",
       "    .dataframe thead th {\n",
       "        text-align: right;\n",
       "    }\n",
       "</style>\n",
       "<table border=\"1\" class=\"dataframe\">\n",
       "  <thead>\n",
       "    <tr style=\"text-align: right;\">\n",
       "      <th></th>\n",
       "      <th>id</th>\n",
       "      <th>ticker</th>\n",
       "      <th>cik</th>\n",
       "      <th>filing_date</th>\n",
       "      <th>10k_link</th>\n",
       "      <th>Extracted_data_test</th>\n",
       "    </tr>\n",
       "  </thead>\n",
       "  <tbody>\n",
       "    <tr>\n",
       "      <th>0</th>\n",
       "      <td>0</td>\n",
       "      <td>GD</td>\n",
       "      <td>40533</td>\n",
       "      <td>2/17/2012</td>\n",
       "      <td>https://www.sec.gov/Archives/edgar/data/40533/...</td>\n",
       "      <td>\\n Form 10-K \\n \\n       \\n \\n \\n   UNITED STA...</td>\n",
       "    </tr>\n",
       "    <tr>\n",
       "      <th>1</th>\n",
       "      <td>1</td>\n",
       "      <td>MTB</td>\n",
       "      <td>36270</td>\n",
       "      <td>3/19/1999</td>\n",
       "      <td>https://www.sec.gov/Archives/edgar/data/36270/...</td>\n",
       "      <td>\\n \\n\\n\\n                                  UNI...</td>\n",
       "    </tr>\n",
       "    <tr>\n",
       "      <th>2</th>\n",
       "      <td>2</td>\n",
       "      <td>RRC</td>\n",
       "      <td>315852</td>\n",
       "      <td>3/6/2001</td>\n",
       "      <td>https://www.sec.gov/Archives/edgar/data/315852...</td>\n",
       "      <td>\\n Range Resources Corporation Form 10-K for 1...</td>\n",
       "    </tr>\n",
       "    <tr>\n",
       "      <th>3</th>\n",
       "      <td>3</td>\n",
       "      <td>LH</td>\n",
       "      <td>920148</td>\n",
       "      <td>2/26/2009</td>\n",
       "      <td>https://www.sec.gov/Archives/edgar/data/920148...</td>\n",
       "      <td>\\n   \\n UNITED STATES \\n SECURITIES AND EXCHAN...</td>\n",
       "    </tr>\n",
       "    <tr>\n",
       "      <th>4</th>\n",
       "      <td>4</td>\n",
       "      <td>SYY</td>\n",
       "      <td>96021</td>\n",
       "      <td>9/16/2004</td>\n",
       "      <td>https://www.sec.gov/Archives/edgar/data/96021/...</td>\n",
       "      <td>\\n \\n\\n- -------------------------------------...</td>\n",
       "    </tr>\n",
       "  </tbody>\n",
       "</table>\n",
       "</div>"
      ],
      "text/plain": [
       "   id  ...                                Extracted_data_test\n",
       "0   0  ...  \\n Form 10-K \\n \\n       \\n \\n \\n   UNITED STA...\n",
       "1   1  ...  \\n \\n\\n\\n                                  UNI...\n",
       "2   2  ...  \\n Range Resources Corporation Form 10-K for 1...\n",
       "3   3  ...  \\n   \\n UNITED STATES \\n SECURITIES AND EXCHAN...\n",
       "4   4  ...  \\n \\n\\n- -------------------------------------...\n",
       "\n",
       "[5 rows x 6 columns]"
      ]
     },
     "execution_count": 6,
     "metadata": {
      "tags": []
     },
     "output_type": "execute_result"
    }
   ],
   "source": [
    "df_test.head()"
   ]
  },
  {
   "cell_type": "code",
   "execution_count": 7,
   "metadata": {
    "colab": {
     "base_uri": "https://localhost:8080/",
     "height": 134
    },
    "colab_type": "code",
    "id": "Elcqe5n-m0a8",
    "outputId": "4b8c6d4b-e557-4a29-de2f-0babbb16f7df"
   },
   "outputs": [
    {
     "data": {
      "text/plain": [
       "ticker               object\n",
       "cik                   int64\n",
       "filing_date          object\n",
       "10k_link             object\n",
       "long_term_outlook     int64\n",
       "Extracted_data       object\n",
       "dtype: object"
      ]
     },
     "execution_count": 7,
     "metadata": {
      "tags": []
     },
     "output_type": "execute_result"
    }
   ],
   "source": [
    "df_train.dtypes"
   ]
  },
  {
   "cell_type": "code",
   "execution_count": 8,
   "metadata": {
    "colab": {
     "base_uri": "https://localhost:8080/",
     "height": 34
    },
    "colab_type": "code",
    "id": "xBpGN0f7fLOK",
    "outputId": "c2366484-bda5-476e-83ad-11ea620d8564"
   },
   "outputs": [
    {
     "data": {
      "text/plain": [
       "(2568, 6)"
      ]
     },
     "execution_count": 8,
     "metadata": {
      "tags": []
     },
     "output_type": "execute_result"
    }
   ],
   "source": [
    "df_train.shape"
   ]
  },
  {
   "cell_type": "code",
   "execution_count": 9,
   "metadata": {
    "colab": {
     "base_uri": "https://localhost:8080/",
     "height": 134
    },
    "colab_type": "code",
    "id": "kZmKTtEiUA_o",
    "outputId": "f38d61da-0f35-4b78-fae6-3f1c51ae4cc7"
   },
   "outputs": [
    {
     "data": {
      "text/plain": [
       "ticker               0\n",
       "cik                  0\n",
       "filing_date          0\n",
       "10k_link             0\n",
       "long_term_outlook    0\n",
       "Extracted_data       0\n",
       "dtype: int64"
      ]
     },
     "execution_count": 9,
     "metadata": {
      "tags": []
     },
     "output_type": "execute_result"
    }
   ],
   "source": [
    "df_train.isnull().sum()"
   ]
  },
  {
   "cell_type": "markdown",
   "metadata": {
    "colab_type": "text",
    "id": "v5D4a2E3gx97"
   },
   "source": [
    "**Saving the webscraped data to text file (Contingency plan - Just in case the html page is not available to scrape )**"
   ]
  },
  {
   "cell_type": "code",
   "execution_count": 0,
   "metadata": {
    "colab": {},
    "colab_type": "code",
    "id": "BSuOwmxIT2ub"
   },
   "outputs": [],
   "source": [
    "# pd.DataFrame(data_test).to_csv(\"Extracted_test_url.csv\",sep=',', columns=['id','ticker','cik','filing_date','10k_link','Extracted_data_test'], header=True, index=False)"
   ]
  },
  {
   "cell_type": "code",
   "execution_count": 0,
   "metadata": {
    "colab": {
     "base_uri": "https://localhost:8080/",
     "height": 195
    },
    "colab_type": "code",
    "id": "UJM0JW60UUX8",
    "outputId": "b3f18035-62e4-4e46-a547-7b94a139006a"
   },
   "outputs": [
    {
     "data": {
      "text/html": [
       "<div>\n",
       "<style scoped>\n",
       "    .dataframe tbody tr th:only-of-type {\n",
       "        vertical-align: middle;\n",
       "    }\n",
       "\n",
       "    .dataframe tbody tr th {\n",
       "        vertical-align: top;\n",
       "    }\n",
       "\n",
       "    .dataframe thead th {\n",
       "        text-align: right;\n",
       "    }\n",
       "</style>\n",
       "<table border=\"1\" class=\"dataframe\">\n",
       "  <thead>\n",
       "    <tr style=\"text-align: right;\">\n",
       "      <th></th>\n",
       "      <th>id</th>\n",
       "      <th>ticker</th>\n",
       "      <th>cik</th>\n",
       "      <th>filing_date</th>\n",
       "      <th>10k_link</th>\n",
       "      <th>Extracted_data_test</th>\n",
       "    </tr>\n",
       "  </thead>\n",
       "  <tbody>\n",
       "    <tr>\n",
       "      <th>0</th>\n",
       "      <td>0</td>\n",
       "      <td>GD</td>\n",
       "      <td>40533</td>\n",
       "      <td>2/17/2012</td>\n",
       "      <td>https://www.sec.gov/Archives/edgar/data/40533/...</td>\n",
       "      <td>\\n Form 10-K \\n \\n       \\n \\n \\n   UNITED STA...</td>\n",
       "    </tr>\n",
       "    <tr>\n",
       "      <th>1</th>\n",
       "      <td>1</td>\n",
       "      <td>MTB</td>\n",
       "      <td>36270</td>\n",
       "      <td>3/19/1999</td>\n",
       "      <td>https://www.sec.gov/Archives/edgar/data/36270/...</td>\n",
       "      <td>\\n \\n\\n\\n                                  UNI...</td>\n",
       "    </tr>\n",
       "    <tr>\n",
       "      <th>2</th>\n",
       "      <td>2</td>\n",
       "      <td>RRC</td>\n",
       "      <td>315852</td>\n",
       "      <td>3/6/2001</td>\n",
       "      <td>https://www.sec.gov/Archives/edgar/data/315852...</td>\n",
       "      <td>\\n Range Resources Corporation Form 10-K for 1...</td>\n",
       "    </tr>\n",
       "    <tr>\n",
       "      <th>3</th>\n",
       "      <td>3</td>\n",
       "      <td>LH</td>\n",
       "      <td>920148</td>\n",
       "      <td>2/26/2009</td>\n",
       "      <td>https://www.sec.gov/Archives/edgar/data/920148...</td>\n",
       "      <td>\\n   \\n UNITED STATES \\n SECURITIES AND EXCHAN...</td>\n",
       "    </tr>\n",
       "    <tr>\n",
       "      <th>4</th>\n",
       "      <td>4</td>\n",
       "      <td>SYY</td>\n",
       "      <td>96021</td>\n",
       "      <td>9/16/2004</td>\n",
       "      <td>https://www.sec.gov/Archives/edgar/data/96021/...</td>\n",
       "      <td>\\n \\n\\n- -------------------------------------...</td>\n",
       "    </tr>\n",
       "  </tbody>\n",
       "</table>\n",
       "</div>"
      ],
      "text/plain": [
       "   id  ...                                Extracted_data_test\n",
       "0   0  ...  \\n Form 10-K \\n \\n       \\n \\n \\n   UNITED STA...\n",
       "1   1  ...  \\n \\n\\n\\n                                  UNI...\n",
       "2   2  ...  \\n Range Resources Corporation Form 10-K for 1...\n",
       "3   3  ...  \\n   \\n UNITED STATES \\n SECURITIES AND EXCHAN...\n",
       "4   4  ...  \\n \\n\\n- -------------------------------------...\n",
       "\n",
       "[5 rows x 6 columns]"
      ]
     },
     "execution_count": 13,
     "metadata": {
      "tags": []
     },
     "output_type": "execute_result"
    }
   ],
   "source": [
    "# dtest = pd.read_csv(\"Extracted_test_url.csv\", sep= ',')\n",
    "# dtest.head()"
   ]
  },
  {
   "cell_type": "markdown",
   "metadata": {
    "colab_type": "text",
    "id": "aN6EeIzOhcJP"
   },
   "source": [
    "### Duplicating the original text extracted before proceeeding with preprocessing steps"
   ]
  },
  {
   "cell_type": "code",
   "execution_count": 11,
   "metadata": {
    "colab": {
     "base_uri": "https://localhost:8080/",
     "height": 134
    },
    "colab_type": "code",
    "id": "Q8qRfRjPdJgn",
    "outputId": "708d61ac-3aff-4bd7-f42b-02ccb2c0504c"
   },
   "outputs": [
    {
     "name": "stdout",
     "output_type": "stream",
     "text": [
      "<class 'pandas.core.series.Series'>\n",
      "Index(['ticker', 'cik', 'filing_date', '10k_link', 'long_term_outlook',\n",
      "       'Extracted_data'],\n",
      "      dtype='object')\n",
      "Index(['ticker', 'cik', 'filing_date', '10k_link', 'long_term_outlook',\n",
      "       'Extracted_data'],\n",
      "      dtype='object')\n"
     ]
    }
   ],
   "source": [
    "import copy\n",
    "print(type(df_train['Extracted_data']))\n",
    "original_data = copy.deepcopy(df_train)\n",
    "print(df_train.keys())\n",
    "print(original_data.keys())\n",
    "\n",
    "# import copy\n",
    "# print(type(df_test['Extracted_data_test']))\n",
    "# original_data = copy.deepcopy(df_test)\n",
    "# print(df_test.keys())\n",
    "# print(original_data.keys())"
   ]
  },
  {
   "cell_type": "markdown",
   "metadata": {
    "colab_type": "text",
    "id": "HbZm_sGIbh9F"
   },
   "source": [
    "**Distribution of target variable**"
   ]
  },
  {
   "cell_type": "code",
   "execution_count": 12,
   "metadata": {
    "colab": {
     "base_uri": "https://localhost:8080/",
     "height": 351
    },
    "colab_type": "code",
    "id": "dD0p-zCjaRA7",
    "outputId": "6f6129a8-1980-405b-cffe-08727f42b4ff"
   },
   "outputs": [
    {
     "data": {
      "image/png": "[encoded data removed]",
      "text/plain": [
       "<Figure size 432x288 with 1 Axes>"
      ]
     },
     "metadata": {
      "tags": []
     },
     "output_type": "display_data"
    },
    {
     "name": "stdout",
     "output_type": "stream",
     "text": [
      "1    1821\n",
      "0     747\n",
      "Name: long_term_outlook, dtype: int64\n",
      "Percentage of companies whose stock prices have grown: 70.91121495327103 %\n"
     ]
    }
   ],
   "source": [
    "# Plot Distribution\n",
    "import seaborn as sns\n",
    "sns.countplot(x='long_term_outlook',data=data_train)\n",
    "plt.show()\n",
    "\n",
    "# What are the counts?\n",
    "print(data_train.long_term_outlook.value_counts())\n",
    "\n",
    "# What is the percentage?\n",
    "count_yes = len(data_train[data_train.long_term_outlook == 1])\n",
    "count_no = len(data_train[data_train.long_term_outlook != 1])\n",
    "\n",
    "percent_success = (count_yes/(count_yes + count_no))*100\n",
    "print('Percentage of companies whose stock prices have grown:', percent_success, \"%\")"
   ]
  },
  {
   "cell_type": "markdown",
   "metadata": {
    "colab_type": "text",
    "id": "7EGsKAI9aOil"
   },
   "source": [
    "**Most of the companies have an increased stock price 6 months from the data of filing.**"
   ]
  },
  {
   "cell_type": "markdown",
   "metadata": {
    "colab_type": "text",
    "id": "MBy8gdgabKjs"
   },
   "source": [
    "**Numbers of stocks filed wrt to year**"
   ]
  },
  {
   "cell_type": "code",
   "execution_count": 0,
   "metadata": {
    "colab": {},
    "colab_type": "code",
    "id": "mKuuQGzudh0K"
   },
   "outputs": [],
   "source": [
    "#Plot distribution\n",
    "#df_train['filing_year'] = df_train['filing_date'].str.split('-').str[0]\n",
    "\n",
    "df_test['filing_date'] = pd.to_datetime(df_test['filing_date'])\n",
    "df_test['filing_year'] = df_test['filing_date'].dt.year"
   ]
  },
  {
   "cell_type": "code",
   "execution_count": 82,
   "metadata": {
    "colab": {
     "base_uri": "https://localhost:8080/",
     "height": 301
    },
    "colab_type": "code",
    "id": "jjuqefuipjZa",
    "outputId": "5ac28158-ac65-48ab-fd50-68912314f397"
   },
   "outputs": [
    {
     "data": {
      "text/plain": [
       "<matplotlib.axes._subplots.AxesSubplot at 0x7f3e862e7e80>"
      ]
     },
     "execution_count": 82,
     "metadata": {
      "tags": []
     },
     "output_type": "execute_result"
    },
    {
     "data": {
      "image/png": "[encoded data removed]",
      "text/plain": [
       "<Figure size 432x288 with 1 Axes>"
      ]
     },
     "metadata": {
      "tags": []
     },
     "output_type": "display_data"
    }
   ],
   "source": [
    "df_train['filing_year'].value_counts().plot(kind='bar')"
   ]
  },
  {
   "cell_type": "markdown",
   "metadata": {
    "colab_type": "text",
    "id": "d3ENwvjIK_PV"
   },
   "source": [
    "**The number of filings per year have an increasing trend in train_data since 1995**"
   ]
  },
  {
   "cell_type": "code",
   "execution_count": 85,
   "metadata": {
    "colab": {
     "base_uri": "https://localhost:8080/",
     "height": 301
    },
    "colab_type": "code",
    "id": "Dkbw31yDKJwr",
    "outputId": "1a6a0bab-88a7-46e4-a18b-39f2c8aad82c"
   },
   "outputs": [
    {
     "data": {
      "text/plain": [
       "<matplotlib.axes._subplots.AxesSubplot at 0x7f3e8a4e7d30>"
      ]
     },
     "execution_count": 85,
     "metadata": {
      "tags": []
     },
     "output_type": "execute_result"
    },
    {
     "data": {
      "image/png": "[encoded data removed]",
      "text/plain": [
       "<Figure size 432x288 with 1 Axes>"
      ]
     },
     "metadata": {
      "tags": []
     },
     "output_type": "display_data"
    }
   ],
   "source": [
    "df_test['filing_year'].value_counts().plot(kind='bar')"
   ]
  },
  {
   "cell_type": "markdown",
   "metadata": {
    "colab_type": "text",
    "id": "t3xaCOH8b3e9"
   },
   "source": [
    "**The number of filings per year have an increasing trend in test_data since 1998**"
   ]
  },
  {
   "cell_type": "markdown",
   "metadata": {
    "colab_type": "text",
    "id": "EeqY_9yLb0DU"
   },
   "source": [
    "**Representation of WorldCloud wrt to target variable**"
   ]
  },
  {
   "cell_type": "markdown",
   "metadata": {
    "colab_type": "text",
    "id": "R9JhYJStLLN7"
   },
   "source": [
    "The word cloud below represent the words/terms which may or may not be used to define the stock price prediction, hence it represents positive terms helps in stock price Prediction as well as some negative terms which may not be acclimated to define the stock price Prediction."
   ]
  },
  {
   "cell_type": "code",
   "execution_count": 15,
   "metadata": {
    "colab": {
     "base_uri": "https://localhost:8080/",
     "height": 219
    },
    "colab_type": "code",
    "id": "96dHKQ13suOf",
    "outputId": "686e61ba-f987-44b7-b0d5-95ae3f770372"
   },
   "outputs": [
    {
     "data": {
      "image/png": "[encoded data removed]",
      "text/plain": [
       "<Figure size 432x288 with 1 Axes>"
      ]
     },
     "metadata": {
      "tags": []
     },
     "output_type": "display_data"
    }
   ],
   "source": [
    "from wordcloud import WordCloud #Target variable as 0\n",
    "wordcloud = WordCloud().generate(data_train['Extracted_data'][0])\n",
    "plt.imshow(wordcloud)\n",
    "plt.axis(\"off\")\n",
    "plt.show()"
   ]
  },
  {
   "cell_type": "code",
   "execution_count": 16,
   "metadata": {
    "colab": {
     "base_uri": "https://localhost:8080/",
     "height": 219
    },
    "colab_type": "code",
    "id": "EyNJqIvv58Yw",
    "outputId": "6558075c-1e5b-4672-bd3b-ccd07c225ec8"
   },
   "outputs": [
    {
     "data": {
      "image/png": "[encoded data removed]",
      "text/plain": [
       "<Figure size 432x288 with 1 Axes>"
      ]
     },
     "metadata": {
      "tags": []
     },
     "output_type": "display_data"
    }
   ],
   "source": [
    "from wordcloud import WordCloud #Target variable as 1\n",
    "wordcloud = WordCloud().generate(data_train['Extracted_data'][2])\n",
    "plt.imshow(wordcloud)\n",
    "plt.axis(\"off\")\n",
    "plt.show()"
   ]
  },
  {
   "cell_type": "code",
   "execution_count": 17,
   "metadata": {
    "colab": {
     "base_uri": "https://localhost:8080/",
     "height": 219
    },
    "colab_type": "code",
    "id": "CafVsJ8CsZkS",
    "outputId": "06ab0d70-0eaa-431a-e44d-34aa75f02766"
   },
   "outputs": [
    {
     "data": {
      "image/png": "[encoded data removed]",
      "text/plain": [
       "<Figure size 432x288 with 1 Axes>"
      ]
     },
     "metadata": {
      "tags": []
     },
     "output_type": "display_data"
    }
   ],
   "source": [
    "from wordcloud import WordCloud\n",
    "wordcloud = WordCloud().generate(data_test['Extracted_data_test'][0])\n",
    "plt.imshow(wordcloud)\n",
    "plt.axis(\"off\")\n",
    "plt.show()"
   ]
  },
  {
   "cell_type": "code",
   "execution_count": 18,
   "metadata": {
    "colab": {
     "base_uri": "https://localhost:8080/",
     "height": 219
    },
    "colab_type": "code",
    "id": "XelQwtN4st6r",
    "outputId": "313711b9-2c84-4fbc-9e01-c40662e288d2"
   },
   "outputs": [
    {
     "data": {
      "image/png": "[encoded data removed]",
      "text/plain": [
       "<Figure size 432x288 with 1 Axes>"
      ]
     },
     "metadata": {
      "tags": []
     },
     "output_type": "display_data"
    }
   ],
   "source": [
    "from wordcloud import WordCloud\n",
    "wordcloud = WordCloud().generate(data_test['Extracted_data_test'][2])\n",
    "plt.imshow(wordcloud)\n",
    "plt.axis(\"off\")\n",
    "plt.show()"
   ]
  },
  {
   "cell_type": "markdown",
   "metadata": {
    "colab_type": "text",
    "id": "7I4OvMbjDrk9"
   },
   "source": [
    "**Valuable Insights**\n",
    "Top 50 most frequent words are common for both levels in the target variable. Considering the next 30 most frequent words, insights gained are:\n",
    "\n",
    "1. Companies with increased stock prices tend to have certain positive words   such as \"benefit\",\"increase\",\"return\" etc.\n",
    "2. Companies with decreased stock prices tend to have certain negative words such as \"decrease\",\"expense\" etc.\n",
    "3. The most occuring words present in both the graphs are fairly different."
   ]
  },
  {
   "cell_type": "markdown",
   "metadata": {
    "colab_type": "text",
    "id": "_e_R7Bka5VXQ"
   },
   "source": [
    "**Stock variation/situation Year-wise**"
   ]
  },
  {
   "cell_type": "code",
   "execution_count": 19,
   "metadata": {
    "colab": {
     "base_uri": "https://localhost:8080/",
     "height": 518
    },
    "colab_type": "code",
    "id": "sZiGl4VdwdaH",
    "outputId": "904c6901-f5ee-420e-89a7-2e54661d1bad"
   },
   "outputs": [
    {
     "data": {
      "text/plain": [
       "<matplotlib.axes._subplots.AxesSubplot at 0x7f4069f96320>"
      ]
     },
     "execution_count": 19,
     "metadata": {
      "tags": []
     },
     "output_type": "execute_result"
    },
    {
     "data": {
      "image/png": "[encoded data removed]",
      "text/plain": [
       "<Figure size 1080x576 with 1 Axes>"
      ]
     },
     "metadata": {
      "tags": []
     },
     "output_type": "display_data"
    }
   ],
   "source": [
    "#Plot distribution\n",
    "plt.figure(figsize=(15,8))\n",
    "sns.barplot(x='filing_year',y='long_term_outlook',data=data_train)"
   ]
  },
  {
   "cell_type": "markdown",
   "metadata": {
    "colab_type": "text",
    "id": "zAp8WrzNceQe"
   },
   "source": [
    "1. Since 1995, the stocks have a decreasing trend till 2002, probably due to the burst of the dot com bubble.\n",
    "2. An abnormality can be noticed in 2008 indicating the crash of the stock market during the recession period."
   ]
  },
  {
   "cell_type": "code",
   "execution_count": 23,
   "metadata": {
    "colab": {
     "base_uri": "https://localhost:8080/",
     "height": 195
    },
    "colab_type": "code",
    "id": "riusSzHXyIEK",
    "outputId": "16df94ba-6f95-4607-8077-4e42e3cd96da"
   },
   "outputs": [
    {
     "data": {
      "text/html": [
       "<div>\n",
       "<style scoped>\n",
       "    .dataframe tbody tr th:only-of-type {\n",
       "        vertical-align: middle;\n",
       "    }\n",
       "\n",
       "    .dataframe tbody tr th {\n",
       "        vertical-align: top;\n",
       "    }\n",
       "\n",
       "    .dataframe thead th {\n",
       "        text-align: right;\n",
       "    }\n",
       "</style>\n",
       "<table border=\"1\" class=\"dataframe\">\n",
       "  <thead>\n",
       "    <tr style=\"text-align: right;\">\n",
       "      <th></th>\n",
       "      <th>ticker</th>\n",
       "      <th>cik</th>\n",
       "      <th>filing_date</th>\n",
       "      <th>10k_link</th>\n",
       "      <th>long_term_outlook</th>\n",
       "      <th>Extracted_data</th>\n",
       "      <th>filing_year</th>\n",
       "    </tr>\n",
       "  </thead>\n",
       "  <tbody>\n",
       "    <tr>\n",
       "      <th>0</th>\n",
       "      <td>FE</td>\n",
       "      <td>1031296</td>\n",
       "      <td>2012-02-28</td>\n",
       "      <td>https://www.sec.gov/Archives/edgar/data/103129...</td>\n",
       "      <td>0</td>\n",
       "      <td>\\n html PUBLIC \"-//W3C//DTD HTML 4.01 Transiti...</td>\n",
       "      <td>2012</td>\n",
       "    </tr>\n",
       "    <tr>\n",
       "      <th>1</th>\n",
       "      <td>CL</td>\n",
       "      <td>21665</td>\n",
       "      <td>2015-02-19</td>\n",
       "      <td>https://www.sec.gov/Archives/edgar/data/21665/...</td>\n",
       "      <td>0</td>\n",
       "      <td>\\n html PUBLIC \"-//W3C//DTD HTML 4.01 Transiti...</td>\n",
       "      <td>2015</td>\n",
       "    </tr>\n",
       "    <tr>\n",
       "      <th>2</th>\n",
       "      <td>PRU</td>\n",
       "      <td>1137774</td>\n",
       "      <td>2016-02-19</td>\n",
       "      <td>https://www.sec.gov/Archives/edgar/data/113777...</td>\n",
       "      <td>1</td>\n",
       "      <td>\\n html PUBLIC \"-//W3C//DTD HTML 4.01 Transiti...</td>\n",
       "      <td>2016</td>\n",
       "    </tr>\n",
       "    <tr>\n",
       "      <th>3</th>\n",
       "      <td>EBAY</td>\n",
       "      <td>1065088</td>\n",
       "      <td>2001-03-28</td>\n",
       "      <td>https://www.sec.gov/Archives/edgar/data/106508...</td>\n",
       "      <td>1</td>\n",
       "      <td>\\n    1\\n\\n- ---------------------------------...</td>\n",
       "      <td>2001</td>\n",
       "    </tr>\n",
       "    <tr>\n",
       "      <th>4</th>\n",
       "      <td>CAM</td>\n",
       "      <td>941548</td>\n",
       "      <td>2005-02-25</td>\n",
       "      <td>https://www.sec.gov/Archives/edgar/data/941548...</td>\n",
       "      <td>1</td>\n",
       "      <td>\\n e10vk \\n  PAGEBREAK  \\n \\n \\n   \\n   \\n SEC...</td>\n",
       "      <td>2005</td>\n",
       "    </tr>\n",
       "  </tbody>\n",
       "</table>\n",
       "</div>"
      ],
      "text/plain": [
       "  ticker  ...  filing_year\n",
       "0     FE  ...         2012\n",
       "1     CL  ...         2015\n",
       "2    PRU  ...         2016\n",
       "3   EBAY  ...         2001\n",
       "4    CAM  ...         2005\n",
       "\n",
       "[5 rows x 7 columns]"
      ]
     },
     "execution_count": 23,
     "metadata": {
      "tags": []
     },
     "output_type": "execute_result"
    }
   ],
   "source": [
    "df_train.head()"
   ]
  },
  {
   "cell_type": "markdown",
   "metadata": {
    "colab_type": "text",
    "id": "5bwvkV9blYzi"
   },
   "source": [
    "## Basic Preprocessing and Data Cleaning steps"
   ]
  },
  {
   "cell_type": "markdown",
   "metadata": {
    "colab_type": "text",
    "id": "YMg-HuNPjvH2"
   },
   "source": [
    "### Number of characters\n",
    "Here, we calculate the number of characters in each extracted_data wrt URL. This is done by calculating the length of the particular URL extracted_data."
   ]
  },
  {
   "cell_type": "code",
   "execution_count": 25,
   "metadata": {
    "colab": {
     "base_uri": "https://localhost:8080/",
     "height": 195
    },
    "colab_type": "code",
    "id": "0poGs-6RhQOo",
    "outputId": "ed2b3af3-68e3-4666-b975-4da3a513ce69"
   },
   "outputs": [
    {
     "data": {
      "text/html": [
       "<div>\n",
       "<style scoped>\n",
       "    .dataframe tbody tr th:only-of-type {\n",
       "        vertical-align: middle;\n",
       "    }\n",
       "\n",
       "    .dataframe tbody tr th {\n",
       "        vertical-align: top;\n",
       "    }\n",
       "\n",
       "    .dataframe thead th {\n",
       "        text-align: right;\n",
       "    }\n",
       "</style>\n",
       "<table border=\"1\" class=\"dataframe\">\n",
       "  <thead>\n",
       "    <tr style=\"text-align: right;\">\n",
       "      <th></th>\n",
       "      <th>Extracted_data_test</th>\n",
       "      <th>char_count</th>\n",
       "    </tr>\n",
       "  </thead>\n",
       "  <tbody>\n",
       "    <tr>\n",
       "      <th>0</th>\n",
       "      <td>\\n Form 10-K \\n \\n       \\n \\n \\n   UNITED STA...</td>\n",
       "      <td>384856</td>\n",
       "    </tr>\n",
       "    <tr>\n",
       "      <th>1</th>\n",
       "      <td>\\n \\n\\n\\n                                  UNI...</td>\n",
       "      <td>459221</td>\n",
       "    </tr>\n",
       "    <tr>\n",
       "      <th>2</th>\n",
       "      <td>\\n Range Resources Corporation Form 10-K for 1...</td>\n",
       "      <td>250576</td>\n",
       "    </tr>\n",
       "    <tr>\n",
       "      <th>3</th>\n",
       "      <td>\\n   \\n UNITED STATES \\n SECURITIES AND EXCHAN...</td>\n",
       "      <td>387734</td>\n",
       "    </tr>\n",
       "    <tr>\n",
       "      <th>4</th>\n",
       "      <td>\\n \\n\\n- -------------------------------------...</td>\n",
       "      <td>314394</td>\n",
       "    </tr>\n",
       "  </tbody>\n",
       "</table>\n",
       "</div>"
      ],
      "text/plain": [
       "                                 Extracted_data_test  char_count\n",
       "0  \\n Form 10-K \\n \\n       \\n \\n \\n   UNITED STA...      384856\n",
       "1  \\n \\n\\n\\n                                  UNI...      459221\n",
       "2  \\n Range Resources Corporation Form 10-K for 1...      250576\n",
       "3  \\n   \\n UNITED STATES \\n SECURITIES AND EXCHAN...      387734\n",
       "4  \\n \\n\\n- -------------------------------------...      314394"
      ]
     },
     "execution_count": 25,
     "metadata": {
      "tags": []
     },
     "output_type": "execute_result"
    }
   ],
   "source": [
    "# df_train['char_count'] = df_train['Extracted_data'].str.len() ## this also includes spaces\n",
    "# df_train[['Extracted_data','char_count']].head()\n",
    "\n",
    "df_test['char_count'] = df_test['Extracted_data_test'].str.len() ## this also includes spaces\n",
    "df_test[['Extracted_data_test','char_count']].head()"
   ]
  },
  {
   "cell_type": "markdown",
   "metadata": {
    "colab_type": "text",
    "id": "VXIOLVNDNf01"
   },
   "source": [
    "### Number of Words\n",
    "One of the most basic features we can extract is the number of words in each extracted data with respect to URL for 10-k reports. The basic intuition behind this is that generally, the negative sentiments contain a lesser amount of words than the positive ones.\n",
    "\n",
    "To do this, we simply use the split function in python:"
   ]
  },
  {
   "cell_type": "code",
   "execution_count": 27,
   "metadata": {
    "colab": {
     "base_uri": "https://localhost:8080/",
     "height": 195
    },
    "colab_type": "code",
    "id": "vzOQEm37n5Pn",
    "outputId": "ca336adb-00b0-4827-9a37-ce3441955d8a"
   },
   "outputs": [
    {
     "data": {
      "text/html": [
       "<div>\n",
       "<style scoped>\n",
       "    .dataframe tbody tr th:only-of-type {\n",
       "        vertical-align: middle;\n",
       "    }\n",
       "\n",
       "    .dataframe tbody tr th {\n",
       "        vertical-align: top;\n",
       "    }\n",
       "\n",
       "    .dataframe thead th {\n",
       "        text-align: right;\n",
       "    }\n",
       "</style>\n",
       "<table border=\"1\" class=\"dataframe\">\n",
       "  <thead>\n",
       "    <tr style=\"text-align: right;\">\n",
       "      <th></th>\n",
       "      <th>Extracted_data_test</th>\n",
       "      <th>word_count</th>\n",
       "    </tr>\n",
       "  </thead>\n",
       "  <tbody>\n",
       "    <tr>\n",
       "      <th>0</th>\n",
       "      <td>\\n Form 10-K \\n \\n       \\n \\n \\n   UNITED STA...</td>\n",
       "      <td>81075</td>\n",
       "    </tr>\n",
       "    <tr>\n",
       "      <th>1</th>\n",
       "      <td>\\n \\n\\n\\n                                  UNI...</td>\n",
       "      <td>156159</td>\n",
       "    </tr>\n",
       "    <tr>\n",
       "      <th>2</th>\n",
       "      <td>\\n Range Resources Corporation Form 10-K for 1...</td>\n",
       "      <td>46048</td>\n",
       "    </tr>\n",
       "    <tr>\n",
       "      <th>3</th>\n",
       "      <td>\\n   \\n UNITED STATES \\n SECURITIES AND EXCHAN...</td>\n",
       "      <td>95215</td>\n",
       "    </tr>\n",
       "    <tr>\n",
       "      <th>4</th>\n",
       "      <td>\\n \\n\\n- -------------------------------------...</td>\n",
       "      <td>90769</td>\n",
       "    </tr>\n",
       "  </tbody>\n",
       "</table>\n",
       "</div>"
      ],
      "text/plain": [
       "                                 Extracted_data_test  word_count\n",
       "0  \\n Form 10-K \\n \\n       \\n \\n \\n   UNITED STA...       81075\n",
       "1  \\n \\n\\n\\n                                  UNI...      156159\n",
       "2  \\n Range Resources Corporation Form 10-K for 1...       46048\n",
       "3  \\n   \\n UNITED STATES \\n SECURITIES AND EXCHAN...       95215\n",
       "4  \\n \\n\\n- -------------------------------------...       90769"
      ]
     },
     "execution_count": 27,
     "metadata": {
      "tags": []
     },
     "output_type": "execute_result"
    }
   ],
   "source": [
    "# df_train['word_count'] = [len(text.split(' ')) for text in df_train['Extracted_data']]\n",
    "# df_train[['Extracted_data','word_count']].head()\n",
    "\n",
    "df_test['word_count'] = [len(text.split(' ')) for text in df_test['Extracted_data_test']]\n",
    "df_test[['Extracted_data_test','word_count']].head()"
   ]
  },
  {
   "cell_type": "code",
   "execution_count": 28,
   "metadata": {
    "colab": {
     "base_uri": "https://localhost:8080/",
     "height": 168
    },
    "colab_type": "code",
    "id": "EtG54E-u1UTV",
    "outputId": "ffdaf72e-a168-4930-c82c-9e606268f24a"
   },
   "outputs": [
    {
     "data": {
      "text/plain": [
       "count      2568.000000\n",
       "mean      92715.301012\n",
       "std       76231.271227\n",
       "min        4984.000000\n",
       "25%       46057.500000\n",
       "50%       75903.500000\n",
       "75%      117461.750000\n",
       "max      640796.000000\n",
       "Name: word_count, dtype: float64"
      ]
     },
     "execution_count": 28,
     "metadata": {
      "tags": []
     },
     "output_type": "execute_result"
    }
   ],
   "source": [
    "df_train['word_count'].describe()"
   ]
  },
  {
   "cell_type": "code",
   "execution_count": 29,
   "metadata": {
    "colab": {
     "base_uri": "https://localhost:8080/",
     "height": 168
    },
    "colab_type": "code",
    "id": "zPE6zrLmwvRJ",
    "outputId": "f1068f2d-ded7-413a-8320-b1ff78b65e01"
   },
   "outputs": [
    {
     "data": {
      "text/plain": [
       "count       856.000000\n",
       "mean      91714.702103\n",
       "std       75495.531303\n",
       "min        8534.000000\n",
       "25%       43810.750000\n",
       "50%       75770.500000\n",
       "75%      116063.250000\n",
       "max      554115.000000\n",
       "Name: word_count, dtype: float64"
      ]
     },
     "execution_count": 29,
     "metadata": {
      "tags": []
     },
     "output_type": "execute_result"
    }
   ],
   "source": [
    "df_test['word_count'].describe()"
   ]
  },
  {
   "cell_type": "code",
   "execution_count": 0,
   "metadata": {
    "colab": {},
    "colab_type": "code",
    "id": "wkP_am0H1Ue8"
   },
   "outputs": [],
   "source": [
    "# print(f\"The total words in the 1th blog is {df_train['word_count'][1]}\")\n",
    "# print(f\"The 1th blog is {df_train['Extracted_data'][1]}\")\n",
    "\n",
    "# print(f\"The total words in the 1th blog is {df_test['word_count'][1]}\")\n",
    "# print(f\"The 1th blog is {df_test['Extracted_data_test'][1]}\")"
   ]
  },
  {
   "cell_type": "code",
   "execution_count": 0,
   "metadata": {
    "colab": {},
    "colab_type": "code",
    "id": "7QbUHmsj2dts"
   },
   "outputs": [],
   "source": [
    "# Getting the first quartile value\n",
    "# q1 = np.percentile(df_train.word_count,25)\n",
    "# print(f\"The first quartile value of words_count attribute is {q1}\")"
   ]
  },
  {
   "cell_type": "markdown",
   "metadata": {
    "colab_type": "text",
    "id": "tfYziMAmk8Ru"
   },
   "source": [
    "### Number of numerics\n",
    "Just like we calculated the number of words, we can also calculate the number of numerics which are present in the extracted_data.For example,"
   ]
  },
  {
   "cell_type": "code",
   "execution_count": 31,
   "metadata": {
    "colab": {
     "base_uri": "https://localhost:8080/",
     "height": 195
    },
    "colab_type": "code",
    "id": "krF8dZu96zZl",
    "outputId": "9cf24625-ffba-43f9-baf5-eee8e8d79c2f"
   },
   "outputs": [
    {
     "data": {
      "text/html": [
       "<div>\n",
       "<style scoped>\n",
       "    .dataframe tbody tr th:only-of-type {\n",
       "        vertical-align: middle;\n",
       "    }\n",
       "\n",
       "    .dataframe tbody tr th {\n",
       "        vertical-align: top;\n",
       "    }\n",
       "\n",
       "    .dataframe thead th {\n",
       "        text-align: right;\n",
       "    }\n",
       "</style>\n",
       "<table border=\"1\" class=\"dataframe\">\n",
       "  <thead>\n",
       "    <tr style=\"text-align: right;\">\n",
       "      <th></th>\n",
       "      <th>Extracted_data_test</th>\n",
       "      <th>numerics</th>\n",
       "    </tr>\n",
       "  </thead>\n",
       "  <tbody>\n",
       "    <tr>\n",
       "      <th>0</th>\n",
       "      <td>\\n Form 10-K \\n \\n       \\n \\n \\n   UNITED STA...</td>\n",
       "      <td>1806</td>\n",
       "    </tr>\n",
       "    <tr>\n",
       "      <th>1</th>\n",
       "      <td>\\n \\n\\n\\n                                  UNI...</td>\n",
       "      <td>1282</td>\n",
       "    </tr>\n",
       "    <tr>\n",
       "      <th>2</th>\n",
       "      <td>\\n Range Resources Corporation Form 10-K for 1...</td>\n",
       "      <td>751</td>\n",
       "    </tr>\n",
       "    <tr>\n",
       "      <th>3</th>\n",
       "      <td>\\n   \\n UNITED STATES \\n SECURITIES AND EXCHAN...</td>\n",
       "      <td>806</td>\n",
       "    </tr>\n",
       "    <tr>\n",
       "      <th>4</th>\n",
       "      <td>\\n \\n\\n- -------------------------------------...</td>\n",
       "      <td>943</td>\n",
       "    </tr>\n",
       "  </tbody>\n",
       "</table>\n",
       "</div>"
      ],
      "text/plain": [
       "                                 Extracted_data_test  numerics\n",
       "0  \\n Form 10-K \\n \\n       \\n \\n \\n   UNITED STA...      1806\n",
       "1  \\n \\n\\n\\n                                  UNI...      1282\n",
       "2  \\n Range Resources Corporation Form 10-K for 1...       751\n",
       "3  \\n   \\n UNITED STATES \\n SECURITIES AND EXCHAN...       806\n",
       "4  \\n \\n\\n- -------------------------------------...       943"
      ]
     },
     "execution_count": 31,
     "metadata": {
      "tags": []
     },
     "output_type": "execute_result"
    }
   ],
   "source": [
    "# df_train['numerics'] = df_train['Extracted_data'].apply(lambda x: len([x for x in x.split() if x.isdigit()]))\n",
    "# df_train[['Extracted_data','numerics']].head()\n",
    "\n",
    "df_test['numerics'] = df_test['Extracted_data_test'].apply(lambda x: len([x for x in x.split() if x.isdigit()]))\n",
    "df_test[['Extracted_data_test','numerics']].head()"
   ]
  },
  {
   "cell_type": "markdown",
   "metadata": {
    "colab_type": "text",
    "id": "JnbSy2gqLXy1"
   },
   "source": [
    "### Defining the functions to perform basic steps like\n",
    "* remove accented characters\n",
    "* scrub words"
   ]
  },
  {
   "cell_type": "code",
   "execution_count": 0,
   "metadata": {
    "colab": {},
    "colab_type": "code",
    "id": "Q4HyQ50Gt3ZE"
   },
   "outputs": [],
   "source": [
    "import unicodedata\n",
    "def remove_accented_chars(text):\n",
    "    text = unicodedata.normalize('NFKD', text).encode('ascii', 'ignore').decode('utf-8', 'ignore')\n",
    "    #https://docs.python.org/2/library/unicodedata.html\n",
    "    return text"
   ]
  },
  {
   "cell_type": "markdown",
   "metadata": {
    "colab_type": "text",
    "id": "fayTxKYfJzdG"
   },
   "source": [
    "### Invoking the above remove_accented_chars functions"
   ]
  },
  {
   "cell_type": "code",
   "execution_count": 6,
   "metadata": {
    "colab": {
     "base_uri": "https://localhost:8080/",
     "height": 54
    },
    "colab_type": "code",
    "id": "7UnzMDJet3fP",
    "outputId": "41f2fd4f-3109-4de0-8c53-ef80e0331fbc"
   },
   "outputs": [],
   "source": [
    "# df_train['Extracted_data'] = [remove_accented_chars(text) for text in df_train['Extracted_data']]\n",
    "# df_train['Extracted_data'][0]\n",
    "\n",
    "#df_test['Extracted_data_test'] = [remove_accented_chars(text) for text in df_test['Extracted_data_test']]\n",
    "#df_test['Extracted_data_test'][0]"
   ]
  },
  {
   "cell_type": "code",
   "execution_count": 0,
   "metadata": {
    "colab": {},
    "colab_type": "code",
    "id": "St5MZdist3O_"
   },
   "outputs": [],
   "source": [
    "def scrub_words(text):\n",
    "    #Replace \\xao characters in text\n",
    "    text = re.sub('\\xa0', ' ', text)\n",
    "    \n",
    "    #Replace non ascii / not words and digits\n",
    "    text = re.sub(\"(\\\\W|\\\\d)\",' ',text)\n",
    "    \n",
    "    #Replace new line characters and following text untill space\n",
    "    text = re.sub('\\n(\\w*?)[\\s]', '', text)\n",
    "    \n",
    "    #Remove html markup\n",
    "    text = re.sub(\"<.*?>\", ' ', text)\n",
    "    \n",
    "    #Remove extra spaces from the text\n",
    "    text = re.sub(\"\\s+\", ' ', text)\n",
    "    return text"
   ]
  },
  {
   "cell_type": "markdown",
   "metadata": {
    "colab_type": "text",
    "id": "8dtCM1ewK_Q1"
   },
   "source": [
    "### Invoking the above scrub_words functions"
   ]
  },
  {
   "cell_type": "code",
   "execution_count": 5,
   "metadata": {
    "colab": {
     "base_uri": "https://localhost:8080/",
     "height": 54
    },
    "colab_type": "code",
    "id": "PzH1sGk1t3Mn",
    "outputId": "66fe798f-a043-4264-fde2-b621d53a0f5d"
   },
   "outputs": [],
   "source": [
    "# df_train['Extracted_data'] = [scrub_words(text) for text in df_train['Extracted_data']]\n",
    "# df_train['Extracted_data'][0]\n",
    "\n",
    "#df_test['Extracted_data_test'] = [scrub_words(text) for text in df_test['Extracted_data_test']]\n",
    "#df_test['Extracted_data_test'][0]"
   ]
  },
  {
   "cell_type": "markdown",
   "metadata": {
    "colab_type": "text",
    "id": "9CEn8_h9oODm"
   },
   "source": [
    "**Removing single letter alphabets**"
   ]
  },
  {
   "cell_type": "code",
   "execution_count": 4,
   "metadata": {
    "colab": {
     "base_uri": "https://localhost:8080/",
     "height": 54
    },
    "colab_type": "code",
    "id": "uhZNJsBoxQ9o",
    "outputId": "3187f7f3-fac9-4654-e4ef-6e3c26d13682"
   },
   "outputs": [],
   "source": [
    "#df_train['Extracted_data'] = [re.sub(r\"\\b[a-zA-Z]\\b\", \"\", text) for text in df_train['Extracted_data']]\n",
    "#df_train['Extracted_data'][0]\n",
    "\n",
    "#df_test['Extracted_data_test'] = [re.sub(r\"\\b[a-zA-Z]\\b\", \"\", text) for text in df_test['Extracted_data_test']]\n",
    "#df_test['Extracted_data_test'][0]"
   ]
  },
  {
   "cell_type": "code",
   "execution_count": 3,
   "metadata": {
    "colab": {
     "base_uri": "https://localhost:8080/",
     "height": 54
    },
    "colab_type": "code",
    "id": "ptAfa8WszxEa",
    "outputId": "e48b6b8f-5a8d-4338-941c-6014d999d426"
   },
   "outputs": [],
   "source": [
    "#df_train['Extracted_data'] = [re.sub(\"\\s+\", ' ', text) for text in df_train['Extracted_data']]\n",
    "#df_train['Extracted_data'][0]\n",
    "\n",
    "#df_test['Extracted_data_test'] = [re.sub(\"\\s+\", ' ', text) for text in df_test['Extracted_data_test']]\n",
    "#df_test['Extracted_data_test'][0]"
   ]
  },
  {
   "cell_type": "markdown",
   "metadata": {
    "colab_type": "text",
    "id": "tJGkFLIdqDiN"
   },
   "source": [
    "### Lower case\n",
    "The first pre-processing step which we will do is transform our extracted_data into lower case. This avoids having multiple copies of the same words. \n",
    "\n",
    "For example, while calculating the word count, ‘Analytics’ and ‘analytics’ will be taken as different words."
   ]
  },
  {
   "cell_type": "code",
   "execution_count": 40,
   "metadata": {
    "colab": {
     "base_uri": "https://localhost:8080/",
     "height": 118
    },
    "colab_type": "code",
    "id": "Sqjt40PP8ByT",
    "outputId": "94f29c9a-cd40-40d7-de12-e97fb26c69d8"
   },
   "outputs": [
    {
     "data": {
      "text/plain": [
       "0    form united states securities and exchange com...\n",
       "1    united states securities and exchange commissi...\n",
       "2    range resources corporation form for pagebreak...\n",
       "3    united states securities and exchange commissi...\n",
       "4    united states securities and exchange commissi...\n",
       "Name: Extracted_data_test, dtype: object"
      ]
     },
     "execution_count": 40,
     "metadata": {
      "tags": []
     },
     "output_type": "execute_result"
    }
   ],
   "source": [
    "df_train['Extracted_data'] = [text.strip().lower() for text in df_train['Extracted_data']]\n",
    "df_train['Extracted_data'].head()\n",
    "\n",
    "df_test['Extracted_data_test'] = [text.strip().lower() for text in df_test['Extracted_data_test']]\n",
    "df_test['Extracted_data_test'].head()"
   ]
  },
  {
   "cell_type": "markdown",
   "metadata": {
    "colab_type": "text",
    "id": "ZIJ5C4AKrRCG"
   },
   "source": [
    "### Removal of Stop Words and Lemmatization\n",
    "As we discussed earlier, **stop words** (or commonly occurring words) should be removed from the text data. For this purpose, we can either create a list of stopwords ourselves or we can use predefined libraries.\n",
    "\n",
    "**Lemmatization** is a more effective option than stemming because it converts the word into its root word, rather than just stripping the suffices.\n",
    "\n",
    "It makes use of the vocabulary and does a morphological analysis to obtain the root word. Therefore, we usually prefer using lemmatization over stemming."
   ]
  },
  {
   "cell_type": "code",
   "execution_count": 0,
   "metadata": {
    "colab": {},
    "colab_type": "code",
    "id": "q-2p1lE-AvRd"
   },
   "outputs": [],
   "source": [
    "import spacy\n",
    "nlp = spacy.load(\"en_core_web_sm\")"
   ]
  },
  {
   "cell_type": "code",
   "execution_count": 42,
   "metadata": {
    "colab": {
     "base_uri": "https://localhost:8080/",
     "height": 50
    },
    "colab_type": "code",
    "id": "K9KVrXQ04xWg",
    "outputId": "3ce91da6-0a43-4031-aaa3-f76f408619a8"
   },
   "outputs": [
    {
     "name": "stdout",
     "output_type": "stream",
     "text": [
      "Number of stop words: 326\n",
      "First ten stop words: ['move', 'twelve', 'along', 'without', 'thus', 'then', 'seeming', 'yours', 'himself', 'seemed']\n"
     ]
    }
   ],
   "source": [
    "stopwords = list(spacy.lang.en.stop_words.STOP_WORDS)\n",
    "print('Number of stop words: %d' % len(stopwords))\n",
    "print('First ten stop words: %s' % list(stopwords)[:10])"
   ]
  },
  {
   "cell_type": "code",
   "execution_count": 43,
   "metadata": {
    "colab": {
     "base_uri": "https://localhost:8080/",
     "height": 34
    },
    "colab_type": "code",
    "id": "QTxBF7w043-M",
    "outputId": "34f01ca0-fbaa-49a8-8831-8d5208b86258"
   },
   "outputs": [
    {
     "data": {
      "text/plain": [
       "334"
      ]
     },
     "execution_count": 43,
     "metadata": {
      "tags": []
     },
     "output_type": "execute_result"
    }
   ],
   "source": [
    "## Adding Custom stopwords to the spacy stopword list\n",
    "customize_stop_words = ['html','dtd','webfilings','copyright','llc','en','fe','ed']\n",
    "stopwords.extend(customize_stop_words)\n",
    "len(stopwords)"
   ]
  },
  {
   "cell_type": "code",
   "execution_count": 44,
   "metadata": {
    "colab": {
     "base_uri": "https://localhost:8080/",
     "height": 50
    },
    "colab_type": "code",
    "id": "JA1Fj4NJJm01",
    "outputId": "a9f43caf-6c79-4603-b8b0-f2f96eae07e4"
   },
   "outputs": [
    {
     "name": "stdout",
     "output_type": "stream",
     "text": [
      "CPU times: user 13min 12s, sys: 3.86 s, total: 13min 16s\n",
      "Wall time: 13min 16s\n"
     ]
    }
   ],
   "source": [
    "%%time\n",
    "from textblob import Word\n",
    "df_train['clean_text'] = df_train['Extracted_data'].apply(lambda x: \" \".join([Word(word).lemmatize() for word in x.split()]))\n",
    "\n",
    "df_test['clean_text'] = df_test['Extracted_data_test'].apply(lambda x: \" \".join([Word(word).lemmatize() for word in x.split()]))"
   ]
  },
  {
   "cell_type": "code",
   "execution_count": 2,
   "metadata": {
    "colab": {
     "base_uri": "https://localhost:8080/",
     "height": 54
    },
    "colab_type": "code",
    "id": "Zy2HjwSdRcI8",
    "outputId": "db39c448-0143-41bc-92e7-91ff77616914"
   },
   "outputs": [],
   "source": [
    "#df_train['clean_text'][0]\n",
    "#df_test['clean_text'][0]"
   ]
  },
  {
   "cell_type": "code",
   "execution_count": 46,
   "metadata": {
    "colab": {
     "base_uri": "https://localhost:8080/",
     "height": 34
    },
    "colab_type": "code",
    "id": "yRIbp4y6R2oQ",
    "outputId": "7f735fd1-1e8e-49ab-d2cb-50510b239303"
   },
   "outputs": [
    {
     "data": {
      "text/plain": [
       "1020534"
      ]
     },
     "execution_count": 46,
     "metadata": {
      "tags": []
     },
     "output_type": "execute_result"
    }
   ],
   "source": [
    "len(df_train['clean_text'][0])"
   ]
  },
  {
   "cell_type": "code",
   "execution_count": 47,
   "metadata": {
    "colab": {
     "base_uri": "https://localhost:8080/",
     "height": 50
    },
    "colab_type": "code",
    "id": "zPLFlK2I9dpI",
    "outputId": "f159ecd6-73c8-4b49-85bb-0817c486c3ed"
   },
   "outputs": [
    {
     "name": "stdout",
     "output_type": "stream",
     "text": [
      "CPU times: user 3 µs, sys: 0 ns, total: 3 µs\n",
      "Wall time: 6.91 µs\n"
     ]
    }
   ],
   "source": [
    "%time\n",
    "df_train['clean_without_stopwords'] = df_train['Extracted_data'].apply(lambda x: \" \".join(x for x in x.split() if x not in stopwords))\n",
    "\n",
    "df_test['clean_without_stopwords'] = df_test['Extracted_data_test'].apply(lambda x: \" \".join(x for x in x.split() if x not in stopwords))"
   ]
  },
  {
   "cell_type": "code",
   "execution_count": 0,
   "metadata": {
    "colab": {},
    "colab_type": "code",
    "id": "Kp5auUaaoj2j"
   },
   "outputs": [],
   "source": [
    "df_train['Extracted_data'] = df_train['clean_without_stopwords']\n",
    "\n",
    "df_test['Extracted_data_test'] = df_test['clean_without_stopwords']"
   ]
  },
  {
   "cell_type": "code",
   "execution_count": 49,
   "metadata": {
    "colab": {
     "base_uri": "https://localhost:8080/",
     "height": 568
    },
    "colab_type": "code",
    "id": "7ILrAN7Xq0O3",
    "outputId": "e5c601d2-a3a2-4852-a288-262ae24f0910"
   },
   "outputs": [
    {
     "data": {
      "text/html": [
       "<div>\n",
       "<style scoped>\n",
       "    .dataframe tbody tr th:only-of-type {\n",
       "        vertical-align: middle;\n",
       "    }\n",
       "\n",
       "    .dataframe tbody tr th {\n",
       "        vertical-align: top;\n",
       "    }\n",
       "\n",
       "    .dataframe thead th {\n",
       "        text-align: right;\n",
       "    }\n",
       "</style>\n",
       "<table border=\"1\" class=\"dataframe\">\n",
       "  <thead>\n",
       "    <tr style=\"text-align: right;\">\n",
       "      <th></th>\n",
       "      <th>ticker</th>\n",
       "      <th>cik</th>\n",
       "      <th>filing_date</th>\n",
       "      <th>10k_link</th>\n",
       "      <th>long_term_outlook</th>\n",
       "      <th>Extracted_data</th>\n",
       "      <th>filing_year</th>\n",
       "      <th>char_count</th>\n",
       "      <th>word_count</th>\n",
       "      <th>numerics</th>\n",
       "      <th>clean_text</th>\n",
       "      <th>clean_without_stopwords</th>\n",
       "    </tr>\n",
       "  </thead>\n",
       "  <tbody>\n",
       "    <tr>\n",
       "      <th>0</th>\n",
       "      <td>FE</td>\n",
       "      <td>1031296</td>\n",
       "      <td>2012-02-28</td>\n",
       "      <td>https://www.sec.gov/Archives/edgar/data/103129...</td>\n",
       "      <td>0</td>\n",
       "      <td>public transitional http www org tr loose docu...</td>\n",
       "      <td>2012</td>\n",
       "      <td>1270734</td>\n",
       "      <td>222771</td>\n",
       "      <td>8731</td>\n",
       "      <td>html public dtd html transitional en http www ...</td>\n",
       "      <td>public transitional http www org tr loose docu...</td>\n",
       "    </tr>\n",
       "    <tr>\n",
       "      <th>1</th>\n",
       "      <td>CL</td>\n",
       "      <td>21665</td>\n",
       "      <td>2015-02-19</td>\n",
       "      <td>https://www.sec.gov/Archives/edgar/data/21665/...</td>\n",
       "      <td>0</td>\n",
       "      <td>public transitional http www org tr loose docu...</td>\n",
       "      <td>2015</td>\n",
       "      <td>338174</td>\n",
       "      <td>58015</td>\n",
       "      <td>2415</td>\n",
       "      <td>html public dtd html transitional en http www ...</td>\n",
       "      <td>public transitional http www org tr loose docu...</td>\n",
       "    </tr>\n",
       "    <tr>\n",
       "      <th>2</th>\n",
       "      <td>PRU</td>\n",
       "      <td>1137774</td>\n",
       "      <td>2016-02-19</td>\n",
       "      <td>https://www.sec.gov/Archives/edgar/data/113777...</td>\n",
       "      <td>1</td>\n",
       "      <td>public transitional http www org tr loose docu...</td>\n",
       "      <td>2016</td>\n",
       "      <td>1419638</td>\n",
       "      <td>231724</td>\n",
       "      <td>8398</td>\n",
       "      <td>html public dtd html transitional en http www ...</td>\n",
       "      <td>public transitional http www org tr loose docu...</td>\n",
       "    </tr>\n",
       "    <tr>\n",
       "      <th>3</th>\n",
       "      <td>EBAY</td>\n",
       "      <td>1065088</td>\n",
       "      <td>2001-03-28</td>\n",
       "      <td>https://www.sec.gov/Archives/edgar/data/106508...</td>\n",
       "      <td>1</td>\n",
       "      <td>united states securities exchange commission w...</td>\n",
       "      <td>2001</td>\n",
       "      <td>365290</td>\n",
       "      <td>85444</td>\n",
       "      <td>684</td>\n",
       "      <td>united state security and exchange commission ...</td>\n",
       "      <td>united states securities exchange commission w...</td>\n",
       "    </tr>\n",
       "    <tr>\n",
       "      <th>4</th>\n",
       "      <td>CAM</td>\n",
       "      <td>941548</td>\n",
       "      <td>2005-02-25</td>\n",
       "      <td>https://www.sec.gov/Archives/edgar/data/941548...</td>\n",
       "      <td>1</td>\n",
       "      <td>vk pagebreak securities exchange commission wa...</td>\n",
       "      <td>2005</td>\n",
       "      <td>105838</td>\n",
       "      <td>18577</td>\n",
       "      <td>280</td>\n",
       "      <td>vk pagebreak security and exchange commission ...</td>\n",
       "      <td>vk pagebreak securities exchange commission wa...</td>\n",
       "    </tr>\n",
       "  </tbody>\n",
       "</table>\n",
       "</div>"
      ],
      "text/plain": [
       "  ticker  ...                            clean_without_stopwords\n",
       "0     FE  ...  public transitional http www org tr loose docu...\n",
       "1     CL  ...  public transitional http www org tr loose docu...\n",
       "2    PRU  ...  public transitional http www org tr loose docu...\n",
       "3   EBAY  ...  united states securities exchange commission w...\n",
       "4    CAM  ...  vk pagebreak securities exchange commission wa...\n",
       "\n",
       "[5 rows x 12 columns]"
      ]
     },
     "execution_count": 49,
     "metadata": {
      "tags": []
     },
     "output_type": "execute_result"
    }
   ],
   "source": [
    "df_train.head()"
   ]
  },
  {
   "cell_type": "code",
   "execution_count": 50,
   "metadata": {
    "colab": {
     "base_uri": "https://localhost:8080/",
     "height": 363
    },
    "colab_type": "code",
    "id": "nWcFRqle536N",
    "outputId": "16c9fad5-b284-4f75-a554-fbdb84b88e2e"
   },
   "outputs": [
    {
     "data": {
      "text/html": [
       "<div>\n",
       "<style scoped>\n",
       "    .dataframe tbody tr th:only-of-type {\n",
       "        vertical-align: middle;\n",
       "    }\n",
       "\n",
       "    .dataframe tbody tr th {\n",
       "        vertical-align: top;\n",
       "    }\n",
       "\n",
       "    .dataframe thead th {\n",
       "        text-align: right;\n",
       "    }\n",
       "</style>\n",
       "<table border=\"1\" class=\"dataframe\">\n",
       "  <thead>\n",
       "    <tr style=\"text-align: right;\">\n",
       "      <th></th>\n",
       "      <th>id</th>\n",
       "      <th>ticker</th>\n",
       "      <th>cik</th>\n",
       "      <th>filing_date</th>\n",
       "      <th>10k_link</th>\n",
       "      <th>Extracted_data_test</th>\n",
       "      <th>char_count</th>\n",
       "      <th>word_count</th>\n",
       "      <th>numerics</th>\n",
       "      <th>clean_text</th>\n",
       "      <th>clean_without_stopwords</th>\n",
       "    </tr>\n",
       "  </thead>\n",
       "  <tbody>\n",
       "    <tr>\n",
       "      <th>0</th>\n",
       "      <td>0</td>\n",
       "      <td>GD</td>\n",
       "      <td>40533</td>\n",
       "      <td>2/17/2012</td>\n",
       "      <td>https://www.sec.gov/Archives/edgar/data/40533/...</td>\n",
       "      <td>form united states securities exchange commiss...</td>\n",
       "      <td>384856</td>\n",
       "      <td>81075</td>\n",
       "      <td>1806</td>\n",
       "      <td>form united state security and exchange commis...</td>\n",
       "      <td>form united states securities exchange commiss...</td>\n",
       "    </tr>\n",
       "    <tr>\n",
       "      <th>1</th>\n",
       "      <td>1</td>\n",
       "      <td>MTB</td>\n",
       "      <td>36270</td>\n",
       "      <td>3/19/1999</td>\n",
       "      <td>https://www.sec.gov/Archives/edgar/data/36270/...</td>\n",
       "      <td>united states securities exchange commission w...</td>\n",
       "      <td>459221</td>\n",
       "      <td>156159</td>\n",
       "      <td>1282</td>\n",
       "      <td>united state security and exchange commission ...</td>\n",
       "      <td>united states securities exchange commission w...</td>\n",
       "    </tr>\n",
       "    <tr>\n",
       "      <th>2</th>\n",
       "      <td>2</td>\n",
       "      <td>RRC</td>\n",
       "      <td>315852</td>\n",
       "      <td>3/6/2001</td>\n",
       "      <td>https://www.sec.gov/Archives/edgar/data/315852...</td>\n",
       "      <td>range resources corporation form pagebreak toc...</td>\n",
       "      <td>250576</td>\n",
       "      <td>46048</td>\n",
       "      <td>751</td>\n",
       "      <td>range resource corporation form for pagebreak ...</td>\n",
       "      <td>range resources corporation form pagebreak toc...</td>\n",
       "    </tr>\n",
       "    <tr>\n",
       "      <th>3</th>\n",
       "      <td>3</td>\n",
       "      <td>LH</td>\n",
       "      <td>920148</td>\n",
       "      <td>2/26/2009</td>\n",
       "      <td>https://www.sec.gov/Archives/edgar/data/920148...</td>\n",
       "      <td>united states securities exchange commission w...</td>\n",
       "      <td>387734</td>\n",
       "      <td>95215</td>\n",
       "      <td>806</td>\n",
       "      <td>united state security and exchange commission ...</td>\n",
       "      <td>united states securities exchange commission w...</td>\n",
       "    </tr>\n",
       "    <tr>\n",
       "      <th>4</th>\n",
       "      <td>4</td>\n",
       "      <td>SYY</td>\n",
       "      <td>96021</td>\n",
       "      <td>9/16/2004</td>\n",
       "      <td>https://www.sec.gov/Archives/edgar/data/96021/...</td>\n",
       "      <td>united states securities exchange commission w...</td>\n",
       "      <td>314394</td>\n",
       "      <td>90769</td>\n",
       "      <td>943</td>\n",
       "      <td>united state security and exchange commission ...</td>\n",
       "      <td>united states securities exchange commission w...</td>\n",
       "    </tr>\n",
       "  </tbody>\n",
       "</table>\n",
       "</div>"
      ],
      "text/plain": [
       "   id  ...                            clean_without_stopwords\n",
       "0   0  ...  form united states securities exchange commiss...\n",
       "1   1  ...  united states securities exchange commission w...\n",
       "2   2  ...  range resources corporation form pagebreak toc...\n",
       "3   3  ...  united states securities exchange commission w...\n",
       "4   4  ...  united states securities exchange commission w...\n",
       "\n",
       "[5 rows x 11 columns]"
      ]
     },
     "execution_count": 50,
     "metadata": {
      "tags": []
     },
     "output_type": "execute_result"
    }
   ],
   "source": [
    "df_test.head()"
   ]
  },
  {
   "cell_type": "code",
   "execution_count": 0,
   "metadata": {
    "colab": {},
    "colab_type": "code",
    "id": "iYjJCAO2kH4j"
   },
   "outputs": [],
   "source": [
    "df_train['tokenized_sents'] = [word_tokenize(i) for i in df_train['clean_without_stopwords']]\n",
    "df_test['tokenized_sents'] = [word_tokenize(i) for i in df_test['clean_without_stopwords']]"
   ]
  },
  {
   "cell_type": "code",
   "execution_count": 52,
   "metadata": {
    "colab": {
     "base_uri": "https://localhost:8080/",
     "height": 568
    },
    "colab_type": "code",
    "id": "ehZ0op9M9hq-",
    "outputId": "0e226aa5-b40a-478b-d997-18ea26ef1382"
   },
   "outputs": [
    {
     "data": {
      "text/html": [
       "<div>\n",
       "<style scoped>\n",
       "    .dataframe tbody tr th:only-of-type {\n",
       "        vertical-align: middle;\n",
       "    }\n",
       "\n",
       "    .dataframe tbody tr th {\n",
       "        vertical-align: top;\n",
       "    }\n",
       "\n",
       "    .dataframe thead th {\n",
       "        text-align: right;\n",
       "    }\n",
       "</style>\n",
       "<table border=\"1\" class=\"dataframe\">\n",
       "  <thead>\n",
       "    <tr style=\"text-align: right;\">\n",
       "      <th></th>\n",
       "      <th>id</th>\n",
       "      <th>ticker</th>\n",
       "      <th>cik</th>\n",
       "      <th>filing_date</th>\n",
       "      <th>10k_link</th>\n",
       "      <th>Extracted_data_test</th>\n",
       "      <th>char_count</th>\n",
       "      <th>word_count</th>\n",
       "      <th>numerics</th>\n",
       "      <th>clean_text</th>\n",
       "      <th>clean_without_stopwords</th>\n",
       "      <th>tokenized_sents</th>\n",
       "    </tr>\n",
       "  </thead>\n",
       "  <tbody>\n",
       "    <tr>\n",
       "      <th>0</th>\n",
       "      <td>0</td>\n",
       "      <td>GD</td>\n",
       "      <td>40533</td>\n",
       "      <td>2/17/2012</td>\n",
       "      <td>https://www.sec.gov/Archives/edgar/data/40533/...</td>\n",
       "      <td>form united states securities exchange commiss...</td>\n",
       "      <td>384856</td>\n",
       "      <td>81075</td>\n",
       "      <td>1806</td>\n",
       "      <td>form united state security and exchange commis...</td>\n",
       "      <td>form united states securities exchange commiss...</td>\n",
       "      <td>[form, united, states, securities, exchange, c...</td>\n",
       "    </tr>\n",
       "    <tr>\n",
       "      <th>1</th>\n",
       "      <td>1</td>\n",
       "      <td>MTB</td>\n",
       "      <td>36270</td>\n",
       "      <td>3/19/1999</td>\n",
       "      <td>https://www.sec.gov/Archives/edgar/data/36270/...</td>\n",
       "      <td>united states securities exchange commission w...</td>\n",
       "      <td>459221</td>\n",
       "      <td>156159</td>\n",
       "      <td>1282</td>\n",
       "      <td>united state security and exchange commission ...</td>\n",
       "      <td>united states securities exchange commission w...</td>\n",
       "      <td>[united, states, securities, exchange, commiss...</td>\n",
       "    </tr>\n",
       "    <tr>\n",
       "      <th>2</th>\n",
       "      <td>2</td>\n",
       "      <td>RRC</td>\n",
       "      <td>315852</td>\n",
       "      <td>3/6/2001</td>\n",
       "      <td>https://www.sec.gov/Archives/edgar/data/315852...</td>\n",
       "      <td>range resources corporation form pagebreak toc...</td>\n",
       "      <td>250576</td>\n",
       "      <td>46048</td>\n",
       "      <td>751</td>\n",
       "      <td>range resource corporation form for pagebreak ...</td>\n",
       "      <td>range resources corporation form pagebreak toc...</td>\n",
       "      <td>[range, resources, corporation, form, pagebrea...</td>\n",
       "    </tr>\n",
       "    <tr>\n",
       "      <th>3</th>\n",
       "      <td>3</td>\n",
       "      <td>LH</td>\n",
       "      <td>920148</td>\n",
       "      <td>2/26/2009</td>\n",
       "      <td>https://www.sec.gov/Archives/edgar/data/920148...</td>\n",
       "      <td>united states securities exchange commission w...</td>\n",
       "      <td>387734</td>\n",
       "      <td>95215</td>\n",
       "      <td>806</td>\n",
       "      <td>united state security and exchange commission ...</td>\n",
       "      <td>united states securities exchange commission w...</td>\n",
       "      <td>[united, states, securities, exchange, commiss...</td>\n",
       "    </tr>\n",
       "    <tr>\n",
       "      <th>4</th>\n",
       "      <td>4</td>\n",
       "      <td>SYY</td>\n",
       "      <td>96021</td>\n",
       "      <td>9/16/2004</td>\n",
       "      <td>https://www.sec.gov/Archives/edgar/data/96021/...</td>\n",
       "      <td>united states securities exchange commission w...</td>\n",
       "      <td>314394</td>\n",
       "      <td>90769</td>\n",
       "      <td>943</td>\n",
       "      <td>united state security and exchange commission ...</td>\n",
       "      <td>united states securities exchange commission w...</td>\n",
       "      <td>[united, states, securities, exchange, commiss...</td>\n",
       "    </tr>\n",
       "  </tbody>\n",
       "</table>\n",
       "</div>"
      ],
      "text/plain": [
       "   id  ...                                    tokenized_sents\n",
       "0   0  ...  [form, united, states, securities, exchange, c...\n",
       "1   1  ...  [united, states, securities, exchange, commiss...\n",
       "2   2  ...  [range, resources, corporation, form, pagebrea...\n",
       "3   3  ...  [united, states, securities, exchange, commiss...\n",
       "4   4  ...  [united, states, securities, exchange, commiss...\n",
       "\n",
       "[5 rows x 12 columns]"
      ]
     },
     "execution_count": 52,
     "metadata": {
      "tags": []
     },
     "output_type": "execute_result"
    }
   ],
   "source": [
    "df_test.head()"
   ]
  },
  {
   "cell_type": "markdown",
   "metadata": {
    "colab_type": "text",
    "id": "J1cKFq2kr4y4"
   },
   "source": [
    "### Most Frequent Common word for both the target classes\n",
    "We can also remove commonly occurring words from our text data but,\n",
    "First let’s check the most frequently occurring words in our text data then take call to remove or retain.\n"
   ]
  },
  {
   "cell_type": "code",
   "execution_count": 0,
   "metadata": {
    "colab": {},
    "colab_type": "code",
    "id": "D5RLZltLCK3H"
   },
   "outputs": [],
   "source": [
    "data_target_0 = df_train[df_train['long_term_outlook']==0]\n",
    "data_target_1 = df_train[df_train['long_term_outlook']==1]"
   ]
  },
  {
   "cell_type": "code",
   "execution_count": 54,
   "metadata": {
    "colab": {
     "base_uri": "https://localhost:8080/",
     "height": 50
    },
    "colab_type": "code",
    "id": "jdLcED1S7n2-",
    "outputId": "865d905a-0683-4f1d-8155-06520b8f2991"
   },
   "outputs": [
    {
     "name": "stdout",
     "output_type": "stream",
     "text": [
      "CPU times: user 2min 49s, sys: 13.4 s, total: 3min 2s\n",
      "Wall time: 3min 1s\n"
     ]
    }
   ],
   "source": [
    "%%time\n",
    "vocab_0 = data_target_0['tokenized_sents'].apply(pd.Series).stack().value_counts()\n",
    "vocab_1 = data_target_1['tokenized_sents'].apply(pd.Series).stack().value_counts()"
   ]
  },
  {
   "cell_type": "code",
   "execution_count": 0,
   "metadata": {
    "colab": {},
    "colab_type": "code",
    "id": "RTXhIKnw7oOd"
   },
   "outputs": [],
   "source": [
    "vocab_frame_0 = vocab_0.to_frame()\n",
    "vocab_frame_0.columns = ['counts']\n",
    "vocab_frame_0['values'] = vocab_frame_0.index\n",
    "vocab_frame_0 = vocab_frame_0.reset_index().drop('index',axis=1)\n",
    "vocab_frame_0 = vocab_frame_0.iloc[150:180,:]\n",
    "\n",
    "vocab_frame_1 = vocab_1.to_frame()\n",
    "vocab_frame_1.columns = ['counts']\n",
    "vocab_frame_1['values'] = vocab_frame_1.index\n",
    "vocab_frame_1 = vocab_frame_1.reset_index().drop('index',axis=1)\n",
    "vocab_frame_1 = vocab_frame_1.iloc[150:180,:]"
   ]
  },
  {
   "cell_type": "code",
   "execution_count": 56,
   "metadata": {
    "colab": {
     "base_uri": "https://localhost:8080/",
     "height": 639
    },
    "colab_type": "code",
    "id": "vxIrA-n17zpP",
    "outputId": "d51c7f43-72a2-4744-debc-07749fbd30d7"
   },
   "outputs": [
    {
     "data": {
      "text/html": [
       "<div>\n",
       "<style scoped>\n",
       "    .dataframe tbody tr th:only-of-type {\n",
       "        vertical-align: middle;\n",
       "    }\n",
       "\n",
       "    .dataframe tbody tr th {\n",
       "        vertical-align: top;\n",
       "    }\n",
       "\n",
       "    .dataframe thead th {\n",
       "        text-align: right;\n",
       "    }\n",
       "</style>\n",
       "<table border=\"1\" class=\"dataframe\">\n",
       "  <thead>\n",
       "    <tr style=\"text-align: right;\">\n",
       "      <th></th>\n",
       "      <th>counts</th>\n",
       "      <th>values</th>\n",
       "    </tr>\n",
       "  </thead>\n",
       "  <tbody>\n",
       "    <tr>\n",
       "      <th>150</th>\n",
       "      <td>62208</td>\n",
       "      <td>control</td>\n",
       "    </tr>\n",
       "    <tr>\n",
       "      <th>151</th>\n",
       "      <td>62026</td>\n",
       "      <td>estimated</td>\n",
       "    </tr>\n",
       "    <tr>\n",
       "      <th>152</th>\n",
       "      <td>61634</td>\n",
       "      <td>issued</td>\n",
       "    </tr>\n",
       "    <tr>\n",
       "      <th>153</th>\n",
       "      <td>61634</td>\n",
       "      <td>pension</td>\n",
       "    </tr>\n",
       "    <tr>\n",
       "      <th>154</th>\n",
       "      <td>61464</td>\n",
       "      <td>act</td>\n",
       "    </tr>\n",
       "    <tr>\n",
       "      <th>155</th>\n",
       "      <td>61321</td>\n",
       "      <td>millions</td>\n",
       "    </tr>\n",
       "    <tr>\n",
       "      <th>156</th>\n",
       "      <td>60836</td>\n",
       "      <td>entergy</td>\n",
       "    </tr>\n",
       "    <tr>\n",
       "      <th>157</th>\n",
       "      <td>60799</td>\n",
       "      <td>addition</td>\n",
       "    </tr>\n",
       "    <tr>\n",
       "      <th>158</th>\n",
       "      <td>60716</td>\n",
       "      <td>available</td>\n",
       "    </tr>\n",
       "    <tr>\n",
       "      <th>159</th>\n",
       "      <td>60526</td>\n",
       "      <td>flows</td>\n",
       "    </tr>\n",
       "    <tr>\n",
       "      <th>160</th>\n",
       "      <td>60301</td>\n",
       "      <td>companies</td>\n",
       "    </tr>\n",
       "    <tr>\n",
       "      <th>161</th>\n",
       "      <td>59916</td>\n",
       "      <td>purchase</td>\n",
       "    </tr>\n",
       "    <tr>\n",
       "      <th>162</th>\n",
       "      <td>59691</td>\n",
       "      <td>performance</td>\n",
       "    </tr>\n",
       "    <tr>\n",
       "      <th>163</th>\n",
       "      <td>59546</td>\n",
       "      <td>liability</td>\n",
       "    </tr>\n",
       "    <tr>\n",
       "      <th>164</th>\n",
       "      <td>58723</td>\n",
       "      <td>data</td>\n",
       "    </tr>\n",
       "    <tr>\n",
       "      <th>165</th>\n",
       "      <td>58614</td>\n",
       "      <td>principal</td>\n",
       "    </tr>\n",
       "    <tr>\n",
       "      <th>166</th>\n",
       "      <td>58334</td>\n",
       "      <td>compared</td>\n",
       "    </tr>\n",
       "    <tr>\n",
       "      <th>167</th>\n",
       "      <td>58251</td>\n",
       "      <td>property</td>\n",
       "    </tr>\n",
       "    <tr>\n",
       "      <th>168</th>\n",
       "      <td>58159</td>\n",
       "      <td>options</td>\n",
       "    </tr>\n",
       "    <tr>\n",
       "      <th>169</th>\n",
       "      <td>57824</td>\n",
       "      <td>acquisition</td>\n",
       "    </tr>\n",
       "  </tbody>\n",
       "</table>\n",
       "</div>"
      ],
      "text/plain": [
       "     counts       values\n",
       "150   62208      control\n",
       "151   62026    estimated\n",
       "152   61634       issued\n",
       "153   61634      pension\n",
       "154   61464          act\n",
       "155   61321     millions\n",
       "156   60836      entergy\n",
       "157   60799     addition\n",
       "158   60716    available\n",
       "159   60526        flows\n",
       "160   60301    companies\n",
       "161   59916     purchase\n",
       "162   59691  performance\n",
       "163   59546    liability\n",
       "164   58723         data\n",
       "165   58614    principal\n",
       "166   58334     compared\n",
       "167   58251     property\n",
       "168   58159      options\n",
       "169   57824  acquisition"
      ]
     },
     "execution_count": 56,
     "metadata": {
      "tags": []
     },
     "output_type": "execute_result"
    }
   ],
   "source": [
    "vocab_frame_1.head(20)"
   ]
  },
  {
   "cell_type": "code",
   "execution_count": 0,
   "metadata": {
    "colab": {},
    "colab_type": "code",
    "id": "fXvSoUhn7oM3"
   },
   "outputs": [],
   "source": [
    "x = vocab_frame_0.groupby('values')['counts'].mean().sort_values()"
   ]
  },
  {
   "cell_type": "code",
   "execution_count": 58,
   "metadata": {
    "colab": {
     "base_uri": "https://localhost:8080/",
     "height": 607
    },
    "colab_type": "code",
    "id": "Nj1HUQyV74Ys",
    "outputId": "4a6ecded-6fd5-483d-abcb-a19fbb8f0c34"
   },
   "outputs": [
    {
     "data": {
      "image/png": "[encoded data removed]",
      "text/plain": [
       "<Figure size 720x720 with 1 Axes>"
      ]
     },
     "metadata": {
      "tags": []
     },
     "output_type": "display_data"
    }
   ],
   "source": [
    "x.plot(kind='barh',figsize=(10,10),title=\"Frequent words for companies with decreased stock price\")\n",
    "plt.show()"
   ]
  },
  {
   "cell_type": "code",
   "execution_count": 0,
   "metadata": {
    "colab": {},
    "colab_type": "code",
    "id": "nHNWJ3vH74dA"
   },
   "outputs": [],
   "source": [
    "y = vocab_frame_1.groupby('values')['counts'].mean().sort_values()"
   ]
  },
  {
   "cell_type": "code",
   "execution_count": 60,
   "metadata": {
    "colab": {
     "base_uri": "https://localhost:8080/",
     "height": 607
    },
    "colab_type": "code",
    "id": "BtFrSQGH74Vu",
    "outputId": "6e1be2d2-c8d3-4f27-e427-0163573e224c"
   },
   "outputs": [
    {
     "data": {
      "image/png": "[encoded data removed]",
      "text/plain": [
       "<Figure size 720x720 with 1 Axes>"
      ]
     },
     "metadata": {
      "tags": []
     },
     "output_type": "display_data"
    }
   ],
   "source": [
    "y.plot(kind='barh',figsize=(10,10),title=\"Frequent words for companies with increased stock price\")\n",
    "plt.show()"
   ]
  },
  {
   "cell_type": "markdown",
   "metadata": {
    "colab_type": "text",
    "id": "US8k9LkeLiUE"
   },
   "source": [
    "By plotting the above bar graph, which represents the top 7 frequent words."
   ]
  },
  {
   "cell_type": "markdown",
   "metadata": {
    "colab_type": "text",
    "id": "SqO_u3e6tFID"
   },
   "source": [
    "### Rare words removal\n",
    "Let’s remove rarely occurring words from the text. Because they’re so rare, \n",
    "the association between them and other words is dominated by noise. You can replace rare words with a more general form and then this will have higher counts"
   ]
  },
  {
   "cell_type": "code",
   "execution_count": 61,
   "metadata": {
    "colab": {
     "base_uri": "https://localhost:8080/",
     "height": 202
    },
    "colab_type": "code",
    "id": "VbCO1D_WDGRf",
    "outputId": "0b7a23da-9d04-4690-be11-49962004810c"
   },
   "outputs": [
    {
     "data": {
      "text/plain": [
       "reorganizational    1\n",
       "mexicou             1\n",
       "surging             1\n",
       "naif                1\n",
       "loancompletetm      1\n",
       "amss                1\n",
       "techni              1\n",
       "hungrana            1\n",
       "kingsdale           1\n",
       "environmen          1\n",
       "dtype: int64"
      ]
     },
     "execution_count": 61,
     "metadata": {
      "tags": []
     },
     "output_type": "execute_result"
    }
   ],
   "source": [
    "freq_train = pd.Series(' '.join(df_train['Extracted_data']).split()).value_counts()[-10:]\n",
    "\n",
    "freq_test = pd.Series(' '.join(df_test['Extracted_data_test']).split()).value_counts()[-10:]\n",
    "freq_test"
   ]
  },
  {
   "cell_type": "code",
   "execution_count": 63,
   "metadata": {
    "colab": {
     "base_uri": "https://localhost:8080/",
     "height": 118
    },
    "colab_type": "code",
    "id": "rCPTB8UPDQWA",
    "outputId": "8473f72d-9ac0-48b3-ed3e-b7c68f3ac00e"
   },
   "outputs": [
    {
     "data": {
      "text/plain": [
       "0    form united states securities exchange commiss...\n",
       "1    united states securities exchange commission w...\n",
       "2    range resources corporation form pagebreak toc...\n",
       "3    united states securities exchange commission w...\n",
       "4    united states securities exchange commission w...\n",
       "Name: Extracted_data_test, dtype: object"
      ]
     },
     "execution_count": 63,
     "metadata": {
      "tags": []
     },
     "output_type": "execute_result"
    }
   ],
   "source": [
    "# freq_train = list(freq_train.index)\n",
    "# df_train['Extracted_data'] = df_train['Extracted_data'].apply(lambda x: \" \".join(x for x in x.split() if x not in freq_train))\n",
    "# df_train['Extracted_data'].head()\n",
    "\n",
    "freq_test = list(freq_test.index)\n",
    "df_test['Extracted_data_test'] = df_test['Extracted_data_test'].apply(lambda x: \" \".join(x for x in x.split() if x not in freq_test))\n",
    "df_test['Extracted_data_test'].head()"
   ]
  },
  {
   "cell_type": "code",
   "execution_count": 64,
   "metadata": {
    "colab": {
     "base_uri": "https://localhost:8080/",
     "height": 568
    },
    "colab_type": "code",
    "id": "sPF6peqZl5_7",
    "outputId": "7ae924ea-9b8d-489b-99f7-83d775b080a9"
   },
   "outputs": [
    {
     "data": {
      "text/html": [
       "<div>\n",
       "<style scoped>\n",
       "    .dataframe tbody tr th:only-of-type {\n",
       "        vertical-align: middle;\n",
       "    }\n",
       "\n",
       "    .dataframe tbody tr th {\n",
       "        vertical-align: top;\n",
       "    }\n",
       "\n",
       "    .dataframe thead th {\n",
       "        text-align: right;\n",
       "    }\n",
       "</style>\n",
       "<table border=\"1\" class=\"dataframe\">\n",
       "  <thead>\n",
       "    <tr style=\"text-align: right;\">\n",
       "      <th></th>\n",
       "      <th>ticker</th>\n",
       "      <th>cik</th>\n",
       "      <th>filing_date</th>\n",
       "      <th>10k_link</th>\n",
       "      <th>long_term_outlook</th>\n",
       "      <th>Extracted_data</th>\n",
       "      <th>filing_year</th>\n",
       "      <th>char_count</th>\n",
       "      <th>word_count</th>\n",
       "      <th>numerics</th>\n",
       "      <th>clean_text</th>\n",
       "      <th>clean_without_stopwords</th>\n",
       "      <th>tokenized_sents</th>\n",
       "    </tr>\n",
       "  </thead>\n",
       "  <tbody>\n",
       "    <tr>\n",
       "      <th>0</th>\n",
       "      <td>FE</td>\n",
       "      <td>1031296</td>\n",
       "      <td>2012-02-28</td>\n",
       "      <td>https://www.sec.gov/Archives/edgar/data/103129...</td>\n",
       "      <td>0</td>\n",
       "      <td>public transitional http www org tr loose docu...</td>\n",
       "      <td>2012</td>\n",
       "      <td>1270734</td>\n",
       "      <td>222771</td>\n",
       "      <td>8731</td>\n",
       "      <td>html public dtd html transitional en http www ...</td>\n",
       "      <td>public transitional http www org tr loose docu...</td>\n",
       "      <td>[public, transitional, http, www, org, tr, loo...</td>\n",
       "    </tr>\n",
       "    <tr>\n",
       "      <th>1</th>\n",
       "      <td>CL</td>\n",
       "      <td>21665</td>\n",
       "      <td>2015-02-19</td>\n",
       "      <td>https://www.sec.gov/Archives/edgar/data/21665/...</td>\n",
       "      <td>0</td>\n",
       "      <td>public transitional http www org tr loose docu...</td>\n",
       "      <td>2015</td>\n",
       "      <td>338174</td>\n",
       "      <td>58015</td>\n",
       "      <td>2415</td>\n",
       "      <td>html public dtd html transitional en http www ...</td>\n",
       "      <td>public transitional http www org tr loose docu...</td>\n",
       "      <td>[public, transitional, http, www, org, tr, loo...</td>\n",
       "    </tr>\n",
       "    <tr>\n",
       "      <th>2</th>\n",
       "      <td>PRU</td>\n",
       "      <td>1137774</td>\n",
       "      <td>2016-02-19</td>\n",
       "      <td>https://www.sec.gov/Archives/edgar/data/113777...</td>\n",
       "      <td>1</td>\n",
       "      <td>public transitional http www org tr loose docu...</td>\n",
       "      <td>2016</td>\n",
       "      <td>1419638</td>\n",
       "      <td>231724</td>\n",
       "      <td>8398</td>\n",
       "      <td>html public dtd html transitional en http www ...</td>\n",
       "      <td>public transitional http www org tr loose docu...</td>\n",
       "      <td>[public, transitional, http, www, org, tr, loo...</td>\n",
       "    </tr>\n",
       "    <tr>\n",
       "      <th>3</th>\n",
       "      <td>EBAY</td>\n",
       "      <td>1065088</td>\n",
       "      <td>2001-03-28</td>\n",
       "      <td>https://www.sec.gov/Archives/edgar/data/106508...</td>\n",
       "      <td>1</td>\n",
       "      <td>united states securities exchange commission w...</td>\n",
       "      <td>2001</td>\n",
       "      <td>365290</td>\n",
       "      <td>85444</td>\n",
       "      <td>684</td>\n",
       "      <td>united state security and exchange commission ...</td>\n",
       "      <td>united states securities exchange commission w...</td>\n",
       "      <td>[united, states, securities, exchange, commiss...</td>\n",
       "    </tr>\n",
       "    <tr>\n",
       "      <th>4</th>\n",
       "      <td>CAM</td>\n",
       "      <td>941548</td>\n",
       "      <td>2005-02-25</td>\n",
       "      <td>https://www.sec.gov/Archives/edgar/data/941548...</td>\n",
       "      <td>1</td>\n",
       "      <td>vk pagebreak securities exchange commission wa...</td>\n",
       "      <td>2005</td>\n",
       "      <td>105838</td>\n",
       "      <td>18577</td>\n",
       "      <td>280</td>\n",
       "      <td>vk pagebreak security and exchange commission ...</td>\n",
       "      <td>vk pagebreak securities exchange commission wa...</td>\n",
       "      <td>[vk, pagebreak, securities, exchange, commissi...</td>\n",
       "    </tr>\n",
       "  </tbody>\n",
       "</table>\n",
       "</div>"
      ],
      "text/plain": [
       "  ticker  ...                                    tokenized_sents\n",
       "0     FE  ...  [public, transitional, http, www, org, tr, loo...\n",
       "1     CL  ...  [public, transitional, http, www, org, tr, loo...\n",
       "2    PRU  ...  [public, transitional, http, www, org, tr, loo...\n",
       "3   EBAY  ...  [united, states, securities, exchange, commiss...\n",
       "4    CAM  ...  [vk, pagebreak, securities, exchange, commissi...\n",
       "\n",
       "[5 rows x 13 columns]"
      ]
     },
     "execution_count": 64,
     "metadata": {
      "tags": []
     },
     "output_type": "execute_result"
    }
   ],
   "source": [
    "df_train.head()"
   ]
  },
  {
   "cell_type": "markdown",
   "metadata": {
    "colab_type": "text",
    "id": "1kijafFSxTWl"
   },
   "source": [
    "## Advance Text Processing\n",
    "Up to this point, we have done all the basic pre-processing steps in order to clean our data. Now, we can finally move on to extracting features using NLP techniques.\n",
    "\n",
    "#### N-grams\n",
    "N-grams are the combination of multiple words used together. Ngrams with N=1 are called unigrams. Similarly, bigrams (N=2), trigrams (N=3) and so on can also be used.\n",
    "\n",
    "**Unigrams** do not usually contain as much information as compared to bigrams and trigrams. The basic principle behind n-grams is that they capture the language structure, like what letter or word is likely to follow the given one. The longer the n-gram (the higher the n), the more context you have to work with. Optimum length really depends on the application – if your n-grams are too short, you may fail to capture important differences. On the other hand, if they are too long, you may fail to capture the “general knowledge” and only stick to particular cases.\n",
    "\n",
    "So, let’s quickly extract bigrams from our tweets using the ngrams function of the textblob library"
   ]
  },
  {
   "cell_type": "code",
   "execution_count": 0,
   "metadata": {
    "colab": {},
    "colab_type": "code",
    "id": "W_80GYqu9skP"
   },
   "outputs": [],
   "source": [
    "words = [word for word in df_train['tokenized_sents']]"
   ]
  },
  {
   "cell_type": "code",
   "execution_count": 0,
   "metadata": {
    "colab": {},
    "colab_type": "code",
    "id": "gsJ2vVXM-VZ_"
   },
   "outputs": [],
   "source": [
    "words_flat = [item for sublist in words for item in sublist]"
   ]
  },
  {
   "cell_type": "code",
   "execution_count": 67,
   "metadata": {
    "colab": {
     "base_uri": "https://localhost:8080/",
     "height": 34
    },
    "colab_type": "code",
    "id": "OaZICSNi-Vg-",
    "outputId": "1f923ab7-ce45-49e9-f41c-bf071aa0d8b8"
   },
   "outputs": [
    {
     "name": "stdout",
     "output_type": "stream",
     "text": [
      "['public', 'transitional', 'http', 'www', 'org', 'tr', 'loose', 'document', 'created', 'rights', 'reserved']\n"
     ]
    }
   ],
   "source": [
    "print(words_flat[0:11])"
   ]
  },
  {
   "cell_type": "code",
   "execution_count": 68,
   "metadata": {
    "colab": {
     "base_uri": "https://localhost:8080/",
     "height": 50
    },
    "colab_type": "code",
    "id": "MkMKvVmn8MPx",
    "outputId": "7e9fe447-68ce-4d8c-fe15-bbed9056483f"
   },
   "outputs": [
    {
     "name": "stdout",
     "output_type": "stream",
     "text": [
      "CPU times: user 1min 55s, sys: 67.3 ms, total: 1min 55s\n",
      "Wall time: 1min 55s\n"
     ]
    }
   ],
   "source": [
    "%%time\n",
    "ngram_freq = nltk.FreqDist() # We initialized a frequency counter\n",
    "# FreqDist gives the frequency of words within a text\n",
    "for ngram in nltk.ngrams(words_flat, 2):\n",
    "    ngram_freq[ngram] += 1"
   ]
  },
  {
   "cell_type": "code",
   "execution_count": 69,
   "metadata": {
    "colab": {
     "base_uri": "https://localhost:8080/",
     "height": 353
    },
    "colab_type": "code",
    "id": "pWlpAYsDAT0Z",
    "outputId": "c40f2e75-d666-4b98-8e87-f912f7e19843"
   },
   "outputs": [
    {
     "data": {
      "text/plain": [
       "[(('financial', 'statements'), 193304),\n",
       " (('fair', 'value'), 192917),\n",
       " (('colindex', 'type'), 172238),\n",
       " (('ended', 'december'), 158096),\n",
       " (('consolidated', 'financial'), 128431),\n",
       " (('million', 'million'), 127609),\n",
       " (('incorporated', 'reference'), 122758),\n",
       " (('year', 'ended'), 115224),\n",
       " (('common', 'stock'), 111991),\n",
       " (('long', 'term'), 103062),\n",
       " (('command', 'add_grid'), 86622),\n",
       " (('cash', 'flows'), 84476),\n",
       " (('net', 'income'), 82649),\n",
       " (('united', 'states'), 80331),\n",
       " (('pt', 'command'), 77139),\n",
       " (('results', 'operations'), 75784),\n",
       " (('report', 'form'), 70258),\n",
       " (('approximately', 'million'), 69626),\n",
       " (('income', 'taxes'), 68999),\n",
       " (('interest', 'rate'), 68087)]"
      ]
     },
     "execution_count": 69,
     "metadata": {
      "tags": []
     },
     "output_type": "execute_result"
    }
   ],
   "source": [
    "ngram_freq.most_common(20)"
   ]
  },
  {
   "cell_type": "code",
   "execution_count": 104,
   "metadata": {
    "colab": {
     "base_uri": "https://localhost:8080/",
     "height": 84
    },
    "colab_type": "code",
    "id": "WW9rKGyUD-Ej",
    "outputId": "c41b5fbe-ce01-4164-f6f5-fb47989179ba"
   },
   "outputs": [
    {
     "data": {
      "text/plain": [
       "Index(['ticker', 'cik', 'filing_date', '10k_link', 'long_term_outlook',\n",
       "       'Extracted_data', 'filing_year', 'char_count', 'word_count', 'numerics',\n",
       "       'clean_text', 'clean_without_stopwords', 'tokenized_sents'],\n",
       "      dtype='object')"
      ]
     },
     "execution_count": 104,
     "metadata": {
      "tags": []
     },
     "output_type": "execute_result"
    }
   ],
   "source": [
    "# df_train.columns\n",
    "df_train.columns"
   ]
  },
  {
   "cell_type": "code",
   "execution_count": 0,
   "metadata": {
    "colab": {},
    "colab_type": "code",
    "id": "Oow3WyEtyvqh"
   },
   "outputs": [],
   "source": [
    "pd.DataFrame(df_train).to_csv(\"train_data.csv\",sep=',', columns=['ticker','cik','filing_date','10k_link','long_term_outlook','Extracted_data','filing_year',\\\n",
    "                                                          'char_count','word_count','numerics','clean_text','clean_without_stopwords','tokenized_sents'], header=True, index=False)"
   ]
  },
  {
   "cell_type": "code",
   "execution_count": 106,
   "metadata": {
    "colab": {
     "base_uri": "https://localhost:8080/",
     "height": 568
    },
    "colab_type": "code",
    "id": "DuvtJtffyvwf",
    "outputId": "8bb4eef9-91e4-4f11-9a5f-8b92189e4923"
   },
   "outputs": [
    {
     "data": {
      "text/html": [
       "<div>\n",
       "<style scoped>\n",
       "    .dataframe tbody tr th:only-of-type {\n",
       "        vertical-align: middle;\n",
       "    }\n",
       "\n",
       "    .dataframe tbody tr th {\n",
       "        vertical-align: top;\n",
       "    }\n",
       "\n",
       "    .dataframe thead th {\n",
       "        text-align: right;\n",
       "    }\n",
       "</style>\n",
       "<table border=\"1\" class=\"dataframe\">\n",
       "  <thead>\n",
       "    <tr style=\"text-align: right;\">\n",
       "      <th></th>\n",
       "      <th>ticker</th>\n",
       "      <th>cik</th>\n",
       "      <th>filing_date</th>\n",
       "      <th>10k_link</th>\n",
       "      <th>long_term_outlook</th>\n",
       "      <th>Extracted_data</th>\n",
       "      <th>filing_year</th>\n",
       "      <th>char_count</th>\n",
       "      <th>word_count</th>\n",
       "      <th>numerics</th>\n",
       "      <th>clean_text</th>\n",
       "      <th>clean_without_stopwords</th>\n",
       "      <th>tokenized_sents</th>\n",
       "    </tr>\n",
       "  </thead>\n",
       "  <tbody>\n",
       "    <tr>\n",
       "      <th>0</th>\n",
       "      <td>FE</td>\n",
       "      <td>1031296</td>\n",
       "      <td>2012-02-28</td>\n",
       "      <td>https://www.sec.gov/Archives/edgar/data/103129...</td>\n",
       "      <td>0</td>\n",
       "      <td>public transitional http www org tr loose docu...</td>\n",
       "      <td>2012</td>\n",
       "      <td>1270734</td>\n",
       "      <td>222771</td>\n",
       "      <td>8731</td>\n",
       "      <td>html public dtd html transitional en http www ...</td>\n",
       "      <td>public transitional http www org tr loose docu...</td>\n",
       "      <td>['public', 'transitional', 'http', 'www', 'org...</td>\n",
       "    </tr>\n",
       "    <tr>\n",
       "      <th>1</th>\n",
       "      <td>CL</td>\n",
       "      <td>21665</td>\n",
       "      <td>2015-02-19</td>\n",
       "      <td>https://www.sec.gov/Archives/edgar/data/21665/...</td>\n",
       "      <td>0</td>\n",
       "      <td>public transitional http www org tr loose docu...</td>\n",
       "      <td>2015</td>\n",
       "      <td>338174</td>\n",
       "      <td>58015</td>\n",
       "      <td>2415</td>\n",
       "      <td>html public dtd html transitional en http www ...</td>\n",
       "      <td>public transitional http www org tr loose docu...</td>\n",
       "      <td>['public', 'transitional', 'http', 'www', 'org...</td>\n",
       "    </tr>\n",
       "    <tr>\n",
       "      <th>2</th>\n",
       "      <td>PRU</td>\n",
       "      <td>1137774</td>\n",
       "      <td>2016-02-19</td>\n",
       "      <td>https://www.sec.gov/Archives/edgar/data/113777...</td>\n",
       "      <td>1</td>\n",
       "      <td>public transitional http www org tr loose docu...</td>\n",
       "      <td>2016</td>\n",
       "      <td>1419638</td>\n",
       "      <td>231724</td>\n",
       "      <td>8398</td>\n",
       "      <td>html public dtd html transitional en http www ...</td>\n",
       "      <td>public transitional http www org tr loose docu...</td>\n",
       "      <td>['public', 'transitional', 'http', 'www', 'org...</td>\n",
       "    </tr>\n",
       "    <tr>\n",
       "      <th>3</th>\n",
       "      <td>EBAY</td>\n",
       "      <td>1065088</td>\n",
       "      <td>2001-03-28</td>\n",
       "      <td>https://www.sec.gov/Archives/edgar/data/106508...</td>\n",
       "      <td>1</td>\n",
       "      <td>united states securities exchange commission w...</td>\n",
       "      <td>2001</td>\n",
       "      <td>365290</td>\n",
       "      <td>85444</td>\n",
       "      <td>684</td>\n",
       "      <td>united state security and exchange commission ...</td>\n",
       "      <td>united states securities exchange commission w...</td>\n",
       "      <td>['united', 'states', 'securities', 'exchange',...</td>\n",
       "    </tr>\n",
       "    <tr>\n",
       "      <th>4</th>\n",
       "      <td>CAM</td>\n",
       "      <td>941548</td>\n",
       "      <td>2005-02-25</td>\n",
       "      <td>https://www.sec.gov/Archives/edgar/data/941548...</td>\n",
       "      <td>1</td>\n",
       "      <td>vk pagebreak securities exchange commission wa...</td>\n",
       "      <td>2005</td>\n",
       "      <td>105838</td>\n",
       "      <td>18577</td>\n",
       "      <td>280</td>\n",
       "      <td>vk pagebreak security and exchange commission ...</td>\n",
       "      <td>vk pagebreak securities exchange commission wa...</td>\n",
       "      <td>['vk', 'pagebreak', 'securities', 'exchange', ...</td>\n",
       "    </tr>\n",
       "  </tbody>\n",
       "</table>\n",
       "</div>"
      ],
      "text/plain": [
       "  ticker  ...                                    tokenized_sents\n",
       "0     FE  ...  ['public', 'transitional', 'http', 'www', 'org...\n",
       "1     CL  ...  ['public', 'transitional', 'http', 'www', 'org...\n",
       "2    PRU  ...  ['public', 'transitional', 'http', 'www', 'org...\n",
       "3   EBAY  ...  ['united', 'states', 'securities', 'exchange',...\n",
       "4    CAM  ...  ['vk', 'pagebreak', 'securities', 'exchange', ...\n",
       "\n",
       "[5 rows x 13 columns]"
      ]
     },
     "execution_count": 106,
     "metadata": {
      "tags": []
     },
     "output_type": "execute_result"
    }
   ],
   "source": [
    "dtrain = pd.read_csv(\"train_data.csv\", sep= ',')\n",
    "dtrain.head()\n",
    "\n",
    "# dtest = pd.read_csv(\"test_data.csv\", sep= ',')\n",
    "# dtest.head()"
   ]
  },
  {
   "cell_type": "markdown",
   "metadata": {
    "colab_type": "text",
    "id": "w8Bq8GbRUVFA"
   },
   "source": [
    "**Cleaned data with all above preprocessing steps**"
   ]
  },
  {
   "cell_type": "code",
   "execution_count": 0,
   "metadata": {
    "colab": {},
    "colab_type": "code",
    "id": "QU_8jSifwKtx"
   },
   "outputs": [],
   "source": [
    "data_train = pd.read_csv(\"/content/driver/My Drive/phd_data/train_data.csv\")\n",
    "data_test = pd.read_csv(\"/content/driver/My Drive/phd_data/test_data.csv\")"
   ]
  },
  {
   "cell_type": "code",
   "execution_count": 110,
   "metadata": {
    "colab": {
     "base_uri": "https://localhost:8080/",
     "height": 460
    },
    "colab_type": "code",
    "id": "w7Y9onu9dgZm",
    "outputId": "cc1b9ade-9377-44ae-d69b-c6af5aa5a307"
   },
   "outputs": [
    {
     "data": {
      "text/html": [
       "<div>\n",
       "<style scoped>\n",
       "    .dataframe tbody tr th:only-of-type {\n",
       "        vertical-align: middle;\n",
       "    }\n",
       "\n",
       "    .dataframe tbody tr th {\n",
       "        vertical-align: top;\n",
       "    }\n",
       "\n",
       "    .dataframe thead th {\n",
       "        text-align: right;\n",
       "    }\n",
       "</style>\n",
       "<table border=\"1\" class=\"dataframe\">\n",
       "  <thead>\n",
       "    <tr style=\"text-align: right;\">\n",
       "      <th></th>\n",
       "      <th>ticker</th>\n",
       "      <th>cik</th>\n",
       "      <th>filing_date</th>\n",
       "      <th>10k_link</th>\n",
       "      <th>long_term_outlook</th>\n",
       "      <th>Extracted_data</th>\n",
       "      <th>filing_year</th>\n",
       "      <th>char_count</th>\n",
       "      <th>word_count</th>\n",
       "      <th>numerics</th>\n",
       "      <th>clean_text</th>\n",
       "      <th>clean_without_stopwords</th>\n",
       "      <th>tokenized_sents</th>\n",
       "    </tr>\n",
       "  </thead>\n",
       "  <tbody>\n",
       "    <tr>\n",
       "      <th>count</th>\n",
       "      <td>2568</td>\n",
       "      <td>2.568000e+03</td>\n",
       "      <td>2568</td>\n",
       "      <td>2568</td>\n",
       "      <td>2568.000000</td>\n",
       "      <td>2568</td>\n",
       "      <td>2568.000000</td>\n",
       "      <td>2.568000e+03</td>\n",
       "      <td>2568.000000</td>\n",
       "      <td>2568.000000</td>\n",
       "      <td>2568</td>\n",
       "      <td>2568</td>\n",
       "      <td>2568</td>\n",
       "    </tr>\n",
       "    <tr>\n",
       "      <th>unique</th>\n",
       "      <td>193</td>\n",
       "      <td>NaN</td>\n",
       "      <td>943</td>\n",
       "      <td>2568</td>\n",
       "      <td>NaN</td>\n",
       "      <td>2568</td>\n",
       "      <td>NaN</td>\n",
       "      <td>NaN</td>\n",
       "      <td>NaN</td>\n",
       "      <td>NaN</td>\n",
       "      <td>2568</td>\n",
       "      <td>2568</td>\n",
       "      <td>2568</td>\n",
       "    </tr>\n",
       "    <tr>\n",
       "      <th>top</th>\n",
       "      <td>TMK</td>\n",
       "      <td>NaN</td>\n",
       "      <td>2010-02-26</td>\n",
       "      <td>https://www.sec.gov/Archives/edgar/data/137894...</td>\n",
       "      <td>NaN</td>\n",
       "      <td>public transitional http www org tr loose docu...</td>\n",
       "      <td>NaN</td>\n",
       "      <td>NaN</td>\n",
       "      <td>NaN</td>\n",
       "      <td>NaN</td>\n",
       "      <td>form htm licensed to camintl document created ...</td>\n",
       "      <td>public transitional http www org tr loose docu...</td>\n",
       "      <td>['adp_', 'htm', 'licensed', 'dg', 'docs', 'inc...</td>\n",
       "    </tr>\n",
       "    <tr>\n",
       "      <th>freq</th>\n",
       "      <td>23</td>\n",
       "      <td>NaN</td>\n",
       "      <td>33</td>\n",
       "      <td>1</td>\n",
       "      <td>NaN</td>\n",
       "      <td>1</td>\n",
       "      <td>NaN</td>\n",
       "      <td>NaN</td>\n",
       "      <td>NaN</td>\n",
       "      <td>NaN</td>\n",
       "      <td>1</td>\n",
       "      <td>1</td>\n",
       "      <td>1</td>\n",
       "    </tr>\n",
       "    <tr>\n",
       "      <th>mean</th>\n",
       "      <td>NaN</td>\n",
       "      <td>5.422306e+05</td>\n",
       "      <td>NaN</td>\n",
       "      <td>NaN</td>\n",
       "      <td>0.709112</td>\n",
       "      <td>NaN</td>\n",
       "      <td>2007.463396</td>\n",
       "      <td>4.153581e+05</td>\n",
       "      <td>92715.301012</td>\n",
       "      <td>1545.322040</td>\n",
       "      <td>NaN</td>\n",
       "      <td>NaN</td>\n",
       "      <td>NaN</td>\n",
       "    </tr>\n",
       "    <tr>\n",
       "      <th>std</th>\n",
       "      <td>NaN</td>\n",
       "      <td>4.642214e+05</td>\n",
       "      <td>NaN</td>\n",
       "      <td>NaN</td>\n",
       "      <td>0.454260</td>\n",
       "      <td>NaN</td>\n",
       "      <td>6.338047</td>\n",
       "      <td>3.161069e+05</td>\n",
       "      <td>76231.271227</td>\n",
       "      <td>1484.254922</td>\n",
       "      <td>NaN</td>\n",
       "      <td>NaN</td>\n",
       "      <td>NaN</td>\n",
       "    </tr>\n",
       "    <tr>\n",
       "      <th>min</th>\n",
       "      <td>NaN</td>\n",
       "      <td>4.281000e+03</td>\n",
       "      <td>NaN</td>\n",
       "      <td>NaN</td>\n",
       "      <td>0.000000</td>\n",
       "      <td>NaN</td>\n",
       "      <td>1994.000000</td>\n",
       "      <td>3.174400e+04</td>\n",
       "      <td>4984.000000</td>\n",
       "      <td>96.000000</td>\n",
       "      <td>NaN</td>\n",
       "      <td>NaN</td>\n",
       "      <td>NaN</td>\n",
       "    </tr>\n",
       "    <tr>\n",
       "      <th>25%</th>\n",
       "      <td>NaN</td>\n",
       "      <td>6.949900e+04</td>\n",
       "      <td>NaN</td>\n",
       "      <td>NaN</td>\n",
       "      <td>0.000000</td>\n",
       "      <td>NaN</td>\n",
       "      <td>2003.000000</td>\n",
       "      <td>2.052758e+05</td>\n",
       "      <td>46057.500000</td>\n",
       "      <td>582.250000</td>\n",
       "      <td>NaN</td>\n",
       "      <td>NaN</td>\n",
       "      <td>NaN</td>\n",
       "    </tr>\n",
       "    <tr>\n",
       "      <th>50%</th>\n",
       "      <td>NaN</td>\n",
       "      <td>7.136760e+05</td>\n",
       "      <td>NaN</td>\n",
       "      <td>NaN</td>\n",
       "      <td>1.000000</td>\n",
       "      <td>NaN</td>\n",
       "      <td>2008.000000</td>\n",
       "      <td>3.662725e+05</td>\n",
       "      <td>75903.500000</td>\n",
       "      <td>1164.000000</td>\n",
       "      <td>NaN</td>\n",
       "      <td>NaN</td>\n",
       "      <td>NaN</td>\n",
       "    </tr>\n",
       "    <tr>\n",
       "      <th>75%</th>\n",
       "      <td>NaN</td>\n",
       "      <td>9.061070e+05</td>\n",
       "      <td>NaN</td>\n",
       "      <td>NaN</td>\n",
       "      <td>1.000000</td>\n",
       "      <td>NaN</td>\n",
       "      <td>2013.000000</td>\n",
       "      <td>5.389160e+05</td>\n",
       "      <td>117461.750000</td>\n",
       "      <td>1975.250000</td>\n",
       "      <td>NaN</td>\n",
       "      <td>NaN</td>\n",
       "      <td>NaN</td>\n",
       "    </tr>\n",
       "    <tr>\n",
       "      <th>max</th>\n",
       "      <td>NaN</td>\n",
       "      <td>1.613103e+06</td>\n",
       "      <td>NaN</td>\n",
       "      <td>NaN</td>\n",
       "      <td>1.000000</td>\n",
       "      <td>NaN</td>\n",
       "      <td>2017.000000</td>\n",
       "      <td>2.543957e+06</td>\n",
       "      <td>640796.000000</td>\n",
       "      <td>15117.000000</td>\n",
       "      <td>NaN</td>\n",
       "      <td>NaN</td>\n",
       "      <td>NaN</td>\n",
       "    </tr>\n",
       "  </tbody>\n",
       "</table>\n",
       "</div>"
      ],
      "text/plain": [
       "       ticker  ...                                    tokenized_sents\n",
       "count    2568  ...                                               2568\n",
       "unique    193  ...                                               2568\n",
       "top       TMK  ...  ['adp_', 'htm', 'licensed', 'dg', 'docs', 'inc...\n",
       "freq       23  ...                                                  1\n",
       "mean      NaN  ...                                                NaN\n",
       "std       NaN  ...                                                NaN\n",
       "min       NaN  ...                                                NaN\n",
       "25%       NaN  ...                                                NaN\n",
       "50%       NaN  ...                                                NaN\n",
       "75%       NaN  ...                                                NaN\n",
       "max       NaN  ...                                                NaN\n",
       "\n",
       "[11 rows x 13 columns]"
      ]
     },
     "execution_count": 110,
     "metadata": {
      "tags": []
     },
     "output_type": "execute_result"
    }
   ],
   "source": [
    "data_train.describe(include='all')"
   ]
  },
  {
   "cell_type": "code",
   "execution_count": 111,
   "metadata": {
    "colab": {
     "base_uri": "https://localhost:8080/",
     "height": 443
    },
    "colab_type": "code",
    "id": "-YWhfCM__kbQ",
    "outputId": "3af56315-57e9-45fc-e8af-c85054c52d76"
   },
   "outputs": [
    {
     "data": {
      "text/html": [
       "<div>\n",
       "<style scoped>\n",
       "    .dataframe tbody tr th:only-of-type {\n",
       "        vertical-align: middle;\n",
       "    }\n",
       "\n",
       "    .dataframe tbody tr th {\n",
       "        vertical-align: top;\n",
       "    }\n",
       "\n",
       "    .dataframe thead th {\n",
       "        text-align: right;\n",
       "    }\n",
       "</style>\n",
       "<table border=\"1\" class=\"dataframe\">\n",
       "  <thead>\n",
       "    <tr style=\"text-align: right;\">\n",
       "      <th></th>\n",
       "      <th>id</th>\n",
       "      <th>ticker</th>\n",
       "      <th>cik</th>\n",
       "      <th>filing_date</th>\n",
       "      <th>10k_link</th>\n",
       "      <th>Extracted_data_test</th>\n",
       "      <th>filing_year</th>\n",
       "      <th>char_count</th>\n",
       "      <th>word_count</th>\n",
       "      <th>numerics</th>\n",
       "      <th>clean_text</th>\n",
       "      <th>clean_without_stopwords</th>\n",
       "      <th>tokenized_sents</th>\n",
       "    </tr>\n",
       "  </thead>\n",
       "  <tbody>\n",
       "    <tr>\n",
       "      <th>count</th>\n",
       "      <td>856.000000</td>\n",
       "      <td>856</td>\n",
       "      <td>8.560000e+02</td>\n",
       "      <td>856</td>\n",
       "      <td>856</td>\n",
       "      <td>856</td>\n",
       "      <td>856.000000</td>\n",
       "      <td>8.560000e+02</td>\n",
       "      <td>856.000000</td>\n",
       "      <td>856.000000</td>\n",
       "      <td>856</td>\n",
       "      <td>856</td>\n",
       "      <td>856</td>\n",
       "    </tr>\n",
       "    <tr>\n",
       "      <th>unique</th>\n",
       "      <td>NaN</td>\n",
       "      <td>189</td>\n",
       "      <td>NaN</td>\n",
       "      <td>470</td>\n",
       "      <td>856</td>\n",
       "      <td>856</td>\n",
       "      <td>NaN</td>\n",
       "      <td>NaN</td>\n",
       "      <td>NaN</td>\n",
       "      <td>NaN</td>\n",
       "      <td>856</td>\n",
       "      <td>856</td>\n",
       "      <td>856</td>\n",
       "    </tr>\n",
       "    <tr>\n",
       "      <th>top</th>\n",
       "      <td>NaN</td>\n",
       "      <td>APA</td>\n",
       "      <td>NaN</td>\n",
       "      <td>2010-02-26</td>\n",
       "      <td>https://www.sec.gov/Archives/edgar/data/101896...</td>\n",
       "      <td>form united states securities exchange commiss...</td>\n",
       "      <td>NaN</td>\n",
       "      <td>NaN</td>\n",
       "      <td>NaN</td>\n",
       "      <td>NaN</td>\n",
       "      <td>unassociated document licensed to vf document ...</td>\n",
       "      <td>form united states securities exchange commiss...</td>\n",
       "      <td>['securities', 'exchange', 'commission', 'wash...</td>\n",
       "    </tr>\n",
       "    <tr>\n",
       "      <th>freq</th>\n",
       "      <td>NaN</td>\n",
       "      <td>10</td>\n",
       "      <td>NaN</td>\n",
       "      <td>13</td>\n",
       "      <td>1</td>\n",
       "      <td>1</td>\n",
       "      <td>NaN</td>\n",
       "      <td>NaN</td>\n",
       "      <td>NaN</td>\n",
       "      <td>NaN</td>\n",
       "      <td>1</td>\n",
       "      <td>1</td>\n",
       "      <td>1</td>\n",
       "    </tr>\n",
       "    <tr>\n",
       "      <th>mean</th>\n",
       "      <td>427.500000</td>\n",
       "      <td>NaN</td>\n",
       "      <td>5.394613e+05</td>\n",
       "      <td>NaN</td>\n",
       "      <td>NaN</td>\n",
       "      <td>NaN</td>\n",
       "      <td>2007.714953</td>\n",
       "      <td>4.131631e+05</td>\n",
       "      <td>91714.702103</td>\n",
       "      <td>1567.133178</td>\n",
       "      <td>NaN</td>\n",
       "      <td>NaN</td>\n",
       "      <td>NaN</td>\n",
       "    </tr>\n",
       "    <tr>\n",
       "      <th>std</th>\n",
       "      <td>247.250211</td>\n",
       "      <td>NaN</td>\n",
       "      <td>4.762792e+05</td>\n",
       "      <td>NaN</td>\n",
       "      <td>NaN</td>\n",
       "      <td>NaN</td>\n",
       "      <td>6.373231</td>\n",
       "      <td>3.028968e+05</td>\n",
       "      <td>75495.531303</td>\n",
       "      <td>1467.505147</td>\n",
       "      <td>NaN</td>\n",
       "      <td>NaN</td>\n",
       "      <td>NaN</td>\n",
       "    </tr>\n",
       "    <tr>\n",
       "      <th>min</th>\n",
       "      <td>0.000000</td>\n",
       "      <td>NaN</td>\n",
       "      <td>4.904000e+03</td>\n",
       "      <td>NaN</td>\n",
       "      <td>NaN</td>\n",
       "      <td>NaN</td>\n",
       "      <td>1994.000000</td>\n",
       "      <td>3.266300e+04</td>\n",
       "      <td>8534.000000</td>\n",
       "      <td>105.000000</td>\n",
       "      <td>NaN</td>\n",
       "      <td>NaN</td>\n",
       "      <td>NaN</td>\n",
       "    </tr>\n",
       "    <tr>\n",
       "      <th>25%</th>\n",
       "      <td>213.750000</td>\n",
       "      <td>NaN</td>\n",
       "      <td>6.270900e+04</td>\n",
       "      <td>NaN</td>\n",
       "      <td>NaN</td>\n",
       "      <td>NaN</td>\n",
       "      <td>2003.000000</td>\n",
       "      <td>2.125115e+05</td>\n",
       "      <td>43810.750000</td>\n",
       "      <td>577.000000</td>\n",
       "      <td>NaN</td>\n",
       "      <td>NaN</td>\n",
       "      <td>NaN</td>\n",
       "    </tr>\n",
       "    <tr>\n",
       "      <th>50%</th>\n",
       "      <td>427.500000</td>\n",
       "      <td>NaN</td>\n",
       "      <td>7.075490e+05</td>\n",
       "      <td>NaN</td>\n",
       "      <td>NaN</td>\n",
       "      <td>NaN</td>\n",
       "      <td>2008.000000</td>\n",
       "      <td>3.696745e+05</td>\n",
       "      <td>75770.500000</td>\n",
       "      <td>1208.000000</td>\n",
       "      <td>NaN</td>\n",
       "      <td>NaN</td>\n",
       "      <td>NaN</td>\n",
       "    </tr>\n",
       "    <tr>\n",
       "      <th>75%</th>\n",
       "      <td>641.250000</td>\n",
       "      <td>NaN</td>\n",
       "      <td>9.099540e+05</td>\n",
       "      <td>NaN</td>\n",
       "      <td>NaN</td>\n",
       "      <td>NaN</td>\n",
       "      <td>2013.000000</td>\n",
       "      <td>5.497365e+05</td>\n",
       "      <td>116063.250000</td>\n",
       "      <td>2010.750000</td>\n",
       "      <td>NaN</td>\n",
       "      <td>NaN</td>\n",
       "      <td>NaN</td>\n",
       "    </tr>\n",
       "    <tr>\n",
       "      <th>max</th>\n",
       "      <td>855.000000</td>\n",
       "      <td>NaN</td>\n",
       "      <td>1.613103e+06</td>\n",
       "      <td>NaN</td>\n",
       "      <td>NaN</td>\n",
       "      <td>NaN</td>\n",
       "      <td>2017.000000</td>\n",
       "      <td>2.232387e+06</td>\n",
       "      <td>554115.000000</td>\n",
       "      <td>12732.000000</td>\n",
       "      <td>NaN</td>\n",
       "      <td>NaN</td>\n",
       "      <td>NaN</td>\n",
       "    </tr>\n",
       "  </tbody>\n",
       "</table>\n",
       "</div>"
      ],
      "text/plain": [
       "                id  ...                                    tokenized_sents\n",
       "count   856.000000  ...                                                856\n",
       "unique         NaN  ...                                                856\n",
       "top            NaN  ...  ['securities', 'exchange', 'commission', 'wash...\n",
       "freq           NaN  ...                                                  1\n",
       "mean    427.500000  ...                                                NaN\n",
       "std     247.250211  ...                                                NaN\n",
       "min       0.000000  ...                                                NaN\n",
       "25%     213.750000  ...                                                NaN\n",
       "50%     427.500000  ...                                                NaN\n",
       "75%     641.250000  ...                                                NaN\n",
       "max     855.000000  ...                                                NaN\n",
       "\n",
       "[11 rows x 13 columns]"
      ]
     },
     "execution_count": 111,
     "metadata": {
      "tags": []
     },
     "output_type": "execute_result"
    }
   ],
   "source": [
    "data_test.describe(include='all')"
   ]
  },
  {
   "cell_type": "markdown",
   "metadata": {
    "colab_type": "text",
    "id": "x4KjkwhDd2fL"
   },
   "source": []
  },
  {
   "cell_type": "markdown",
   "metadata": {
    "colab_type": "text",
    "id": "xBBWVhCXS66o"
   },
   "source": [
    "## Dropping Unnecessary Variables"
   ]
  },
  {
   "cell_type": "code",
   "execution_count": 0,
   "metadata": {
    "colab": {},
    "colab_type": "code",
    "id": "d3kwKJ4XDzPA"
   },
   "outputs": [],
   "source": [
    "data_test.drop(['ticker','cik','filing_date','10k_link','char_count','word_count','numerics','clean_text','clean_without_stopwords','Extracted_data_test'],\\\n",
    "                             inplace = True, axis=1)"
   ]
  },
  {
   "cell_type": "code",
   "execution_count": 0,
   "metadata": {
    "colab": {},
    "colab_type": "code",
    "id": "ppFrNQEj_2TP"
   },
   "outputs": [],
   "source": [
    "data_train.drop(['ticker','cik','filing_date','10k_link','char_count','word_count','numerics','clean_text','clean_without_stopwords','Extracted_data'],\\\n",
    "                             inplace = True, axis=1)"
   ]
  },
  {
   "cell_type": "code",
   "execution_count": 114,
   "metadata": {
    "colab": {
     "base_uri": "https://localhost:8080/",
     "height": 195
    },
    "colab_type": "code",
    "id": "Oj3uY4mOGk0B",
    "outputId": "62ada07c-8007-4ce7-d22f-7403b679141b"
   },
   "outputs": [
    {
     "data": {
      "text/html": [
       "<div>\n",
       "<style scoped>\n",
       "    .dataframe tbody tr th:only-of-type {\n",
       "        vertical-align: middle;\n",
       "    }\n",
       "\n",
       "    .dataframe tbody tr th {\n",
       "        vertical-align: top;\n",
       "    }\n",
       "\n",
       "    .dataframe thead th {\n",
       "        text-align: right;\n",
       "    }\n",
       "</style>\n",
       "<table border=\"1\" class=\"dataframe\">\n",
       "  <thead>\n",
       "    <tr style=\"text-align: right;\">\n",
       "      <th></th>\n",
       "      <th>id</th>\n",
       "      <th>filing_year</th>\n",
       "      <th>tokenized_sents</th>\n",
       "    </tr>\n",
       "  </thead>\n",
       "  <tbody>\n",
       "    <tr>\n",
       "      <th>0</th>\n",
       "      <td>0</td>\n",
       "      <td>2012</td>\n",
       "      <td>['form', 'united', 'states', 'securities', 'ex...</td>\n",
       "    </tr>\n",
       "    <tr>\n",
       "      <th>1</th>\n",
       "      <td>1</td>\n",
       "      <td>1999</td>\n",
       "      <td>['united', 'states', 'securities', 'exchange',...</td>\n",
       "    </tr>\n",
       "    <tr>\n",
       "      <th>2</th>\n",
       "      <td>2</td>\n",
       "      <td>2001</td>\n",
       "      <td>['range', 'resources', 'corporation', 'form', ...</td>\n",
       "    </tr>\n",
       "    <tr>\n",
       "      <th>3</th>\n",
       "      <td>3</td>\n",
       "      <td>2009</td>\n",
       "      <td>['united', 'states', 'securities', 'exchange',...</td>\n",
       "    </tr>\n",
       "    <tr>\n",
       "      <th>4</th>\n",
       "      <td>4</td>\n",
       "      <td>2004</td>\n",
       "      <td>['united', 'states', 'securities', 'exchange',...</td>\n",
       "    </tr>\n",
       "  </tbody>\n",
       "</table>\n",
       "</div>"
      ],
      "text/plain": [
       "   id  filing_year                                    tokenized_sents\n",
       "0   0         2012  ['form', 'united', 'states', 'securities', 'ex...\n",
       "1   1         1999  ['united', 'states', 'securities', 'exchange',...\n",
       "2   2         2001  ['range', 'resources', 'corporation', 'form', ...\n",
       "3   3         2009  ['united', 'states', 'securities', 'exchange',...\n",
       "4   4         2004  ['united', 'states', 'securities', 'exchange',..."
      ]
     },
     "execution_count": 114,
     "metadata": {
      "tags": []
     },
     "output_type": "execute_result"
    }
   ],
   "source": [
    "data_test.head()"
   ]
  },
  {
   "cell_type": "code",
   "execution_count": 115,
   "metadata": {
    "colab": {
     "base_uri": "https://localhost:8080/",
     "height": 195
    },
    "colab_type": "code",
    "id": "UtLXSZlKAIWB",
    "outputId": "38fa79ef-236f-4cd4-e786-27c86b50cb6a"
   },
   "outputs": [
    {
     "data": {
      "text/html": [
       "<div>\n",
       "<style scoped>\n",
       "    .dataframe tbody tr th:only-of-type {\n",
       "        vertical-align: middle;\n",
       "    }\n",
       "\n",
       "    .dataframe tbody tr th {\n",
       "        vertical-align: top;\n",
       "    }\n",
       "\n",
       "    .dataframe thead th {\n",
       "        text-align: right;\n",
       "    }\n",
       "</style>\n",
       "<table border=\"1\" class=\"dataframe\">\n",
       "  <thead>\n",
       "    <tr style=\"text-align: right;\">\n",
       "      <th></th>\n",
       "      <th>long_term_outlook</th>\n",
       "      <th>filing_year</th>\n",
       "      <th>tokenized_sents</th>\n",
       "    </tr>\n",
       "  </thead>\n",
       "  <tbody>\n",
       "    <tr>\n",
       "      <th>0</th>\n",
       "      <td>0</td>\n",
       "      <td>2012</td>\n",
       "      <td>['public', 'transitional', 'http', 'www', 'org...</td>\n",
       "    </tr>\n",
       "    <tr>\n",
       "      <th>1</th>\n",
       "      <td>0</td>\n",
       "      <td>2015</td>\n",
       "      <td>['public', 'transitional', 'http', 'www', 'org...</td>\n",
       "    </tr>\n",
       "    <tr>\n",
       "      <th>2</th>\n",
       "      <td>1</td>\n",
       "      <td>2016</td>\n",
       "      <td>['public', 'transitional', 'http', 'www', 'org...</td>\n",
       "    </tr>\n",
       "    <tr>\n",
       "      <th>3</th>\n",
       "      <td>1</td>\n",
       "      <td>2001</td>\n",
       "      <td>['united', 'states', 'securities', 'exchange',...</td>\n",
       "    </tr>\n",
       "    <tr>\n",
       "      <th>4</th>\n",
       "      <td>1</td>\n",
       "      <td>2005</td>\n",
       "      <td>['vk', 'pagebreak', 'securities', 'exchange', ...</td>\n",
       "    </tr>\n",
       "  </tbody>\n",
       "</table>\n",
       "</div>"
      ],
      "text/plain": [
       "   long_term_outlook  ...                                    tokenized_sents\n",
       "0                  0  ...  ['public', 'transitional', 'http', 'www', 'org...\n",
       "1                  0  ...  ['public', 'transitional', 'http', 'www', 'org...\n",
       "2                  1  ...  ['public', 'transitional', 'http', 'www', 'org...\n",
       "3                  1  ...  ['united', 'states', 'securities', 'exchange',...\n",
       "4                  1  ...  ['vk', 'pagebreak', 'securities', 'exchange', ...\n",
       "\n",
       "[5 rows x 3 columns]"
      ]
     },
     "execution_count": 115,
     "metadata": {
      "tags": []
     },
     "output_type": "execute_result"
    }
   ],
   "source": [
    "data_train.head()"
   ]
  },
  {
   "cell_type": "code",
   "execution_count": 0,
   "metadata": {
    "colab": {},
    "colab_type": "code",
    "id": "gDL7t5RvIPKf"
   },
   "outputs": [],
   "source": [
    "data_train['tokenized_sents'] = data_train['tokenized_sents'].astype('category')\n",
    "data_test['tokenized_sents'] = data_test['tokenized_sents'].astype('category')"
   ]
  },
  {
   "cell_type": "markdown",
   "metadata": {
    "colab_type": "text",
    "id": "WUkAFtFKL7Rz"
   },
   "source": [
    "## Train-Validation Split"
   ]
  },
  {
   "cell_type": "markdown",
   "metadata": {
    "colab_type": "text",
    "id": "3VhShI4roDPM"
   },
   "source": [
    "**Tried train validation split on train data which result in around 71% accuracy on SVM Model, but after using train , test data it result it into 71.84% using same model which hardly represent much increse.**"
   ]
  },
  {
   "cell_type": "code",
   "execution_count": 0,
   "metadata": {
    "colab": {},
    "colab_type": "code",
    "id": "XCrEImCFIPVM"
   },
   "outputs": [],
   "source": [
    "# X =data_train.loc[:,data_train.columns!=\"long_term_outlook\"] # loc is used for names of the columns.iloc is used for row or column index\n",
    "# y =data_test.loc[:,\"long_term_outlook\"]\n",
    "\n",
    "# X_train, X_Val, y_train, y_Val= train_test_split(X,y,test_size=0.20,random_state=123)"
   ]
  },
  {
   "cell_type": "code",
   "execution_count": 0,
   "metadata": {
    "colab": {},
    "colab_type": "code",
    "id": "jxujUUg_IPOz"
   },
   "outputs": [],
   "source": [
    "# print(X_train.shape)\n",
    "# print(X_Val.shape)\n",
    "# print(y_train.shape)\n",
    "# print(y_Val.shape)"
   ]
  },
  {
   "cell_type": "code",
   "execution_count": 118,
   "metadata": {
    "colab": {
     "base_uri": "https://localhost:8080/",
     "height": 34
    },
    "colab_type": "code",
    "id": "b-ycLtjtQQen",
    "outputId": "0b763dda-dd29-4b9b-9dc2-1adbc97c619f"
   },
   "outputs": [
    {
     "data": {
      "text/plain": [
       "(2568,)"
      ]
     },
     "execution_count": 118,
     "metadata": {
      "tags": []
     },
     "output_type": "execute_result"
    }
   ],
   "source": [
    " y_train=data_train.loc[:,\"long_term_outlook\"]\n",
    " y_train.shape"
   ]
  },
  {
   "cell_type": "markdown",
   "metadata": {
    "colab_type": "text",
    "id": "BEvYQ28Ms8NK"
   },
   "source": [
    "### Tfidfvectorizer aim to convert a collection of raw documents to a matrix of TF-IDF features."
   ]
  },
  {
   "cell_type": "code",
   "execution_count": 0,
   "metadata": {
    "colab": {},
    "colab_type": "code",
    "id": "VhoOBR8spU5Q"
   },
   "outputs": [],
   "source": [
    "from sklearn.feature_extraction.text import TfidfVectorizer \n",
    " \n",
    "# settings that you use for count vectorizer will go here\n",
    "tfidf_vectorizer=TfidfVectorizer(use_idf=True)\n",
    "tfidf_vectorizer.fit(data_train['tokenized_sents'])\n",
    "\n",
    "\n",
    "# # just send in all your docs here\n",
    "Train_X_Tfidf = tfidf_vectorizer.transform(data_train['tokenized_sents'])\n",
    "Test_X_Tfidf = tfidf_vectorizer.transform(data_test['tokenized_sents'])"
   ]
  },
  {
   "cell_type": "code",
   "execution_count": 1,
   "metadata": {
    "colab": {
     "base_uri": "https://localhost:8080/",
     "height": 54
    },
    "colab_type": "code",
    "id": "cAtm-9kiEkdt",
    "outputId": "bdbc4128-c0f0-41ff-9a3a-aa47a0f599a7"
   },
   "outputs": [],
   "source": [
    "#print(tfidf_vectorizer.vocabulary_)"
   ]
  },
  {
   "cell_type": "code",
   "execution_count": 123,
   "metadata": {
    "colab": {
     "base_uri": "https://localhost:8080/",
     "height": 34
    },
    "colab_type": "code",
    "id": "CvDYGQ9YEs-W",
    "outputId": "2a1eab81-7080-4856-961b-d454e2e6c930"
   },
   "outputs": [
    {
     "data": {
      "text/plain": [
       "(2568, 89711)"
      ]
     },
     "execution_count": 123,
     "metadata": {
      "tags": []
     },
     "output_type": "execute_result"
    }
   ],
   "source": [
    "# print(Train_X_Tfidf)\n",
    "Train_X_Tfidf.shape"
   ]
  },
  {
   "cell_type": "code",
   "execution_count": 124,
   "metadata": {
    "colab": {
     "base_uri": "https://localhost:8080/",
     "height": 34
    },
    "colab_type": "code",
    "id": "7V9FbBcLEknc",
    "outputId": "4e8b56fa-d66a-4d4d-e5af-e0b4d2b935ad"
   },
   "outputs": [
    {
     "data": {
      "text/plain": [
       "(856, 89711)"
      ]
     },
     "execution_count": 124,
     "metadata": {
      "tags": []
     },
     "output_type": "execute_result"
    }
   ],
   "source": [
    "# print(Test_X_Tfidf)\n",
    "Test_X_Tfidf.shape"
   ]
  },
  {
   "cell_type": "markdown",
   "metadata": {
    "colab_type": "text",
    "id": "O-qg4wns9pz7"
   },
   "source": [
    "## Build SVM Model"
   ]
  },
  {
   "cell_type": "code",
   "execution_count": 0,
   "metadata": {
    "colab": {},
    "colab_type": "code",
    "id": "DLhqdG-9-eM1"
   },
   "outputs": [],
   "source": [
    "from sklearn.svm import SVC # \"Support Vector Classifier\""
   ]
  },
  {
   "cell_type": "code",
   "execution_count": 129,
   "metadata": {
    "colab": {
     "base_uri": "https://localhost:8080/",
     "height": 84
    },
    "colab_type": "code",
    "id": "TBpFWZl28jah",
    "outputId": "dc8a62cf-1567-4b88-a90a-211a61896f1e"
   },
   "outputs": [
    {
     "data": {
      "text/plain": [
       "SVC(C=1.0, cache_size=200, class_weight=None, coef0=0.0,\n",
       "    decision_function_shape='ovr', degree=3, gamma='auto', kernel='linear',\n",
       "    max_iter=-1, probability=False, random_state=None, shrinking=True,\n",
       "    tol=0.001, verbose=False)"
      ]
     },
     "execution_count": 129,
     "metadata": {
      "tags": []
     },
     "output_type": "execute_result"
    }
   ],
   "source": [
    "# Classifier - Algorithm - SVM\n",
    "# fit the training dataset on the classifier\n",
    "SVM = SVC(C=1.0, kernel='linear', degree=3, gamma='auto')\n",
    "SVM.fit(Train_X_Tfidf,y_train)"
   ]
  },
  {
   "cell_type": "markdown",
   "metadata": {
    "colab_type": "text",
    "id": "fSs4063Yusmv"
   },
   "source": [
    "### Evaluate Model"
   ]
  },
  {
   "cell_type": "code",
   "execution_count": 0,
   "metadata": {
    "colab": {},
    "colab_type": "code",
    "id": "O9PoN0TBNUWv"
   },
   "outputs": [],
   "source": [
    "# predict the labels on test dataset\n",
    "predictions_SVM_test = SVM.predict(Test_X_Tfidf)\n",
    "predictions_SVM_train = SVM.predict(Train_X_Tfidf)"
   ]
  },
  {
   "cell_type": "code",
   "execution_count": 132,
   "metadata": {
    "colab": {
     "base_uri": "https://localhost:8080/",
     "height": 34
    },
    "colab_type": "code",
    "id": "PBJq4oAcTbIa",
    "outputId": "ffc6b1f4-033e-4a1c-ec45-3e002d79b3d5"
   },
   "outputs": [
    {
     "name": "stdout",
     "output_type": "stream",
     "text": [
      "856 2568\n"
     ]
    }
   ],
   "source": [
    "print(len(predictions_SVM_test),len(predictions_SVM_train))"
   ]
  },
  {
   "cell_type": "code",
   "execution_count": 133,
   "metadata": {
    "colab": {
     "base_uri": "https://localhost:8080/",
     "height": 34
    },
    "colab_type": "code",
    "id": "Xqp5eFSnBKSu",
    "outputId": "c8156a3e-5b71-4975-c524-ff6431693d7f"
   },
   "outputs": [
    {
     "name": "stdout",
     "output_type": "stream",
     "text": [
      "SVM Accuracy Score ->  72.0404984423676\n"
     ]
    }
   ],
   "source": [
    "# Use accuracy_score function to get the accuracy\n",
    "from sklearn.metrics import accuracy_score\n",
    "print(\"SVM Accuracy Score -> \",accuracy_score(predictions_SVM_train, y_train)*100)"
   ]
  },
  {
   "cell_type": "code",
   "execution_count": 134,
   "metadata": {
    "colab": {
     "base_uri": "https://localhost:8080/",
     "height": 672
    },
    "colab_type": "code",
    "id": "rs0oeTVsWKas",
    "outputId": "550c8eee-8492-41e8-aac5-63f59dddcab2"
   },
   "outputs": [
    {
     "data": {
      "text/plain": [
       "array([1, 1, 1, 1, 1, 1, 1, 1, 1, 1, 1, 1, 1, 1, 1, 1, 1, 1, 1, 1, 1, 1,\n",
       "       1, 1, 1, 1, 1, 1, 1, 1, 1, 1, 1, 1, 1, 1, 1, 1, 1, 1, 1, 1, 1, 1,\n",
       "       1, 1, 1, 1, 1, 1, 1, 1, 1, 1, 1, 0, 1, 1, 1, 1, 1, 1, 1, 1, 1, 1,\n",
       "       1, 1, 1, 1, 1, 1, 1, 1, 1, 1, 1, 1, 1, 1, 1, 1, 1, 1, 1, 1, 1, 1,\n",
       "       1, 1, 1, 1, 1, 1, 1, 1, 1, 1, 1, 1, 1, 1, 1, 1, 1, 1, 1, 1, 1, 1,\n",
       "       1, 1, 1, 1, 1, 1, 1, 1, 1, 1, 1, 1, 0, 1, 1, 1, 0, 1, 1, 1, 1, 1,\n",
       "       1, 1, 1, 1, 1, 1, 1, 1, 1, 1, 1, 1, 1, 1, 1, 1, 1, 1, 1, 1, 1, 1,\n",
       "       1, 1, 1, 1, 1, 1, 1, 1, 1, 1, 1, 1, 1, 1, 1, 1, 1, 1, 1, 1, 1, 1,\n",
       "       0, 1, 1, 1, 1, 1, 1, 1, 1, 1, 1, 1, 1, 1, 1, 1, 1, 1, 1, 1, 1, 1,\n",
       "       1, 1, 1, 1, 1, 1, 1, 1, 1, 1, 1, 1, 1, 1, 1, 1, 1, 0, 1, 1, 1, 1,\n",
       "       1, 1, 1, 1, 1, 1, 1, 1, 1, 1, 1, 1, 1, 1, 1, 1, 1, 1, 1, 1, 1, 1,\n",
       "       1, 1, 1, 1, 1, 1, 1, 1, 1, 1, 1, 1, 1, 1, 1, 1, 1, 1, 1, 1, 1, 1,\n",
       "       1, 1, 1, 1, 1, 0, 1, 1, 1, 1, 1, 1, 1, 1, 1, 1, 1, 1, 1, 1, 1, 1,\n",
       "       1, 1, 1, 1, 1, 1, 1, 1, 1, 1, 1, 1, 1, 1, 1, 1, 1, 1, 1, 1, 1, 1,\n",
       "       1, 1, 1, 1, 1, 1, 1, 1, 1, 1, 1, 1, 1, 1, 1, 1, 1, 1, 1, 1, 1, 1,\n",
       "       1, 1, 1, 1, 1, 1, 1, 1, 1, 1, 1, 1, 1, 1, 1, 1, 1, 1, 1, 1, 1, 1,\n",
       "       1, 1, 1, 1, 1, 1, 1, 1, 1, 1, 1, 1, 1, 1, 1, 1, 1, 1, 1, 1, 1, 1,\n",
       "       1, 1, 1, 1, 1, 1, 1, 1, 1, 1, 1, 1, 1, 1, 1, 1, 1, 1, 1, 1, 1, 1,\n",
       "       1, 1, 1, 1, 1, 1, 1, 1, 1, 1, 1, 1, 1, 1, 1, 1, 1, 1, 1, 1, 1, 1,\n",
       "       1, 1, 1, 1, 1, 1, 1, 1, 1, 1, 1, 1, 1, 1, 1, 0, 1, 1, 1, 1, 1, 1,\n",
       "       1, 1, 1, 1, 1, 1, 1, 1, 1, 1, 1, 1, 1, 1, 1, 1, 1, 1, 1, 1, 1, 1,\n",
       "       1, 1, 1, 1, 1, 1, 1, 1, 1, 1, 1, 1, 1, 1, 1, 1, 1, 1, 1, 1, 1, 1,\n",
       "       1, 1, 1, 1, 1, 1, 1, 1, 1, 1, 1, 1, 1, 1, 1, 1, 1, 1, 1, 1, 1, 1,\n",
       "       1, 1, 1, 1, 1, 1, 1, 1, 1, 1, 1, 1, 1, 1, 1, 1, 1, 1, 1, 1, 1, 1,\n",
       "       1, 1, 0, 1, 1, 1, 1, 1, 1, 1, 1, 1, 1, 1, 1, 1, 1, 1, 1, 1, 1, 1,\n",
       "       1, 1, 1, 1, 1, 1, 1, 1, 1, 1, 1, 1, 1, 1, 1, 1, 1, 1, 1, 1, 1, 1,\n",
       "       1, 1, 1, 1, 1, 1, 1, 1, 1, 1, 1, 1, 1, 1, 1, 1, 1, 1, 1, 1, 1, 1,\n",
       "       1, 1, 1, 1, 1, 1, 1, 0, 1, 1, 1, 1, 1, 1, 1, 1, 1, 1, 1, 1, 1, 1,\n",
       "       1, 1, 1, 1, 1, 1, 1, 1, 1, 1, 1, 1, 1, 1, 1, 1, 1, 1, 1, 1, 1, 1,\n",
       "       1, 1, 1, 1, 1, 1, 1, 1, 1, 1, 1, 1, 1, 1, 1, 1, 1, 1, 1, 1, 1, 1,\n",
       "       1, 1, 1, 0, 1, 1, 1, 1, 1, 1, 1, 1, 1, 1, 1, 1, 1, 1, 1, 1, 1, 1,\n",
       "       1, 1, 1, 1, 1, 1, 1, 1, 1, 1, 1, 1, 1, 1, 1, 1, 1, 1, 1, 1, 1, 1,\n",
       "       1, 1, 1, 1, 1, 1, 1, 1, 1, 1, 1, 1, 1, 1, 1, 1, 1, 1, 1, 1, 1, 1,\n",
       "       1, 1, 1, 1, 1, 1, 1, 1, 1, 1, 1, 1, 1, 1, 1, 1, 1, 1, 1, 1, 1, 1,\n",
       "       1, 1, 1, 1, 1, 1, 1, 1, 1, 1, 1, 1, 1, 1, 1, 1, 1, 1, 1, 1, 1, 1,\n",
       "       1, 1, 1, 1, 1, 1, 1, 1, 0, 1, 1, 1, 1, 1, 1, 1, 1, 1, 1, 1, 1, 0,\n",
       "       1, 1, 1, 1, 1, 1, 1, 1, 1, 1, 1, 1, 1, 1, 1, 1, 1, 1, 0, 1, 1, 1,\n",
       "       1, 1, 1, 1, 1, 1, 1, 1, 1, 1, 1, 1, 1, 1, 1, 1, 1, 1, 1, 1, 1, 1,\n",
       "       1, 1, 1, 1, 1, 1, 1, 1, 1, 1, 1, 1, 1, 1, 1, 1, 1, 1, 1, 1])"
      ]
     },
     "execution_count": 134,
     "metadata": {
      "tags": []
     },
     "output_type": "execute_result"
    }
   ],
   "source": [
    "predictions_SVM_test"
   ]
  },
  {
   "cell_type": "code",
   "execution_count": 135,
   "metadata": {
    "colab": {
     "base_uri": "https://localhost:8080/",
     "height": 168
    },
    "colab_type": "code",
    "id": "O3a_PAUxUL-6",
    "outputId": "1b69d96e-ef2b-4b0e-c993-28239d04c9e4"
   },
   "outputs": [
    {
     "name": "stdout",
     "output_type": "stream",
     "text": [
      "              precision    recall  f1-score   support\n",
      "\n",
      "           0       0.76      0.06      0.10       747\n",
      "           1       0.72      0.99      0.83      1821\n",
      "\n",
      "    accuracy                           0.72      2568\n",
      "   macro avg       0.74      0.52      0.47      2568\n",
      "weighted avg       0.73      0.72      0.62      2568\n",
      "\n"
     ]
    }
   ],
   "source": [
    "from sklearn.metrics import classification_report\n",
    "print(classification_report(y_true=y_train, y_pred=predictions_SVM_train))"
   ]
  },
  {
   "cell_type": "code",
   "execution_count": 0,
   "metadata": {
    "colab": {},
    "colab_type": "code",
    "id": "4DptN6SFZMUc"
   },
   "outputs": [],
   "source": [
    "# Final_PredResultsSVM = pd.DataFrame()\n",
    "# sub_file = pd.read_csv('/content/driver/My Drive/phd_data/sample_submission-1570843559242.csv')\n",
    "# Final_PredResultsSVM['id'] = sub_file['id']\n",
    "# Final_PredResultsSVM['long_term_outlook'] = predictions_SVM_test\n",
    "# Final_PredResultsSVM[['id','long_term_outlook']].to_csv('SVM_Submission.csv',index=False)"
   ]
  },
  {
   "cell_type": "markdown",
   "metadata": {
    "colab_type": "text",
    "id": "fBkR48NrhfeX"
   },
   "source": [
    "## Build Naive Bayes Model"
   ]
  },
  {
   "cell_type": "code",
   "execution_count": 137,
   "metadata": {
    "colab": {
     "base_uri": "https://localhost:8080/",
     "height": 34
    },
    "colab_type": "code",
    "id": "JqJvK9Fnhuhz",
    "outputId": "672b7958-e981-4e8c-cda0-66ca733d7d94"
   },
   "outputs": [
    {
     "data": {
      "text/plain": [
       "MultinomialNB(alpha=1.0, class_prior=None, fit_prior=True)"
      ]
     },
     "execution_count": 137,
     "metadata": {
      "tags": []
     },
     "output_type": "execute_result"
    }
   ],
   "source": [
    "# fit the training dataset on the NB classifier\n",
    "from sklearn.naive_bayes import MultinomialNB\n",
    "clf = MultinomialNB()\n",
    "clf.fit(Train_X_Tfidf,y_train)"
   ]
  },
  {
   "cell_type": "markdown",
   "metadata": {
    "colab_type": "text",
    "id": "aCMSED3ow6xA"
   },
   "source": [
    "### Evaluate Model"
   ]
  },
  {
   "cell_type": "code",
   "execution_count": 0,
   "metadata": {
    "colab": {},
    "colab_type": "code",
    "id": "F1IhwZ4sh-jS"
   },
   "outputs": [],
   "source": [
    "# predict the labels on test dataset\n",
    "predictions_NB_test = clf.predict(Test_X_Tfidf)\n",
    "predictions_NB_train = clf.predict(Train_X_Tfidf)"
   ]
  },
  {
   "cell_type": "code",
   "execution_count": 139,
   "metadata": {
    "colab": {
     "base_uri": "https://localhost:8080/",
     "height": 34
    },
    "colab_type": "code",
    "id": "pFxFh3mth-gw",
    "outputId": "f8237913-1489-47c5-c8a8-d24d4d5e1332"
   },
   "outputs": [
    {
     "name": "stdout",
     "output_type": "stream",
     "text": [
      "Naive Bayes Accuracy Score ->  70.91121495327103\n"
     ]
    }
   ],
   "source": [
    "# Use accuracy_score function to get the accuracy\n",
    "print(\"Naive Bayes Accuracy Score -> \",accuracy_score(predictions_NB_train, y_train)*100)"
   ]
  },
  {
   "cell_type": "code",
   "execution_count": 140,
   "metadata": {
    "colab": {
     "base_uri": "https://localhost:8080/",
     "height": 672
    },
    "colab_type": "code",
    "id": "rTRQOZx8h-d7",
    "outputId": "6b58a41b-a1ea-4f9e-f301-8e387d7781cf"
   },
   "outputs": [
    {
     "data": {
      "text/plain": [
       "array([1, 1, 1, 1, 1, 1, 1, 1, 1, 1, 1, 1, 1, 1, 1, 1, 1, 1, 1, 1, 1, 1,\n",
       "       1, 1, 1, 1, 1, 1, 1, 1, 1, 1, 1, 1, 1, 1, 1, 1, 1, 1, 1, 1, 1, 1,\n",
       "       1, 1, 1, 1, 1, 1, 1, 1, 1, 1, 1, 1, 1, 1, 1, 1, 1, 1, 1, 1, 1, 1,\n",
       "       1, 1, 1, 1, 1, 1, 1, 1, 1, 1, 1, 1, 1, 1, 1, 1, 1, 1, 1, 1, 1, 1,\n",
       "       1, 1, 1, 1, 1, 1, 1, 1, 1, 1, 1, 1, 1, 1, 1, 1, 1, 1, 1, 1, 1, 1,\n",
       "       1, 1, 1, 1, 1, 1, 1, 1, 1, 1, 1, 1, 1, 1, 1, 1, 1, 1, 1, 1, 1, 1,\n",
       "       1, 1, 1, 1, 1, 1, 1, 1, 1, 1, 1, 1, 1, 1, 1, 1, 1, 1, 1, 1, 1, 1,\n",
       "       1, 1, 1, 1, 1, 1, 1, 1, 1, 1, 1, 1, 1, 1, 1, 1, 1, 1, 1, 1, 1, 1,\n",
       "       1, 1, 1, 1, 1, 1, 1, 1, 1, 1, 1, 1, 1, 1, 1, 1, 1, 1, 1, 1, 1, 1,\n",
       "       1, 1, 1, 1, 1, 1, 1, 1, 1, 1, 1, 1, 1, 1, 1, 1, 1, 1, 1, 1, 1, 1,\n",
       "       1, 1, 1, 1, 1, 1, 1, 1, 1, 1, 1, 1, 1, 1, 1, 1, 1, 1, 1, 1, 1, 1,\n",
       "       1, 1, 1, 1, 1, 1, 1, 1, 1, 1, 1, 1, 1, 1, 1, 1, 1, 1, 1, 1, 1, 1,\n",
       "       1, 1, 1, 1, 1, 1, 1, 1, 1, 1, 1, 1, 1, 1, 1, 1, 1, 1, 1, 1, 1, 1,\n",
       "       1, 1, 1, 1, 1, 1, 1, 1, 1, 1, 1, 1, 1, 1, 1, 1, 1, 1, 1, 1, 1, 1,\n",
       "       1, 1, 1, 1, 1, 1, 1, 1, 1, 1, 1, 1, 1, 1, 1, 1, 1, 1, 1, 1, 1, 1,\n",
       "       1, 1, 1, 1, 1, 1, 1, 1, 1, 1, 1, 1, 1, 1, 1, 1, 1, 1, 1, 1, 1, 1,\n",
       "       1, 1, 1, 1, 1, 1, 1, 1, 1, 1, 1, 1, 1, 1, 1, 1, 1, 1, 1, 1, 1, 1,\n",
       "       1, 1, 1, 1, 1, 1, 1, 1, 1, 1, 1, 1, 1, 1, 1, 1, 1, 1, 1, 1, 1, 1,\n",
       "       1, 1, 1, 1, 1, 1, 1, 1, 1, 1, 1, 1, 1, 1, 1, 1, 1, 1, 1, 1, 1, 1,\n",
       "       1, 1, 1, 1, 1, 1, 1, 1, 1, 1, 1, 1, 1, 1, 1, 1, 1, 1, 1, 1, 1, 1,\n",
       "       1, 1, 1, 1, 1, 1, 1, 1, 1, 1, 1, 1, 1, 1, 1, 1, 1, 1, 1, 1, 1, 1,\n",
       "       1, 1, 1, 1, 1, 1, 1, 1, 1, 1, 1, 1, 1, 1, 1, 1, 1, 1, 1, 1, 1, 1,\n",
       "       1, 1, 1, 1, 1, 1, 1, 1, 1, 1, 1, 1, 1, 1, 1, 1, 1, 1, 1, 1, 1, 1,\n",
       "       1, 1, 1, 1, 1, 1, 1, 1, 1, 1, 1, 1, 1, 1, 1, 1, 1, 1, 1, 1, 1, 1,\n",
       "       1, 1, 1, 1, 1, 1, 1, 1, 1, 1, 1, 1, 1, 1, 1, 1, 1, 1, 1, 1, 1, 1,\n",
       "       1, 1, 1, 1, 1, 1, 1, 1, 1, 1, 1, 1, 1, 1, 1, 1, 1, 1, 1, 1, 1, 1,\n",
       "       1, 1, 1, 1, 1, 1, 1, 1, 1, 1, 1, 1, 1, 1, 1, 1, 1, 1, 1, 1, 1, 1,\n",
       "       1, 1, 1, 1, 1, 1, 1, 1, 1, 1, 1, 1, 1, 1, 1, 1, 1, 1, 1, 1, 1, 1,\n",
       "       1, 1, 1, 1, 1, 1, 1, 1, 1, 1, 1, 1, 1, 1, 1, 1, 1, 1, 1, 1, 1, 1,\n",
       "       1, 1, 1, 1, 1, 1, 1, 1, 1, 1, 1, 1, 1, 1, 1, 1, 1, 1, 1, 1, 1, 1,\n",
       "       1, 1, 1, 1, 1, 1, 1, 1, 1, 1, 1, 1, 1, 1, 1, 1, 1, 1, 1, 1, 1, 1,\n",
       "       1, 1, 1, 1, 1, 1, 1, 1, 1, 1, 1, 1, 1, 1, 1, 1, 1, 1, 1, 1, 1, 1,\n",
       "       1, 1, 1, 1, 1, 1, 1, 1, 1, 1, 1, 1, 1, 1, 1, 1, 1, 1, 1, 1, 1, 1,\n",
       "       1, 1, 1, 1, 1, 1, 1, 1, 1, 1, 1, 1, 1, 1, 1, 1, 1, 1, 1, 1, 1, 1,\n",
       "       1, 1, 1, 1, 1, 1, 1, 1, 1, 1, 1, 1, 1, 1, 1, 1, 1, 1, 1, 1, 1, 1,\n",
       "       1, 1, 1, 1, 1, 1, 1, 1, 1, 1, 1, 1, 1, 1, 1, 1, 1, 1, 1, 1, 1, 1,\n",
       "       1, 1, 1, 1, 1, 1, 1, 1, 1, 1, 1, 1, 1, 1, 1, 1, 1, 1, 1, 1, 1, 1,\n",
       "       1, 1, 1, 1, 1, 1, 1, 1, 1, 1, 1, 1, 1, 1, 1, 1, 1, 1, 1, 1, 1, 1,\n",
       "       1, 1, 1, 1, 1, 1, 1, 1, 1, 1, 1, 1, 1, 1, 1, 1, 1, 1, 1, 1])"
      ]
     },
     "execution_count": 140,
     "metadata": {
      "tags": []
     },
     "output_type": "execute_result"
    }
   ],
   "source": [
    "predictions_NB_test"
   ]
  },
  {
   "cell_type": "code",
   "execution_count": 141,
   "metadata": {
    "colab": {
     "base_uri": "https://localhost:8080/",
     "height": 168
    },
    "colab_type": "code",
    "id": "CbZ4YNcbh-bX",
    "outputId": "fe08efdb-1129-49cc-8a16-1c547a80df1e"
   },
   "outputs": [
    {
     "name": "stdout",
     "output_type": "stream",
     "text": [
      "              precision    recall  f1-score   support\n",
      "\n",
      "           0       0.00      0.00      0.00       747\n",
      "           1       0.71      1.00      0.83      1821\n",
      "\n",
      "    accuracy                           0.71      2568\n",
      "   macro avg       0.35      0.50      0.41      2568\n",
      "weighted avg       0.50      0.71      0.59      2568\n",
      "\n"
     ]
    }
   ],
   "source": [
    "from sklearn.metrics import classification_report\n",
    "print(classification_report(y_true=y_train, y_pred=predictions_NB_train))"
   ]
  },
  {
   "cell_type": "markdown",
   "metadata": {
    "colab_type": "text",
    "id": "kfxCvKIy5pVi"
   },
   "source": [
    "## Build Logistic Model\n"
   ]
  },
  {
   "cell_type": "code",
   "execution_count": 142,
   "metadata": {
    "colab": {
     "base_uri": "https://localhost:8080/",
     "height": 101
    },
    "colab_type": "code",
    "id": "SgZmnU8jh-Yw",
    "outputId": "f04f6381-9f9d-4f23-fdd8-36d9dd5daf8c"
   },
   "outputs": [
    {
     "data": {
      "text/plain": [
       "LogisticRegression(C=1.0, class_weight=None, dual=False, fit_intercept=True,\n",
       "                   intercept_scaling=1, l1_ratio=None, max_iter=100,\n",
       "                   multi_class='warn', n_jobs=None, penalty='l2',\n",
       "                   random_state=None, solver='warn', tol=0.0001, verbose=0,\n",
       "                   warm_start=False)"
      ]
     },
     "execution_count": 142,
     "metadata": {
      "tags": []
     },
     "output_type": "execute_result"
    }
   ],
   "source": [
    "from sklearn.linear_model import LogisticRegression\n",
    "from sklearn import metrics\n",
    "\n",
    "logreg = LogisticRegression()\n",
    "logreg.fit(Train_X_Tfidf,y_train)"
   ]
  },
  {
   "cell_type": "markdown",
   "metadata": {
    "colab_type": "text",
    "id": "bDwnELujxHWi"
   },
   "source": [
    "### Evaluate Model"
   ]
  },
  {
   "cell_type": "code",
   "execution_count": 0,
   "metadata": {
    "colab": {},
    "colab_type": "code",
    "id": "kqpXuoiIh-VU"
   },
   "outputs": [],
   "source": [
    "# predict the labels on test dataset\n",
    "predictions_LR_test = logreg.predict(Test_X_Tfidf)\n",
    "predictions_LR_train = logreg.predict(Train_X_Tfidf)"
   ]
  },
  {
   "cell_type": "code",
   "execution_count": 144,
   "metadata": {
    "colab": {
     "base_uri": "https://localhost:8080/",
     "height": 34
    },
    "colab_type": "code",
    "id": "wIHk3QFCh-R8",
    "outputId": "80e7edd4-d546-4e9c-b894-5e82c9f70824"
   },
   "outputs": [
    {
     "name": "stdout",
     "output_type": "stream",
     "text": [
      "Logistic Regression Accuracy Score ->  71.84579439252336\n"
     ]
    }
   ],
   "source": [
    "# Use accuracy_score function to get the accuracy\n",
    "print(\"Logistic Regression Accuracy Score -> \",accuracy_score(predictions_LR_train, y_train)*100)"
   ]
  },
  {
   "cell_type": "code",
   "execution_count": 145,
   "metadata": {
    "colab": {
     "base_uri": "https://localhost:8080/",
     "height": 168
    },
    "colab_type": "code",
    "id": "Wsc769hWh-OH",
    "outputId": "54f71c65-152c-4166-8e9d-11cf1fdb9053"
   },
   "outputs": [
    {
     "name": "stdout",
     "output_type": "stream",
     "text": [
      "              precision    recall  f1-score   support\n",
      "\n",
      "           0       0.00      0.00      0.00       747\n",
      "           1       0.71      1.00      0.83      1821\n",
      "\n",
      "    accuracy                           0.71      2568\n",
      "   macro avg       0.35      0.50      0.41      2568\n",
      "weighted avg       0.50      0.71      0.59      2568\n",
      "\n"
     ]
    }
   ],
   "source": [
    "from sklearn.metrics import classification_report\n",
    "print(classification_report(y_true=y_train, y_pred=predictions_NB_train))"
   ]
  },
  {
   "cell_type": "markdown",
   "metadata": {
    "colab_type": "text",
    "id": "pQcjJAyr77-r"
   },
   "source": [
    "## Build Decision Tree Model"
   ]
  },
  {
   "cell_type": "code",
   "execution_count": 0,
   "metadata": {
    "colab": {},
    "colab_type": "code",
    "id": "ZmQlEaeCh-Km"
   },
   "outputs": [],
   "source": [
    "from sklearn.tree import DecisionTreeClassifier\n",
    "# Create Decision Tree classifer object\n",
    "clf = DecisionTreeClassifier()\n",
    "\n",
    "# Train Decision Tree Classifer\n",
    "clf = clf.fit(Train_X_Tfidf,y_train)"
   ]
  },
  {
   "cell_type": "markdown",
   "metadata": {
    "colab_type": "text",
    "id": "ILi0et-3x4R_"
   },
   "source": [
    "### Evaluate Model"
   ]
  },
  {
   "cell_type": "code",
   "execution_count": 0,
   "metadata": {
    "colab": {},
    "colab_type": "code",
    "id": "HRu0xllqh-F_"
   },
   "outputs": [],
   "source": [
    "# predict the labels on test dataset\n",
    "predictions_DC_test = clf.predict(Test_X_Tfidf)\n",
    "predictions_DC_train = clf.predict(Train_X_Tfidf)"
   ]
  },
  {
   "cell_type": "code",
   "execution_count": 148,
   "metadata": {
    "colab": {
     "base_uri": "https://localhost:8080/",
     "height": 34
    },
    "colab_type": "code",
    "id": "ZjbGZZVG8u5N",
    "outputId": "b7f80d70-773d-45e0-cb11-88904497eead"
   },
   "outputs": [
    {
     "name": "stdout",
     "output_type": "stream",
     "text": [
      "Decision tree Accuracy Score ->  100.0\n"
     ]
    }
   ],
   "source": [
    "# Use accuracy_score function to get the accuracy\n",
    "print(\"Decision tree Accuracy Score -> \",accuracy_score(predictions_DC_train, y_train)*100)"
   ]
  },
  {
   "cell_type": "code",
   "execution_count": 149,
   "metadata": {
    "colab": {
     "base_uri": "https://localhost:8080/",
     "height": 672
    },
    "colab_type": "code",
    "id": "xaiKwjCk8vIG",
    "outputId": "9be6f679-8ca6-46d9-e7bb-5addb0bcda1a"
   },
   "outputs": [
    {
     "data": {
      "text/plain": [
       "array([1, 1, 0, 0, 1, 1, 1, 1, 1, 1, 1, 1, 1, 1, 1, 0, 1, 0, 0, 0, 0, 0,\n",
       "       1, 1, 0, 0, 0, 1, 0, 1, 1, 1, 1, 0, 1, 1, 1, 1, 1, 0, 1, 1, 1, 1,\n",
       "       1, 1, 0, 1, 1, 1, 1, 0, 1, 1, 1, 1, 0, 0, 1, 1, 0, 0, 1, 0, 0, 1,\n",
       "       0, 1, 1, 0, 0, 0, 1, 1, 1, 0, 1, 1, 1, 0, 1, 1, 0, 1, 1, 1, 1, 0,\n",
       "       0, 0, 1, 1, 0, 0, 0, 0, 0, 1, 0, 1, 0, 1, 1, 0, 1, 0, 1, 1, 1, 1,\n",
       "       1, 1, 1, 0, 1, 1, 0, 1, 1, 1, 1, 1, 1, 0, 0, 0, 1, 1, 1, 1, 1, 1,\n",
       "       0, 1, 1, 1, 1, 1, 1, 0, 1, 0, 1, 0, 1, 0, 1, 1, 1, 1, 1, 0, 1, 1,\n",
       "       1, 1, 0, 0, 0, 0, 1, 1, 0, 1, 1, 1, 1, 0, 1, 1, 1, 0, 1, 1, 0, 1,\n",
       "       0, 1, 0, 1, 1, 0, 0, 0, 0, 1, 1, 1, 1, 1, 1, 1, 0, 0, 0, 1, 1, 1,\n",
       "       1, 1, 1, 1, 1, 1, 1, 0, 1, 1, 1, 0, 0, 1, 1, 1, 1, 0, 0, 1, 0, 0,\n",
       "       1, 0, 1, 1, 0, 1, 1, 1, 0, 0, 1, 1, 0, 1, 1, 0, 1, 1, 1, 1, 1, 1,\n",
       "       1, 1, 1, 0, 0, 0, 1, 1, 1, 0, 0, 1, 1, 1, 1, 1, 0, 0, 1, 1, 1, 1,\n",
       "       1, 1, 1, 0, 1, 1, 1, 1, 1, 1, 1, 1, 1, 1, 1, 1, 1, 0, 1, 0, 0, 1,\n",
       "       1, 0, 0, 1, 0, 1, 1, 1, 0, 1, 1, 1, 1, 1, 1, 1, 1, 0, 1, 1, 0, 1,\n",
       "       1, 1, 0, 1, 1, 0, 1, 1, 1, 1, 0, 1, 0, 1, 0, 0, 1, 1, 1, 1, 1, 1,\n",
       "       1, 1, 0, 1, 1, 0, 0, 1, 1, 1, 1, 1, 1, 0, 1, 0, 1, 0, 1, 0, 0, 1,\n",
       "       1, 1, 1, 1, 1, 1, 0, 1, 1, 0, 1, 1, 1, 1, 1, 1, 0, 0, 1, 1, 1, 1,\n",
       "       1, 1, 0, 1, 1, 1, 0, 1, 0, 1, 1, 1, 0, 0, 1, 1, 1, 1, 1, 0, 0, 1,\n",
       "       1, 1, 1, 0, 1, 1, 0, 1, 0, 1, 0, 1, 1, 1, 1, 1, 1, 1, 0, 1, 0, 1,\n",
       "       1, 0, 1, 1, 1, 0, 1, 1, 1, 0, 1, 0, 1, 0, 1, 1, 1, 1, 0, 0, 0, 0,\n",
       "       1, 1, 1, 1, 1, 1, 1, 0, 1, 1, 1, 0, 1, 1, 1, 0, 1, 1, 1, 1, 1, 1,\n",
       "       1, 0, 0, 1, 1, 1, 0, 0, 0, 1, 1, 1, 1, 1, 0, 1, 0, 1, 1, 1, 1, 0,\n",
       "       1, 1, 0, 0, 1, 0, 1, 1, 1, 0, 1, 1, 0, 1, 1, 0, 0, 1, 1, 1, 1, 0,\n",
       "       0, 1, 0, 1, 1, 0, 1, 1, 0, 1, 0, 0, 1, 1, 0, 1, 0, 1, 0, 0, 1, 1,\n",
       "       0, 1, 1, 1, 1, 0, 1, 1, 0, 0, 1, 1, 1, 1, 1, 1, 0, 1, 1, 1, 1, 1,\n",
       "       0, 1, 1, 1, 1, 1, 0, 0, 1, 1, 1, 0, 0, 0, 0, 1, 0, 1, 1, 1, 1, 1,\n",
       "       0, 1, 1, 1, 1, 1, 1, 0, 0, 0, 1, 1, 1, 1, 1, 1, 1, 0, 0, 1, 1, 1,\n",
       "       0, 0, 0, 0, 1, 1, 0, 0, 1, 1, 1, 1, 1, 1, 1, 1, 1, 1, 0, 1, 1, 1,\n",
       "       0, 1, 0, 0, 0, 0, 0, 1, 1, 0, 1, 1, 1, 1, 1, 1, 1, 1, 1, 1, 1, 0,\n",
       "       1, 0, 1, 1, 1, 1, 1, 1, 1, 0, 1, 1, 1, 0, 1, 1, 1, 0, 1, 1, 0, 1,\n",
       "       1, 0, 1, 0, 1, 1, 0, 1, 1, 1, 0, 1, 0, 1, 1, 1, 0, 0, 1, 0, 1, 0,\n",
       "       1, 1, 1, 1, 0, 0, 1, 1, 0, 1, 0, 1, 1, 1, 1, 1, 1, 1, 0, 1, 0, 1,\n",
       "       1, 0, 1, 0, 1, 0, 1, 0, 1, 1, 1, 1, 1, 1, 1, 1, 1, 1, 1, 1, 0, 1,\n",
       "       1, 0, 0, 0, 0, 1, 1, 1, 1, 1, 1, 0, 1, 0, 1, 0, 1, 1, 1, 1, 1, 1,\n",
       "       1, 0, 1, 1, 0, 1, 1, 0, 0, 1, 1, 0, 1, 1, 1, 0, 1, 0, 1, 1, 1, 0,\n",
       "       1, 1, 1, 0, 1, 1, 1, 1, 0, 1, 1, 1, 1, 1, 1, 0, 1, 0, 1, 1, 1, 0,\n",
       "       0, 0, 0, 0, 0, 0, 1, 1, 1, 0, 1, 1, 1, 0, 0, 0, 1, 0, 0, 1, 1, 0,\n",
       "       1, 1, 1, 1, 1, 0, 0, 1, 1, 1, 1, 1, 0, 0, 1, 1, 1, 0, 1, 1, 1, 1,\n",
       "       1, 1, 0, 0, 1, 1, 1, 1, 1, 0, 1, 1, 1, 0, 1, 1, 1, 1, 1, 1])"
      ]
     },
     "execution_count": 149,
     "metadata": {
      "tags": []
     },
     "output_type": "execute_result"
    }
   ],
   "source": [
    "predictions_DC_test"
   ]
  },
  {
   "cell_type": "code",
   "execution_count": 0,
   "metadata": {
    "colab": {
     "base_uri": "https://localhost:8080/",
     "height": 168
    },
    "colab_type": "code",
    "id": "Y_HeoLCQ8vOd",
    "outputId": "63601521-361a-4efa-9f67-288a0c930104"
   },
   "outputs": [
    {
     "name": "stdout",
     "output_type": "stream",
     "text": [
      "              precision    recall  f1-score   support\n",
      "\n",
      "           0       1.00      1.00      1.00       747\n",
      "           1       1.00      1.00      1.00      1821\n",
      "\n",
      "    accuracy                           1.00      2568\n",
      "   macro avg       1.00      1.00      1.00      2568\n",
      "weighted avg       1.00      1.00      1.00      2568\n",
      "\n"
     ]
    }
   ],
   "source": [
    "from sklearn.metrics import classification_report\n",
    "print(classification_report(y_true=y_train, y_pred=predictions_DC_train))"
   ]
  },
  {
   "cell_type": "code",
   "execution_count": 0,
   "metadata": {
    "colab": {},
    "colab_type": "code",
    "id": "d_wKOY8k8vEm"
   },
   "outputs": [],
   "source": [
    "# Final_PredResultsDC = pd.DataFrame()\n",
    "# sub_file = pd.read_csv('/content/driver/My Drive/phd_data/sample_submission-1570843559242.csv')\n",
    "# Final_PredResultsDC['id'] = sub_file['id']\n",
    "# Final_PredResultsDC['long_term_outlook'] = predictions_DC_test\n",
    "# Final_PredResultsDC[['id','long_term_outlook']].to_csv('DC_Submission.csv',index=False)"
   ]
  },
  {
   "cell_type": "code",
   "execution_count": 0,
   "metadata": {
    "colab": {},
    "colab_type": "code",
    "id": "hFrrocJY8vBt"
   },
   "outputs": [],
   "source": [
    "dict_data = pd.read_csv('/content/driver/My Drive/phd_data/finance_word_dictionary-1570171303593.csv')"
   ]
  },
  {
   "cell_type": "code",
   "execution_count": 152,
   "metadata": {
    "colab": {
     "base_uri": "https://localhost:8080/",
     "height": 316
    },
    "colab_type": "code",
    "id": "56VS3ccs_mL8",
    "outputId": "491a58ad-6036-4cfc-87d7-b76ff7f539e5"
   },
   "outputs": [
    {
     "data": {
      "text/html": [
       "<div>\n",
       "<style scoped>\n",
       "    .dataframe tbody tr th:only-of-type {\n",
       "        vertical-align: middle;\n",
       "    }\n",
       "\n",
       "    .dataframe tbody tr th {\n",
       "        vertical-align: top;\n",
       "    }\n",
       "\n",
       "    .dataframe thead th {\n",
       "        text-align: right;\n",
       "    }\n",
       "</style>\n",
       "<table border=\"1\" class=\"dataframe\">\n",
       "  <thead>\n",
       "    <tr style=\"text-align: right;\">\n",
       "      <th></th>\n",
       "      <th>Word</th>\n",
       "      <th>Sequence Number</th>\n",
       "      <th>Word Count</th>\n",
       "      <th>Word Proportion</th>\n",
       "      <th>Average Proportion</th>\n",
       "      <th>Std Dev</th>\n",
       "      <th>Doc Count</th>\n",
       "      <th>Negative</th>\n",
       "      <th>Positive</th>\n",
       "      <th>Uncertainty</th>\n",
       "      <th>Litigious</th>\n",
       "      <th>Constraining</th>\n",
       "      <th>Superfluous</th>\n",
       "      <th>Interesting</th>\n",
       "      <th>Modal</th>\n",
       "      <th>Irr_Verb</th>\n",
       "      <th>Harvard_IV</th>\n",
       "      <th>Syllables</th>\n",
       "      <th>Source</th>\n",
       "    </tr>\n",
       "  </thead>\n",
       "  <tbody>\n",
       "    <tr>\n",
       "      <th>0</th>\n",
       "      <td>AARDVARK</td>\n",
       "      <td>1</td>\n",
       "      <td>275</td>\n",
       "      <td>1.603442e-08</td>\n",
       "      <td>1.306189e-08</td>\n",
       "      <td>3.665256e-06</td>\n",
       "      <td>82</td>\n",
       "      <td>0</td>\n",
       "      <td>0</td>\n",
       "      <td>0</td>\n",
       "      <td>0</td>\n",
       "      <td>0</td>\n",
       "      <td>0</td>\n",
       "      <td>0</td>\n",
       "      <td>0</td>\n",
       "      <td>0</td>\n",
       "      <td>0</td>\n",
       "      <td>2</td>\n",
       "      <td>12of12inf</td>\n",
       "    </tr>\n",
       "    <tr>\n",
       "      <th>1</th>\n",
       "      <td>AARDVARKS</td>\n",
       "      <td>2</td>\n",
       "      <td>3</td>\n",
       "      <td>1.749209e-10</td>\n",
       "      <td>1.028197e-11</td>\n",
       "      <td>1.014208e-08</td>\n",
       "      <td>1</td>\n",
       "      <td>0</td>\n",
       "      <td>0</td>\n",
       "      <td>0</td>\n",
       "      <td>0</td>\n",
       "      <td>0</td>\n",
       "      <td>0</td>\n",
       "      <td>0</td>\n",
       "      <td>0</td>\n",
       "      <td>0</td>\n",
       "      <td>0</td>\n",
       "      <td>2</td>\n",
       "      <td>12of12inf</td>\n",
       "    </tr>\n",
       "    <tr>\n",
       "      <th>2</th>\n",
       "      <td>ABACI</td>\n",
       "      <td>3</td>\n",
       "      <td>8</td>\n",
       "      <td>4.664558e-10</td>\n",
       "      <td>1.465871e-10</td>\n",
       "      <td>6.401309e-08</td>\n",
       "      <td>7</td>\n",
       "      <td>0</td>\n",
       "      <td>0</td>\n",
       "      <td>0</td>\n",
       "      <td>0</td>\n",
       "      <td>0</td>\n",
       "      <td>0</td>\n",
       "      <td>0</td>\n",
       "      <td>0</td>\n",
       "      <td>0</td>\n",
       "      <td>0</td>\n",
       "      <td>3</td>\n",
       "      <td>12of12inf</td>\n",
       "    </tr>\n",
       "    <tr>\n",
       "      <th>3</th>\n",
       "      <td>ABACK</td>\n",
       "      <td>4</td>\n",
       "      <td>6</td>\n",
       "      <td>3.498419e-10</td>\n",
       "      <td>1.758203e-10</td>\n",
       "      <td>7.213526e-08</td>\n",
       "      <td>6</td>\n",
       "      <td>0</td>\n",
       "      <td>0</td>\n",
       "      <td>0</td>\n",
       "      <td>0</td>\n",
       "      <td>0</td>\n",
       "      <td>0</td>\n",
       "      <td>0</td>\n",
       "      <td>0</td>\n",
       "      <td>0</td>\n",
       "      <td>0</td>\n",
       "      <td>2</td>\n",
       "      <td>12of12inf</td>\n",
       "    </tr>\n",
       "    <tr>\n",
       "      <th>4</th>\n",
       "      <td>ABACUS</td>\n",
       "      <td>5</td>\n",
       "      <td>6729</td>\n",
       "      <td>3.923477e-07</td>\n",
       "      <td>3.752169e-07</td>\n",
       "      <td>3.452425e-05</td>\n",
       "      <td>845</td>\n",
       "      <td>0</td>\n",
       "      <td>0</td>\n",
       "      <td>0</td>\n",
       "      <td>0</td>\n",
       "      <td>0</td>\n",
       "      <td>0</td>\n",
       "      <td>0</td>\n",
       "      <td>0</td>\n",
       "      <td>0</td>\n",
       "      <td>0</td>\n",
       "      <td>3</td>\n",
       "      <td>12of12inf</td>\n",
       "    </tr>\n",
       "  </tbody>\n",
       "</table>\n",
       "</div>"
      ],
      "text/plain": [
       "        Word  Sequence Number  Word Count  ...  Harvard_IV  Syllables     Source\n",
       "0   AARDVARK                1         275  ...           0          2  12of12inf\n",
       "1  AARDVARKS                2           3  ...           0          2  12of12inf\n",
       "2      ABACI                3           8  ...           0          3  12of12inf\n",
       "3      ABACK                4           6  ...           0          2  12of12inf\n",
       "4     ABACUS                5        6729  ...           0          3  12of12inf\n",
       "\n",
       "[5 rows x 19 columns]"
      ]
     },
     "execution_count": 152,
     "metadata": {
      "tags": []
     },
     "output_type": "execute_result"
    }
   ],
   "source": [
    "dict_data.head()"
   ]
  },
  {
   "cell_type": "code",
   "execution_count": 153,
   "metadata": {
    "colab": {
     "base_uri": "https://localhost:8080/",
     "height": 34
    },
    "colab_type": "code",
    "id": "ZCTyo31p8qOt",
    "outputId": "c8fe3b1b-a998-431f-db97-2f38250b35dc"
   },
   "outputs": [
    {
     "data": {
      "text/plain": [
       "(85221, 19)"
      ]
     },
     "execution_count": 153,
     "metadata": {
      "tags": []
     },
     "output_type": "execute_result"
    }
   ],
   "source": [
    "dict_data.shape"
   ]
  },
  {
   "cell_type": "code",
   "execution_count": 154,
   "metadata": {
    "colab": {
     "base_uri": "https://localhost:8080/",
     "height": 353
    },
    "colab_type": "code",
    "id": "FtgdZ9dD_3WM",
    "outputId": "4a02a880-a536-4834-fa0d-d0a15694ec36"
   },
   "outputs": [
    {
     "data": {
      "text/plain": [
       "Word                   object\n",
       "Sequence Number         int64\n",
       "Word Count              int64\n",
       "Word Proportion       float64\n",
       "Average Proportion    float64\n",
       "Std Dev               float64\n",
       "Doc Count               int64\n",
       "Negative                int64\n",
       "Positive                int64\n",
       "Uncertainty             int64\n",
       "Litigious               int64\n",
       "Constraining            int64\n",
       "Superfluous             int64\n",
       "Interesting             int64\n",
       "Modal                   int64\n",
       "Irr_Verb                int64\n",
       "Harvard_IV              int64\n",
       "Syllables               int64\n",
       "Source                 object\n",
       "dtype: object"
      ]
     },
     "execution_count": 154,
     "metadata": {
      "tags": []
     },
     "output_type": "execute_result"
    }
   ],
   "source": [
    "dict_data.dtypes"
   ]
  },
  {
   "cell_type": "code",
   "execution_count": 155,
   "metadata": {
    "colab": {
     "base_uri": "https://localhost:8080/",
     "height": 67
    },
    "colab_type": "code",
    "id": "ihxQlWL7AAnP",
    "outputId": "5b9e5021-128e-44ff-dc59-df7ccea6fb1d"
   },
   "outputs": [
    {
     "data": {
      "text/plain": [
       "0    82866\n",
       "1     2355\n",
       "Name: Negative, dtype: int64"
      ]
     },
     "execution_count": 155,
     "metadata": {
      "tags": []
     },
     "output_type": "execute_result"
    }
   ],
   "source": [
    "dict_data['Negative'].value_counts()"
   ]
  },
  {
   "cell_type": "code",
   "execution_count": 156,
   "metadata": {
    "colab": {
     "base_uri": "https://localhost:8080/",
     "height": 67
    },
    "colab_type": "code",
    "id": "0YrG5j_-IpZl",
    "outputId": "f070fa5e-daf7-4170-8c5a-2630a44b5c39"
   },
   "outputs": [
    {
     "data": {
      "text/plain": [
       "0    84867\n",
       "1      354\n",
       "Name: Positive, dtype: int64"
      ]
     },
     "execution_count": 156,
     "metadata": {
      "tags": []
     },
     "output_type": "execute_result"
    }
   ],
   "source": [
    "dict_data['Positive'].value_counts()"
   ]
  },
  {
   "cell_type": "code",
   "execution_count": 157,
   "metadata": {
    "colab": {
     "base_uri": "https://localhost:8080/",
     "height": 50
    },
    "colab_type": "code",
    "id": "sTXsxsBmQsHh",
    "outputId": "30ef684c-5711-45aa-c62e-bd3676f033c5"
   },
   "outputs": [
    {
     "data": {
      "text/plain": [
       "array(['ABANDON', 'ABANDONED', 'ABANDONING', ..., 'WRONGFUL',\n",
       "       'WRONGFULLY', 'WRONGLY'], dtype=object)"
      ]
     },
     "execution_count": 157,
     "metadata": {
      "tags": []
     },
     "output_type": "execute_result"
    }
   ],
   "source": [
    "Negative_Words = []\n",
    "Negative_Words = dict_data.loc[dict_data['Negative'] == 1, 'Word']\n",
    "Negative_Words.values"
   ]
  },
  {
   "cell_type": "code",
   "execution_count": 158,
   "metadata": {
    "colab": {
     "base_uri": "https://localhost:8080/",
     "height": 1000
    },
    "colab_type": "code",
    "id": "fw0MT-ZqT7n_",
    "outputId": "f06fbf2e-765f-451f-9909-7dcd8cfeaa40"
   },
   "outputs": [
    {
     "data": {
      "text/plain": [
       "array(['ABLE', 'ABUNDANCE', 'ABUNDANT', 'ACCLAIMED', 'ACCOMPLISH',\n",
       "       'ACCOMPLISHED', 'ACCOMPLISHES', 'ACCOMPLISHING', 'ACCOMPLISHMENT',\n",
       "       'ACCOMPLISHMENTS', 'ACHIEVE', 'ACHIEVED', 'ACHIEVEMENT',\n",
       "       'ACHIEVEMENTS', 'ACHIEVES', 'ACHIEVING', 'ADEQUATELY',\n",
       "       'ADVANCEMENT', 'ADVANCEMENTS', 'ADVANCES', 'ADVANCING',\n",
       "       'ADVANTAGE', 'ADVANTAGED', 'ADVANTAGEOUS', 'ADVANTAGEOUSLY',\n",
       "       'ADVANTAGES', 'ALLIANCE', 'ALLIANCES', 'ASSURE', 'ASSURED',\n",
       "       'ASSURES', 'ASSURING', 'ATTAIN', 'ATTAINED', 'ATTAINING',\n",
       "       'ATTAINMENT', 'ATTAINMENTS', 'ATTAINS', 'ATTRACTIVE',\n",
       "       'ATTRACTIVENESS', 'BEAUTIFUL', 'BEAUTIFULLY', 'BENEFICIAL',\n",
       "       'BENEFICIALLY', 'BENEFIT', 'BENEFITED', 'BENEFITING', 'BENEFITTED',\n",
       "       'BENEFITTING', 'BEST', 'BETTER', 'BOLSTERED', 'BOLSTERING',\n",
       "       'BOLSTERS', 'BOOM', 'BOOMING', 'BOOST', 'BOOSTED', 'BREAKTHROUGH',\n",
       "       'BREAKTHROUGHS', 'BRILLIANT', 'CHARITABLE', 'COLLABORATE',\n",
       "       'COLLABORATED', 'COLLABORATES', 'COLLABORATING', 'COLLABORATION',\n",
       "       'COLLABORATIONS', 'COLLABORATIVE', 'COLLABORATOR', 'COLLABORATORS',\n",
       "       'COMPLIMENT', 'COMPLIMENTARY', 'COMPLIMENTED', 'COMPLIMENTING',\n",
       "       'COMPLIMENTS', 'CONCLUSIVE', 'CONCLUSIVELY', 'CONDUCIVE',\n",
       "       'CONFIDENT', 'CONSTRUCTIVE', 'CONSTRUCTIVELY', 'COURTEOUS',\n",
       "       'CREATIVE', 'CREATIVELY', 'CREATIVENESS', 'CREATIVITY', 'DELIGHT',\n",
       "       'DELIGHTED', 'DELIGHTFUL', 'DELIGHTFULLY', 'DELIGHTING',\n",
       "       'DELIGHTS', 'DEPENDABILITY', 'DEPENDABLE', 'DESIRABLE', 'DESIRED',\n",
       "       'DESPITE', 'DESTINED', 'DILIGENT', 'DILIGENTLY', 'DISTINCTION',\n",
       "       'DISTINCTIONS', 'DISTINCTIVE', 'DISTINCTIVELY', 'DISTINCTIVENESS',\n",
       "       'DREAM', 'EASIER', 'EASILY', 'EASY', 'EFFECTIVE', 'EFFICIENCIES',\n",
       "       'EFFICIENCY', 'EFFICIENT', 'EFFICIENTLY', 'EMPOWER', 'EMPOWERED',\n",
       "       'EMPOWERING', 'EMPOWERS', 'ENABLE', 'ENABLED', 'ENABLES',\n",
       "       'ENABLING', 'ENCOURAGED', 'ENCOURAGEMENT', 'ENCOURAGES',\n",
       "       'ENCOURAGING', 'ENHANCE', 'ENHANCED', 'ENHANCEMENT',\n",
       "       'ENHANCEMENTS', 'ENHANCES', 'ENHANCING', 'ENJOY', 'ENJOYABLE',\n",
       "       'ENJOYABLY', 'ENJOYED', 'ENJOYING', 'ENJOYMENT', 'ENJOYS',\n",
       "       'ENTHUSIASM', 'ENTHUSIASTIC', 'ENTHUSIASTICALLY', 'EXCELLENCE',\n",
       "       'EXCELLENT', 'EXCELLING', 'EXCELS', 'EXCEPTIONAL', 'EXCEPTIONALLY',\n",
       "       'EXCITED', 'EXCITEMENT', 'EXCITING', 'EXCLUSIVE', 'EXCLUSIVELY',\n",
       "       'EXCLUSIVENESS', 'EXCLUSIVES', 'EXCLUSIVITY', 'EXEMPLARY',\n",
       "       'FANTASTIC', 'FAVORABLE', 'FAVORABLY', 'FAVORED', 'FAVORING',\n",
       "       'FAVORITE', 'FAVORITES', 'FRIENDLY', 'GAIN', 'GAINED', 'GAINING',\n",
       "       'GAINS', 'GOOD', 'GREAT', 'GREATER', 'GREATEST', 'GREATLY',\n",
       "       'GREATNESS', 'HAPPIEST', 'HAPPILY', 'HAPPINESS', 'HAPPY',\n",
       "       'HIGHEST', 'HONOR', 'HONORABLE', 'HONORED', 'HONORING', 'HONORS',\n",
       "       'IDEAL', 'IMPRESS', 'IMPRESSED', 'IMPRESSES', 'IMPRESSING',\n",
       "       'IMPRESSIVE', 'IMPRESSIVELY', 'IMPROVE', 'IMPROVED', 'IMPROVEMENT',\n",
       "       'IMPROVEMENTS', 'IMPROVES', 'IMPROVING', 'INCREDIBLE',\n",
       "       'INCREDIBLY', 'INFLUENTIAL', 'INFORMATIVE', 'INGENUITY',\n",
       "       'INNOVATE', 'INNOVATED', 'INNOVATES', 'INNOVATING', 'INNOVATION',\n",
       "       'INNOVATIONS', 'INNOVATIVE', 'INNOVATIVENESS', 'INNOVATOR',\n",
       "       'INNOVATORS', 'INSIGHTFUL', 'INSPIRATION', 'INSPIRATIONAL',\n",
       "       'INTEGRITY', 'INVENT', 'INVENTED', 'INVENTING', 'INVENTION',\n",
       "       'INVENTIONS', 'INVENTIVE', 'INVENTIVENESS', 'INVENTOR',\n",
       "       'INVENTORS', 'LEADERSHIP', 'LEADING', 'LOYAL', 'LUCRATIVE',\n",
       "       'MERITORIOUS', 'OPPORTUNITIES', 'OPPORTUNITY', 'OPTIMISTIC',\n",
       "       'OUTPERFORM', 'OUTPERFORMED', 'OUTPERFORMING', 'OUTPERFORMS',\n",
       "       'PERFECT', 'PERFECTED', 'PERFECTLY', 'PERFECTS', 'PLEASANT',\n",
       "       'PLEASANTLY', 'PLEASED', 'PLEASURE', 'PLENTIFUL', 'POPULAR',\n",
       "       'POPULARITY', 'POSITIVE', 'POSITIVELY', 'PREEMINENCE',\n",
       "       'PREEMINENT', 'PREMIER', 'PREMIERE', 'PRESTIGE', 'PRESTIGIOUS',\n",
       "       'PROACTIVE', 'PROACTIVELY', 'PROFICIENCY', 'PROFICIENT',\n",
       "       'PROFICIENTLY', 'PROFITABILITY', 'PROFITABLE', 'PROFITABLY',\n",
       "       'PROGRESS', 'PROGRESSED', 'PROGRESSES', 'PROGRESSING', 'PROSPERED',\n",
       "       'PROSPERING', 'PROSPERITY', 'PROSPEROUS', 'PROSPERS', 'REBOUND',\n",
       "       'REBOUNDED', 'REBOUNDING', 'RECEPTIVE', 'REGAIN', 'REGAINED',\n",
       "       'REGAINING', 'RESOLVE', 'REVOLUTIONIZE', 'REVOLUTIONIZED',\n",
       "       'REVOLUTIONIZES', 'REVOLUTIONIZING', 'REWARD', 'REWARDED',\n",
       "       'REWARDING', 'REWARDS', 'SATISFACTION', 'SATISFACTORILY',\n",
       "       'SATISFACTORY', 'SATISFIED', 'SATISFIES', 'SATISFY', 'SATISFYING',\n",
       "       'SMOOTH', 'SMOOTHING', 'SMOOTHLY', 'SMOOTHS', 'SOLVES', 'SOLVING',\n",
       "       'SPECTACULAR', 'SPECTACULARLY', 'STABILITY', 'STABILIZATION',\n",
       "       'STABILIZATIONS', 'STABILIZE', 'STABILIZED', 'STABILIZES',\n",
       "       'STABILIZING', 'STABLE', 'STRENGTH', 'STRENGTHEN', 'STRENGTHENED',\n",
       "       'STRENGTHENING', 'STRENGTHENS', 'STRENGTHS', 'STRONG', 'STRONGER',\n",
       "       'STRONGEST', 'SUCCEED', 'SUCCEEDED', 'SUCCEEDING', 'SUCCEEDS',\n",
       "       'SUCCESS', 'SUCCESSES', 'SUCCESSFUL', 'SUCCESSFULLY', 'SUPERIOR',\n",
       "       'SURPASS', 'SURPASSED', 'SURPASSES', 'SURPASSING', 'TRANSPARENCY',\n",
       "       'TREMENDOUS', 'TREMENDOUSLY', 'UNMATCHED', 'UNPARALLELED',\n",
       "       'UNSURPASSED', 'UPTURN', 'UPTURNS', 'VALUABLE', 'VERSATILE',\n",
       "       'VERSATILITY', 'VIBRANCY', 'VIBRANT', 'WIN', 'WINNER', 'WINNERS',\n",
       "       'WINNING', 'WORTHY'], dtype=object)"
      ]
     },
     "execution_count": 158,
     "metadata": {
      "tags": []
     },
     "output_type": "execute_result"
    }
   ],
   "source": [
    "Postive_Words = []\n",
    "Postive_Words = dict_data.loc[dict_data['Positive'] == 1, 'Word']\n",
    "Postive_Words.values"
   ]
  },
  {
   "cell_type": "code",
   "execution_count": 159,
   "metadata": {
    "colab": {
     "base_uri": "https://localhost:8080/",
     "height": 34
    },
    "colab_type": "code",
    "id": "e0XW5x5JQsaj",
    "outputId": "a2d7a6dc-b1bf-45be-bfb4-88fc8e42289d"
   },
   "outputs": [
    {
     "data": {
      "text/plain": [
       "2355"
      ]
     },
     "execution_count": 159,
     "metadata": {
      "tags": []
     },
     "output_type": "execute_result"
    }
   ],
   "source": [
    "len(Negative_Words)"
   ]
  },
  {
   "cell_type": "code",
   "execution_count": 160,
   "metadata": {
    "colab": {
     "base_uri": "https://localhost:8080/",
     "height": 34
    },
    "colab_type": "code",
    "id": "iUY-yy0BJFeu",
    "outputId": "0e48029c-eea6-4b60-98f2-721af3959bd6"
   },
   "outputs": [
    {
     "data": {
      "text/plain": [
       "354"
      ]
     },
     "execution_count": 160,
     "metadata": {
      "tags": []
     },
     "output_type": "execute_result"
    }
   ],
   "source": [
    "len(Postive_Words)"
   ]
  },
  {
   "cell_type": "code",
   "execution_count": 161,
   "metadata": {
    "colab": {
     "base_uri": "https://localhost:8080/",
     "height": 195
    },
    "colab_type": "code",
    "id": "jzgVjts0UT4q",
    "outputId": "50cb83d4-ffc7-40f0-dfb7-92a103bc3806"
   },
   "outputs": [
    {
     "data": {
      "text/html": [
       "<div>\n",
       "<style scoped>\n",
       "    .dataframe tbody tr th:only-of-type {\n",
       "        vertical-align: middle;\n",
       "    }\n",
       "\n",
       "    .dataframe tbody tr th {\n",
       "        vertical-align: top;\n",
       "    }\n",
       "\n",
       "    .dataframe thead th {\n",
       "        text-align: right;\n",
       "    }\n",
       "</style>\n",
       "<table border=\"1\" class=\"dataframe\">\n",
       "  <thead>\n",
       "    <tr style=\"text-align: right;\">\n",
       "      <th></th>\n",
       "      <th>id</th>\n",
       "      <th>filing_year</th>\n",
       "      <th>tokenized_sents</th>\n",
       "    </tr>\n",
       "  </thead>\n",
       "  <tbody>\n",
       "    <tr>\n",
       "      <th>0</th>\n",
       "      <td>0</td>\n",
       "      <td>2012</td>\n",
       "      <td>['form', 'united', 'states', 'securities', 'ex...</td>\n",
       "    </tr>\n",
       "    <tr>\n",
       "      <th>1</th>\n",
       "      <td>1</td>\n",
       "      <td>1999</td>\n",
       "      <td>['united', 'states', 'securities', 'exchange',...</td>\n",
       "    </tr>\n",
       "    <tr>\n",
       "      <th>2</th>\n",
       "      <td>2</td>\n",
       "      <td>2001</td>\n",
       "      <td>['range', 'resources', 'corporation', 'form', ...</td>\n",
       "    </tr>\n",
       "    <tr>\n",
       "      <th>3</th>\n",
       "      <td>3</td>\n",
       "      <td>2009</td>\n",
       "      <td>['united', 'states', 'securities', 'exchange',...</td>\n",
       "    </tr>\n",
       "    <tr>\n",
       "      <th>4</th>\n",
       "      <td>4</td>\n",
       "      <td>2004</td>\n",
       "      <td>['united', 'states', 'securities', 'exchange',...</td>\n",
       "    </tr>\n",
       "  </tbody>\n",
       "</table>\n",
       "</div>"
      ],
      "text/plain": [
       "   id  filing_year                                    tokenized_sents\n",
       "0   0         2012  ['form', 'united', 'states', 'securities', 'ex...\n",
       "1   1         1999  ['united', 'states', 'securities', 'exchange',...\n",
       "2   2         2001  ['range', 'resources', 'corporation', 'form', ...\n",
       "3   3         2009  ['united', 'states', 'securities', 'exchange',...\n",
       "4   4         2004  ['united', 'states', 'securities', 'exchange',..."
      ]
     },
     "execution_count": 161,
     "metadata": {
      "tags": []
     },
     "output_type": "execute_result"
    }
   ],
   "source": [
    "data_test.head()"
   ]
  },
  {
   "cell_type": "code",
   "execution_count": 0,
   "metadata": {
    "colab": {},
    "colab_type": "code",
    "id": "b3Sc2nTv3KSc"
   },
   "outputs": [],
   "source": [
    "list1 = data_test['tokenized_sents']"
   ]
  },
  {
   "cell_type": "code",
   "execution_count": 0,
   "metadata": {
    "colab": {},
    "colab_type": "code",
    "id": "Gc6wYM_g6Kp6"
   },
   "outputs": [],
   "source": [
    "import ast                           #to convert pandas series into list inside list"
   ]
  },
  {
   "cell_type": "code",
   "execution_count": 0,
   "metadata": {
    "colab": {},
    "colab_type": "code",
    "id": "qf78bH3G9iy9"
   },
   "outputs": [],
   "source": [
    "data_test['tokenized_sents_new'] = [ast.literal_eval(x) for x in list1]  # method successfully evaluates the string, and gets the Python dictionary object."
   ]
  },
  {
   "cell_type": "code",
   "execution_count": 165,
   "metadata": {
    "colab": {
     "base_uri": "https://localhost:8080/",
     "height": 34
    },
    "colab_type": "code",
    "id": "MUnpwHU97I8x",
    "outputId": "30a0f871-623a-4aa0-d33c-a258b4e579c9"
   },
   "outputs": [
    {
     "data": {
      "text/plain": [
       "24310"
      ]
     },
     "execution_count": 165,
     "metadata": {
      "tags": []
     },
     "output_type": "execute_result"
    }
   ],
   "source": [
    "ll = data_test['tokenized_sents_new'][0]\n",
    "len(ll)"
   ]
  },
  {
   "cell_type": "code",
   "execution_count": 166,
   "metadata": {
    "colab": {
     "base_uri": "https://localhost:8080/",
     "height": 50
    },
    "colab_type": "code",
    "id": "5d2Sn4wxECAS",
    "outputId": "9538ad98-6ef8-4245-9d2d-978940ecd7a3"
   },
   "outputs": [
    {
     "name": "stdout",
     "output_type": "stream",
     "text": [
      "the unique values from 1st list is:\n",
      "3097\n"
     ]
    }
   ],
   "source": [
    "def unique(ll):\n",
    "  x = np.array(ll) \n",
    "  print(len(np.unique(x)))\n",
    "      \n",
    "  \n",
    "# driver code \n",
    "print(\"the unique values from 1st list is:\") \n",
    "unique(ll)"
   ]
  },
  {
   "cell_type": "code",
   "execution_count": 0,
   "metadata": {
    "colab": {},
    "colab_type": "code",
    "id": "ToEXmUfXf4eQ"
   },
   "outputs": [],
   "source": [
    "list2 = data_test['tokenized_sents_new']"
   ]
  },
  {
   "cell_type": "code",
   "execution_count": 0,
   "metadata": {
    "colab": {},
    "colab_type": "code",
    "id": "ss_oHZaAWL_J"
   },
   "outputs": [],
   "source": [
    "lower_neg=[x.lower() for x in (Negative_Words.values)]\n",
    "lower_pos=[x.lower() for x in (Postive_Words.values)]"
   ]
  },
  {
   "cell_type": "code",
   "execution_count": 170,
   "metadata": {
    "colab": {
     "base_uri": "https://localhost:8080/",
     "height": 34
    },
    "colab_type": "code",
    "id": "Qjy9UIscw8Hy",
    "outputId": "814aced2-25a1-4bd2-e239-c988db74e108"
   },
   "outputs": [
    {
     "data": {
      "text/plain": [
       "2355"
      ]
     },
     "execution_count": 170,
     "metadata": {
      "tags": []
     },
     "output_type": "execute_result"
    }
   ],
   "source": [
    "list3 = lower_neg\n",
    "len(list3)"
   ]
  },
  {
   "cell_type": "code",
   "execution_count": 171,
   "metadata": {
    "colab": {
     "base_uri": "https://localhost:8080/",
     "height": 34
    },
    "colab_type": "code",
    "id": "jE5BzS4J2VFr",
    "outputId": "f59c0efb-8c52-44b2-dd26-0068f67e152e"
   },
   "outputs": [
    {
     "data": {
      "text/plain": [
       "354"
      ]
     },
     "execution_count": 171,
     "metadata": {
      "tags": []
     },
     "output_type": "execute_result"
    }
   ],
   "source": [
    "list4 = lower_pos\n",
    "len(list4)"
   ]
  },
  {
   "cell_type": "code",
   "execution_count": 0,
   "metadata": {
    "colab": {},
    "colab_type": "code",
    "id": "F1Ve5y2S4ghu"
   },
   "outputs": [],
   "source": [
    "def intersection(list3, list2): \n",
    "    list4 = [list(filter(lambda x: x in list3, list(set(sublist)))) for sublist in list2]\n",
    "    return list4\n",
    "\n",
    "# Driver Code \n",
    "list5 = intersection(list3, list2)"
   ]
  },
  {
   "cell_type": "code",
   "execution_count": 0,
   "metadata": {
    "colab": {},
    "colab_type": "code",
    "id": "8j6IdCZh5SGz"
   },
   "outputs": [],
   "source": [
    "def intersection(list4, list2): \n",
    "    list5 = [list(filter(lambda x: x in list4, list(set(sublist)))) for sublist in list2]\n",
    "    return list5\n",
    "\n",
    "# Driver Code \n",
    "list6 = intersection(list4, list2) "
   ]
  },
  {
   "cell_type": "code",
   "execution_count": 0,
   "metadata": {
    "colab": {},
    "colab_type": "code",
    "id": "mQj7Gv2_r-2L"
   },
   "outputs": [],
   "source": [
    "data_test['Negative_Count'] = [len(x) for x in list5]\n",
    "data_test['Positive_Count'] = [len(x) for x in list6]"
   ]
  },
  {
   "cell_type": "code",
   "execution_count": 175,
   "metadata": {
    "colab": {
     "base_uri": "https://localhost:8080/",
     "height": 195
    },
    "colab_type": "code",
    "id": "gmto8ZdtoTrz",
    "outputId": "ebb2af24-72a1-4c59-ade0-52176b166dd4"
   },
   "outputs": [
    {
     "data": {
      "text/html": [
       "<div>\n",
       "<style scoped>\n",
       "    .dataframe tbody tr th:only-of-type {\n",
       "        vertical-align: middle;\n",
       "    }\n",
       "\n",
       "    .dataframe tbody tr th {\n",
       "        vertical-align: top;\n",
       "    }\n",
       "\n",
       "    .dataframe thead th {\n",
       "        text-align: right;\n",
       "    }\n",
       "</style>\n",
       "<table border=\"1\" class=\"dataframe\">\n",
       "  <thead>\n",
       "    <tr style=\"text-align: right;\">\n",
       "      <th></th>\n",
       "      <th>id</th>\n",
       "      <th>filing_year</th>\n",
       "      <th>tokenized_sents</th>\n",
       "      <th>tokenized_sents_new</th>\n",
       "      <th>Negative_Count</th>\n",
       "      <th>Positive_Count</th>\n",
       "    </tr>\n",
       "  </thead>\n",
       "  <tbody>\n",
       "    <tr>\n",
       "      <th>0</th>\n",
       "      <td>0</td>\n",
       "      <td>2012</td>\n",
       "      <td>['form', 'united', 'states', 'securities', 'ex...</td>\n",
       "      <td>[form, united, states, securities, exchange, c...</td>\n",
       "      <td>126</td>\n",
       "      <td>76</td>\n",
       "    </tr>\n",
       "    <tr>\n",
       "      <th>1</th>\n",
       "      <td>1</td>\n",
       "      <td>1999</td>\n",
       "      <td>['united', 'states', 'securities', 'exchange',...</td>\n",
       "      <td>[united, states, securities, exchange, commiss...</td>\n",
       "      <td>87</td>\n",
       "      <td>37</td>\n",
       "    </tr>\n",
       "    <tr>\n",
       "      <th>2</th>\n",
       "      <td>2</td>\n",
       "      <td>2001</td>\n",
       "      <td>['range', 'resources', 'corporation', 'form', ...</td>\n",
       "      <td>[range, resources, corporation, form, pagebrea...</td>\n",
       "      <td>138</td>\n",
       "      <td>39</td>\n",
       "    </tr>\n",
       "    <tr>\n",
       "      <th>3</th>\n",
       "      <td>3</td>\n",
       "      <td>2009</td>\n",
       "      <td>['united', 'states', 'securities', 'exchange',...</td>\n",
       "      <td>[united, states, securities, exchange, commiss...</td>\n",
       "      <td>165</td>\n",
       "      <td>67</td>\n",
       "    </tr>\n",
       "    <tr>\n",
       "      <th>4</th>\n",
       "      <td>4</td>\n",
       "      <td>2004</td>\n",
       "      <td>['united', 'states', 'securities', 'exchange',...</td>\n",
       "      <td>[united, states, securities, exchange, commiss...</td>\n",
       "      <td>77</td>\n",
       "      <td>38</td>\n",
       "    </tr>\n",
       "  </tbody>\n",
       "</table>\n",
       "</div>"
      ],
      "text/plain": [
       "   id  filing_year  ... Negative_Count Positive_Count\n",
       "0   0         2012  ...            126             76\n",
       "1   1         1999  ...             87             37\n",
       "2   2         2001  ...            138             39\n",
       "3   3         2009  ...            165             67\n",
       "4   4         2004  ...             77             38\n",
       "\n",
       "[5 rows x 6 columns]"
      ]
     },
     "execution_count": 175,
     "metadata": {
      "tags": []
     },
     "output_type": "execute_result"
    }
   ],
   "source": [
    "data_test.head()"
   ]
  },
  {
   "cell_type": "code",
   "execution_count": 0,
   "metadata": {
    "colab": {},
    "colab_type": "code",
    "id": "VVbuiGG-7ni5"
   },
   "outputs": [],
   "source": [
    "pd.DataFrame(data_test).to_csv(\"data_test_with_dict.csv\",sep=',', columns=['id','tokenized_sents','tokenized_sents_new','Negative_Count','Positive_Count'], header=True, index=False)"
   ]
  },
  {
   "cell_type": "code",
   "execution_count": 0,
   "metadata": {
    "colab": {},
    "colab_type": "code",
    "id": "B06PtkMW-AxX"
   },
   "outputs": [],
   "source": [
    "dtest = pd.read_csv(\"data_test_with_dict.csv\", sep= ',')"
   ]
  },
  {
   "cell_type": "code",
   "execution_count": 0,
   "metadata": {
    "colab": {},
    "colab_type": "code",
    "id": "LuMAHiSDNHfQ"
   },
   "outputs": [],
   "source": [
    "data_test_with_dict = pd.read_csv(\"/content/driver/My Drive/phd_data/data_test_with_dict.csv\")"
   ]
  },
  {
   "cell_type": "code",
   "execution_count": 180,
   "metadata": {
    "colab": {
     "base_uri": "https://localhost:8080/",
     "height": 195
    },
    "colab_type": "code",
    "id": "VwPLUnDlT5VJ",
    "outputId": "b0cddaab-f0f7-459d-fa32-6e83cb13dde2"
   },
   "outputs": [
    {
     "data": {
      "text/html": [
       "<div>\n",
       "<style scoped>\n",
       "    .dataframe tbody tr th:only-of-type {\n",
       "        vertical-align: middle;\n",
       "    }\n",
       "\n",
       "    .dataframe tbody tr th {\n",
       "        vertical-align: top;\n",
       "    }\n",
       "\n",
       "    .dataframe thead th {\n",
       "        text-align: right;\n",
       "    }\n",
       "</style>\n",
       "<table border=\"1\" class=\"dataframe\">\n",
       "  <thead>\n",
       "    <tr style=\"text-align: right;\">\n",
       "      <th></th>\n",
       "      <th>id</th>\n",
       "      <th>tokenized_sents</th>\n",
       "      <th>tokenized_sents_new</th>\n",
       "      <th>Negative_Count</th>\n",
       "      <th>Positive_Count</th>\n",
       "    </tr>\n",
       "  </thead>\n",
       "  <tbody>\n",
       "    <tr>\n",
       "      <th>0</th>\n",
       "      <td>0</td>\n",
       "      <td>['form', 'united', 'states', 'securities', 'ex...</td>\n",
       "      <td>['form', 'united', 'states', 'securities', 'ex...</td>\n",
       "      <td>126</td>\n",
       "      <td>76</td>\n",
       "    </tr>\n",
       "    <tr>\n",
       "      <th>1</th>\n",
       "      <td>1</td>\n",
       "      <td>['united', 'states', 'securities', 'exchange',...</td>\n",
       "      <td>['united', 'states', 'securities', 'exchange',...</td>\n",
       "      <td>87</td>\n",
       "      <td>37</td>\n",
       "    </tr>\n",
       "    <tr>\n",
       "      <th>2</th>\n",
       "      <td>2</td>\n",
       "      <td>['range', 'resources', 'corporation', 'form', ...</td>\n",
       "      <td>['range', 'resources', 'corporation', 'form', ...</td>\n",
       "      <td>138</td>\n",
       "      <td>39</td>\n",
       "    </tr>\n",
       "    <tr>\n",
       "      <th>3</th>\n",
       "      <td>3</td>\n",
       "      <td>['united', 'states', 'securities', 'exchange',...</td>\n",
       "      <td>['united', 'states', 'securities', 'exchange',...</td>\n",
       "      <td>165</td>\n",
       "      <td>67</td>\n",
       "    </tr>\n",
       "    <tr>\n",
       "      <th>4</th>\n",
       "      <td>4</td>\n",
       "      <td>['united', 'states', 'securities', 'exchange',...</td>\n",
       "      <td>['united', 'states', 'securities', 'exchange',...</td>\n",
       "      <td>77</td>\n",
       "      <td>38</td>\n",
       "    </tr>\n",
       "  </tbody>\n",
       "</table>\n",
       "</div>"
      ],
      "text/plain": [
       "   id  ... Positive_Count\n",
       "0   0  ...             76\n",
       "1   1  ...             37\n",
       "2   2  ...             39\n",
       "3   3  ...             67\n",
       "4   4  ...             38\n",
       "\n",
       "[5 rows x 5 columns]"
      ]
     },
     "execution_count": 180,
     "metadata": {
      "tags": []
     },
     "output_type": "execute_result"
    }
   ],
   "source": [
    "data_test_with_dict.head()"
   ]
  },
  {
   "cell_type": "code",
   "execution_count": 0,
   "metadata": {
    "colab": {},
    "colab_type": "code",
    "id": "ubS5pXcaT9Y-"
   },
   "outputs": [],
   "source": [
    "q = data_test_with_dict['Negative_Count'].quantile(0.99)"
   ]
  },
  {
   "cell_type": "code",
   "execution_count": 182,
   "metadata": {
    "colab": {
     "base_uri": "https://localhost:8080/",
     "height": 34
    },
    "colab_type": "code",
    "id": "wPAkqBEGT6nl",
    "outputId": "97ddfb19-fe06-41e9-f501-87dae0b0ae50"
   },
   "outputs": [
    {
     "data": {
      "text/plain": [
       "337.9000000000001"
      ]
     },
     "execution_count": 182,
     "metadata": {
      "tags": []
     },
     "output_type": "execute_result"
    }
   ],
   "source": [
    "q"
   ]
  },
  {
   "cell_type": "code",
   "execution_count": 183,
   "metadata": {
    "colab": {
     "base_uri": "https://localhost:8080/",
     "height": 314
    },
    "colab_type": "code",
    "id": "9886L3zhUNpL",
    "outputId": "a34821d1-3696-42be-93ce-4724741fb19c"
   },
   "outputs": [
    {
     "data": {
      "text/html": [
       "<div>\n",
       "<style scoped>\n",
       "    .dataframe tbody tr th:only-of-type {\n",
       "        vertical-align: middle;\n",
       "    }\n",
       "\n",
       "    .dataframe tbody tr th {\n",
       "        vertical-align: top;\n",
       "    }\n",
       "\n",
       "    .dataframe thead th {\n",
       "        text-align: right;\n",
       "    }\n",
       "</style>\n",
       "<table border=\"1\" class=\"dataframe\">\n",
       "  <thead>\n",
       "    <tr style=\"text-align: right;\">\n",
       "      <th></th>\n",
       "      <th>id</th>\n",
       "      <th>tokenized_sents</th>\n",
       "      <th>tokenized_sents_new</th>\n",
       "      <th>Negative_Count</th>\n",
       "      <th>Positive_Count</th>\n",
       "    </tr>\n",
       "  </thead>\n",
       "  <tbody>\n",
       "    <tr>\n",
       "      <th>94</th>\n",
       "      <td>94</td>\n",
       "      <td>['form', 'pagebreak', 'united', 'states', 'sec...</td>\n",
       "      <td>['form', 'pagebreak', 'united', 'states', 'sec...</td>\n",
       "      <td>339</td>\n",
       "      <td>96</td>\n",
       "    </tr>\n",
       "    <tr>\n",
       "      <th>148</th>\n",
       "      <td>148</td>\n",
       "      <td>['public', 'transitional', 'http', 'www', 'org...</td>\n",
       "      <td>['public', 'transitional', 'http', 'www', 'org...</td>\n",
       "      <td>381</td>\n",
       "      <td>87</td>\n",
       "    </tr>\n",
       "    <tr>\n",
       "      <th>256</th>\n",
       "      <td>256</td>\n",
       "      <td>['united', 'states', 'securities', 'exchange',...</td>\n",
       "      <td>['united', 'states', 'securities', 'exchange',...</td>\n",
       "      <td>343</td>\n",
       "      <td>92</td>\n",
       "    </tr>\n",
       "    <tr>\n",
       "      <th>262</th>\n",
       "      <td>262</td>\n",
       "      <td>['form', 'united', 'states', 'securities', 'ex...</td>\n",
       "      <td>['form', 'united', 'states', 'securities', 'ex...</td>\n",
       "      <td>362</td>\n",
       "      <td>83</td>\n",
       "    </tr>\n",
       "    <tr>\n",
       "      <th>388</th>\n",
       "      <td>388</td>\n",
       "      <td>['form', 'united', 'states', 'securities', 'ex...</td>\n",
       "      <td>['form', 'united', 'states', 'securities', 'ex...</td>\n",
       "      <td>375</td>\n",
       "      <td>88</td>\n",
       "    </tr>\n",
       "    <tr>\n",
       "      <th>405</th>\n",
       "      <td>405</td>\n",
       "      <td>['form', 'united', 'states', 'securities', 'ex...</td>\n",
       "      <td>['form', 'united', 'states', 'securities', 'ex...</td>\n",
       "      <td>362</td>\n",
       "      <td>98</td>\n",
       "    </tr>\n",
       "    <tr>\n",
       "      <th>515</th>\n",
       "      <td>515</td>\n",
       "      <td>['form', 'united', 'states', 'securities', 'ex...</td>\n",
       "      <td>['form', 'united', 'states', 'securities', 'ex...</td>\n",
       "      <td>376</td>\n",
       "      <td>89</td>\n",
       "    </tr>\n",
       "    <tr>\n",
       "      <th>781</th>\n",
       "      <td>781</td>\n",
       "      <td>['form', 'united', 'states', 'securities', 'ex...</td>\n",
       "      <td>['form', 'united', 'states', 'securities', 'ex...</td>\n",
       "      <td>352</td>\n",
       "      <td>99</td>\n",
       "    </tr>\n",
       "    <tr>\n",
       "      <th>811</th>\n",
       "      <td>811</td>\n",
       "      <td>['form', 'united', 'states', 'securities', 'ex...</td>\n",
       "      <td>['form', 'united', 'states', 'securities', 'ex...</td>\n",
       "      <td>343</td>\n",
       "      <td>96</td>\n",
       "    </tr>\n",
       "  </tbody>\n",
       "</table>\n",
       "</div>"
      ],
      "text/plain": [
       "      id  ... Positive_Count\n",
       "94    94  ...             96\n",
       "148  148  ...             87\n",
       "256  256  ...             92\n",
       "262  262  ...             83\n",
       "388  388  ...             88\n",
       "405  405  ...             98\n",
       "515  515  ...             89\n",
       "781  781  ...             99\n",
       "811  811  ...             96\n",
       "\n",
       "[9 rows x 5 columns]"
      ]
     },
     "execution_count": 183,
     "metadata": {
      "tags": []
     },
     "output_type": "execute_result"
    }
   ],
   "source": [
    "data_test_with_dict[data_test_with_dict['Negative_Count']>q]"
   ]
  },
  {
   "cell_type": "code",
   "execution_count": 0,
   "metadata": {
    "colab": {},
    "colab_type": "code",
    "id": "M6RBSSWkU9yI"
   },
   "outputs": [],
   "source": [
    "r = data_test_with_dict['Positive_Count'].quantile(0.99)"
   ]
  },
  {
   "cell_type": "code",
   "execution_count": 185,
   "metadata": {
    "colab": {
     "base_uri": "https://localhost:8080/",
     "height": 34
    },
    "colab_type": "code",
    "id": "F2fybv2LYjSr",
    "outputId": "c89e6ff0-f39a-4247-9da2-64a3a07ee8f5"
   },
   "outputs": [
    {
     "data": {
      "text/plain": [
       "96.0"
      ]
     },
     "execution_count": 185,
     "metadata": {
      "tags": []
     },
     "output_type": "execute_result"
    }
   ],
   "source": [
    "r"
   ]
  },
  {
   "cell_type": "code",
   "execution_count": 186,
   "metadata": {
    "colab": {
     "base_uri": "https://localhost:8080/",
     "height": 284
    },
    "colab_type": "code",
    "id": "E1Ru80OYYbg1",
    "outputId": "5426fec2-377a-4f83-aa44-8496edd183ee"
   },
   "outputs": [
    {
     "data": {
      "text/html": [
       "<div>\n",
       "<style scoped>\n",
       "    .dataframe tbody tr th:only-of-type {\n",
       "        vertical-align: middle;\n",
       "    }\n",
       "\n",
       "    .dataframe tbody tr th {\n",
       "        vertical-align: top;\n",
       "    }\n",
       "\n",
       "    .dataframe thead th {\n",
       "        text-align: right;\n",
       "    }\n",
       "</style>\n",
       "<table border=\"1\" class=\"dataframe\">\n",
       "  <thead>\n",
       "    <tr style=\"text-align: right;\">\n",
       "      <th></th>\n",
       "      <th>id</th>\n",
       "      <th>tokenized_sents</th>\n",
       "      <th>tokenized_sents_new</th>\n",
       "      <th>Negative_Count</th>\n",
       "      <th>Positive_Count</th>\n",
       "    </tr>\n",
       "  </thead>\n",
       "  <tbody>\n",
       "    <tr>\n",
       "      <th>136</th>\n",
       "      <td>136</td>\n",
       "      <td>['public', 'transitional', 'http', 'www', 'org...</td>\n",
       "      <td>['public', 'transitional', 'http', 'www', 'org...</td>\n",
       "      <td>333</td>\n",
       "      <td>103</td>\n",
       "    </tr>\n",
       "    <tr>\n",
       "      <th>331</th>\n",
       "      <td>331</td>\n",
       "      <td>['cigna', 'corporation', 'form', 'united', 'st...</td>\n",
       "      <td>['cigna', 'corporation', 'form', 'united', 'st...</td>\n",
       "      <td>275</td>\n",
       "      <td>98</td>\n",
       "    </tr>\n",
       "    <tr>\n",
       "      <th>343</th>\n",
       "      <td>343</td>\n",
       "      <td>['public', 'transitional', 'http', 'www', 'org...</td>\n",
       "      <td>['public', 'transitional', 'http', 'www', 'org...</td>\n",
       "      <td>179</td>\n",
       "      <td>98</td>\n",
       "    </tr>\n",
       "    <tr>\n",
       "      <th>405</th>\n",
       "      <td>405</td>\n",
       "      <td>['form', 'united', 'states', 'securities', 'ex...</td>\n",
       "      <td>['form', 'united', 'states', 'securities', 'ex...</td>\n",
       "      <td>362</td>\n",
       "      <td>98</td>\n",
       "    </tr>\n",
       "    <tr>\n",
       "      <th>519</th>\n",
       "      <td>519</td>\n",
       "      <td>['form', 'united', 'states', 'securities', 'ex...</td>\n",
       "      <td>['form', 'united', 'states', 'securities', 'ex...</td>\n",
       "      <td>323</td>\n",
       "      <td>100</td>\n",
       "    </tr>\n",
       "    <tr>\n",
       "      <th>746</th>\n",
       "      <td>746</td>\n",
       "      <td>['public', 'transitional', 'http', 'www', 'org...</td>\n",
       "      <td>['public', 'transitional', 'http', 'www', 'org...</td>\n",
       "      <td>275</td>\n",
       "      <td>97</td>\n",
       "    </tr>\n",
       "    <tr>\n",
       "      <th>781</th>\n",
       "      <td>781</td>\n",
       "      <td>['form', 'united', 'states', 'securities', 'ex...</td>\n",
       "      <td>['form', 'united', 'states', 'securities', 'ex...</td>\n",
       "      <td>352</td>\n",
       "      <td>99</td>\n",
       "    </tr>\n",
       "    <tr>\n",
       "      <th>786</th>\n",
       "      <td>786</td>\n",
       "      <td>['form', 'united', 'states', 'securities', 'ex...</td>\n",
       "      <td>['form', 'united', 'states', 'securities', 'ex...</td>\n",
       "      <td>332</td>\n",
       "      <td>98</td>\n",
       "    </tr>\n",
       "  </tbody>\n",
       "</table>\n",
       "</div>"
      ],
      "text/plain": [
       "      id  ... Positive_Count\n",
       "136  136  ...            103\n",
       "331  331  ...             98\n",
       "343  343  ...             98\n",
       "405  405  ...             98\n",
       "519  519  ...            100\n",
       "746  746  ...             97\n",
       "781  781  ...             99\n",
       "786  786  ...             98\n",
       "\n",
       "[8 rows x 5 columns]"
      ]
     },
     "execution_count": 186,
     "metadata": {
      "tags": []
     },
     "output_type": "execute_result"
    }
   ],
   "source": [
    "data_test_with_dict[data_test_with_dict['Positive_Count']>r]"
   ]
  },
  {
   "cell_type": "code",
   "execution_count": 0,
   "metadata": {
    "colab": {},
    "colab_type": "code",
    "id": "CN7K0Fn-Ygo0"
   },
   "outputs": [],
   "source": []
  }
 ],
 "metadata": {
  "accelerator": "TPU",
  "colab": {
   "collapsed_sections": [],
   "machine_shape": "hm",
   "name": "Kunal_B66_PHD (3).ipynb",
   "provenance": []
  },
  "kernelspec": {
   "display_name": "Python 3 (ipykernel)",
   "language": "python",
   "name": "python3"
  },
  "language_info": {
   "codemirror_mode": {
    "name": "ipython",
    "version": 3
   },
   "file_extension": ".py",
   "mimetype": "text/x-python",
   "name": "python",
   "nbconvert_exporter": "python",
   "pygments_lexer": "ipython3",
   "version": "3.9.7"
  }
 },
 "nbformat": 4,
 "nbformat_minor": 1
}
